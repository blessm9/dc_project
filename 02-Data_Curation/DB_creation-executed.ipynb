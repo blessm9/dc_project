{
 "cells": [
  {
   "cell_type": "markdown",
   "id": "52711e4d",
   "metadata": {
    "editable": true,
    "papermill": {
     "duration": 0.038718,
     "end_time": "2024-05-21T13:10:37.700438",
     "exception": false,
     "start_time": "2024-05-21T13:10:37.661720",
     "status": "completed"
    },
    "slideshow": {
     "slide_type": ""
    },
    "tags": []
   },
   "source": [
    "# Create SQLite database\n",
    "For better efficency in storing and a unfied db for all teammembers to use. Idea is to use this as a universal starting point for every analysis\n"
   ]
  },
  {
   "cell_type": "code",
   "execution_count": 1,
   "id": "bdcc6505-9cf5-43ca-a683-b7c8acda01bd",
   "metadata": {
    "editable": true,
    "execution": {
     "iopub.execute_input": "2024-05-21T13:10:37.761522Z",
     "iopub.status.busy": "2024-05-21T13:10:37.761065Z",
     "iopub.status.idle": "2024-05-21T13:10:37.772774Z",
     "shell.execute_reply": "2024-05-21T13:10:37.771281Z"
    },
    "jupyter": {
     "source_hidden": true
    },
    "papermill": {
     "duration": 0.039905,
     "end_time": "2024-05-21T13:10:37.775510",
     "exception": false,
     "start_time": "2024-05-21T13:10:37.735605",
     "status": "completed"
    },
    "slideshow": {
     "slide_type": ""
    },
    "tags": [
     "parameters"
    ]
   },
   "outputs": [],
   "source": [
    "virtual_env = \"False\""
   ]
  },
  {
   "cell_type": "code",
   "execution_count": 2,
   "id": "71fdd7e2",
   "metadata": {
    "execution": {
     "iopub.execute_input": "2024-05-21T13:10:37.809566Z",
     "iopub.status.busy": "2024-05-21T13:10:37.809107Z",
     "iopub.status.idle": "2024-05-21T13:10:37.815214Z",
     "shell.execute_reply": "2024-05-21T13:10:37.813784Z"
    },
    "jupyter": {
     "source_hidden": true
    },
    "papermill": {
     "duration": 0.0322,
     "end_time": "2024-05-21T13:10:37.817667",
     "exception": false,
     "start_time": "2024-05-21T13:10:37.785467",
     "status": "completed"
    },
    "tags": [
     "injected-parameters"
    ]
   },
   "outputs": [],
   "source": [
    "# Parameters\n",
    "execution_date = \"{{ execution_date }}\"\n",
    "virtual_env = \"True\"\n"
   ]
  },
  {
   "cell_type": "code",
   "execution_count": 3,
   "id": "1ff810ea",
   "metadata": {
    "editable": true,
    "execution": {
     "iopub.execute_input": "2024-05-21T13:10:37.850734Z",
     "iopub.status.busy": "2024-05-21T13:10:37.850208Z",
     "iopub.status.idle": "2024-05-21T13:10:38.757712Z",
     "shell.execute_reply": "2024-05-21T13:10:38.756153Z"
    },
    "jupyter": {
     "source_hidden": true
    },
    "papermill": {
     "duration": 0.932258,
     "end_time": "2024-05-21T13:10:38.760403",
     "exception": false,
     "start_time": "2024-05-21T13:10:37.828145",
     "status": "completed"
    },
    "slideshow": {
     "slide_type": ""
    },
    "tags": []
   },
   "outputs": [
    {
     "name": "stdout",
     "output_type": "stream",
     "text": [
      "/usr/local/airflow\n"
     ]
    },
    {
     "data": {
      "text/plain": [
       "13966"
      ]
     },
     "execution_count": 3,
     "metadata": {},
     "output_type": "execute_result"
    }
   ],
   "source": [
    "import sqlite3\n",
    "import pandas as pd\n",
    "import os\n",
    "\n",
    "print(os.getcwd())\n",
    "\n",
    "# Creating empty data base\n",
    "con = sqlite3.connect(\"unified.db\")\n",
    "cur = con.cursor()\n",
    "\n",
    "# Load data from CSV into a pandas DataFrame\n",
    "if virtual_env == \"True\":\n",
    "    df = pd.read_csv(\"/mnt/01-Data_Extraction/new_data_pos_neg.csv\")\n",
    "else:   \n",
    "    df = pd.read_csv(\"../01-Data_Extraction/new_data_pos_neg.csv\")\n",
    "\n",
    "\n",
    "\n",
    "# Write the data from pandas DataFrame to SQL table\n",
    "df.to_sql(\"initial\", con, if_exists='replace', index=False)"
   ]
  },
  {
   "cell_type": "markdown",
   "id": "82d566a8",
   "metadata": {
    "papermill": {
     "duration": 0.027364,
     "end_time": "2024-05-21T13:10:38.796793",
     "exception": false,
     "start_time": "2024-05-21T13:10:38.769429",
     "status": "completed"
    },
    "tags": []
   },
   "source": [
    "# Validate no data was lost during transfer"
   ]
  },
  {
   "cell_type": "code",
   "execution_count": 4,
   "id": "732fae05",
   "metadata": {
    "execution": {
     "iopub.execute_input": "2024-05-21T13:10:38.838425Z",
     "iopub.status.busy": "2024-05-21T13:10:38.837828Z",
     "iopub.status.idle": "2024-05-21T13:10:38.851619Z",
     "shell.execute_reply": "2024-05-21T13:10:38.850449Z"
    },
    "jupyter": {
     "source_hidden": true
    },
    "papermill": {
     "duration": 0.037311,
     "end_time": "2024-05-21T13:10:38.854109",
     "exception": false,
     "start_time": "2024-05-21T13:10:38.816798",
     "status": "completed"
    },
    "tags": []
   },
   "outputs": [
    {
     "name": "stdout",
     "output_type": "stream",
     "text": [
      "Found 13966 in csv files.\n",
      "Found 13966 in sqlite db.\n",
      "meaning that 100.0 % was transfered\n"
     ]
    },
    {
     "name": "stderr",
     "output_type": "stream",
     "text": [
      "/tmp/ipykernel_1774/655335126.py:1: FutureWarning: Series.__getitem__ treating keys as positions is deprecated. In a future version, integer keys will always be treated as labels (consistent with DataFrame behavior). To access a value by position, use `ser.iloc[pos]`\n",
      "  amount_in_csv =  df.count()[0]\n"
     ]
    }
   ],
   "source": [
    "amount_in_csv =  df.count()[0]\n",
    "cur.execute(\"SELECT count(*) from initial;\")\n",
    "amount_in_db = cur.fetchone()[0]\n",
    "\n",
    "print(f\"Found {amount_in_csv} in csv files.\\nFound {amount_in_db} in sqlite db.\\nmeaning that {amount_in_db / amount_in_csv * 100} % was transfered\")"
   ]
  },
  {
   "cell_type": "code",
   "execution_count": null,
   "id": "b59424aa-ab39-4dc4-8266-f07346502b86",
   "metadata": {
    "jupyter": {
     "source_hidden": true
    },
    "papermill": {
     "duration": 0.017756,
     "end_time": "2024-05-21T13:10:38.880209",
     "exception": false,
     "start_time": "2024-05-21T13:10:38.862453",
     "status": "completed"
    },
    "tags": []
   },
   "outputs": [],
   "source": []
  }
 ],
 "metadata": {
  "kernelspec": {
   "display_name": "Python 3 (ipykernel)",
   "language": "python",
   "name": "python3"
  },
  "language_info": {
   "codemirror_mode": {
    "name": "ipython",
    "version": 3
   },
   "file_extension": ".py",
   "mimetype": "text/x-python",
   "name": "python",
   "nbconvert_exporter": "python",
   "pygments_lexer": "ipython3",
   "version": "3.11.9"
  },
  "papermill": {
   "default_parameters": {},
   "duration": 2.945582,
   "end_time": "2024-05-21T13:10:39.224305",
   "environment_variables": {},
   "exception": null,
   "input_path": "/mnt/02-Data_Curation/DB_creation.ipynb",
   "output_path": "/mnt/02-Data_Curation/DB_creation-executed.ipynb",
   "parameters": {
    "execution_date": "{{ execution_date }}",
    "virtual_env": "True"
   },
   "start_time": "2024-05-21T13:10:36.278723",
   "version": "2.6.0"
  }
 },
 "nbformat": 4,
 "nbformat_minor": 5
}