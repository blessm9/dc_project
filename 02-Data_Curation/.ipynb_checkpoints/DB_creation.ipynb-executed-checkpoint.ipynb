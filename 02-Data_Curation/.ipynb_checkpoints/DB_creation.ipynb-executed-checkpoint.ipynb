{
 "cells": [
  {
   "cell_type": "markdown",
   "id": "c82989a3",
   "metadata": {
    "tags": [
     "papermill-error-cell-tag"
    ]
   },
   "source": [
    "<span style=\"color:red; font-family:Helvetica Neue, Helvetica, Arial, sans-serif; font-size:2em;\">An Exception was encountered at '<a href=\"#papermill-error-cell\">In [2]</a>'.</span>"
   ]
  },
  {
   "cell_type": "markdown",
   "id": "52711e4d",
   "metadata": {
    "editable": true,
    "papermill": {
     "duration": 0.005818,
     "end_time": "2024-05-21T11:40:24.009139",
     "exception": false,
     "start_time": "2024-05-21T11:40:24.003321",
     "status": "completed"
    },
    "slideshow": {
     "slide_type": ""
    },
    "tags": [
     "parameters"
    ]
   },
   "source": [
    "# Create SQLite database\n",
    "For better efficency in storing and a unfied db for all teammembers to use. Idea is to use this as a universal starting point for every analysis\n"
   ]
  },
  {
   "cell_type": "code",
   "execution_count": 1,
   "id": "faf2fe5d",
   "metadata": {
    "execution": {
     "iopub.execute_input": "2024-05-21T11:40:24.039280Z",
     "iopub.status.busy": "2024-05-21T11:40:24.039065Z",
     "iopub.status.idle": "2024-05-21T11:40:24.045615Z",
     "shell.execute_reply": "2024-05-21T11:40:24.044756Z"
    },
    "jupyter": {
     "source_hidden": true
    },
    "papermill": {
     "duration": 0.023811,
     "end_time": "2024-05-21T11:40:24.047056",
     "exception": false,
     "start_time": "2024-05-21T11:40:24.023245",
     "status": "completed"
    },
    "tags": [
     "injected-parameters"
    ]
   },
   "outputs": [],
   "source": [
    "# Parameters\n",
    "execution_date = \"2024-05-21 11:40:22.384353+00:00\"\n"
   ]
  },
  {
   "cell_type": "markdown",
   "id": "ec4e11a8",
   "metadata": {
    "tags": [
     "papermill-error-cell-tag"
    ]
   },
   "source": [
    "<span id=\"papermill-error-cell\" style=\"color:red; font-family:Helvetica Neue, Helvetica, Arial, sans-serif; font-size:2em;\">Execution using papermill encountered an exception here and stopped:</span>"
   ]
  },
  {
   "cell_type": "code",
   "execution_count": 2,
   "id": "1ff810ea",
   "metadata": {
    "editable": true,
    "execution": {
     "iopub.execute_input": "2024-05-21T11:40:24.072653Z",
     "iopub.status.busy": "2024-05-21T11:40:24.072374Z",
     "iopub.status.idle": "2024-05-21T11:40:24.502533Z",
     "shell.execute_reply": "2024-05-21T11:40:24.501836Z"
    },
    "jupyter": {
     "source_hidden": true
    },
    "papermill": {
     "duration": 0.449758,
     "end_time": "2024-05-21T11:40:24.503391",
     "exception": true,
     "start_time": "2024-05-21T11:40:24.053633",
     "status": "failed"
    },
    "slideshow": {
     "slide_type": ""
    },
    "tags": []
   },
   "outputs": [
    {
     "name": "stdout",
     "output_type": "stream",
     "text": [
      "/usr/local/airflow\n"
     ]
    },
    {
     "ename": "NameError",
     "evalue": "name 'virtual_env' is not defined",
     "output_type": "error",
     "traceback": [
      "\u001b[0;31m---------------------------------------------------------------------------\u001b[0m",
      "\u001b[0;31mNameError\u001b[0m                                 Traceback (most recent call last)",
      "Cell \u001b[0;32mIn[2], line 12\u001b[0m\n\u001b[1;32m      9\u001b[0m cur \u001b[38;5;241m=\u001b[39m con\u001b[38;5;241m.\u001b[39mcursor()\n\u001b[1;32m     11\u001b[0m \u001b[38;5;66;03m# Load data from CSV into a pandas DataFrame\u001b[39;00m\n\u001b[0;32m---> 12\u001b[0m \u001b[38;5;28;01mif\u001b[39;00m \u001b[43mvirtual_env\u001b[49m \u001b[38;5;241m==\u001b[39m \u001b[38;5;124m\"\u001b[39m\u001b[38;5;124mTrue\u001b[39m\u001b[38;5;124m\"\u001b[39m:\n\u001b[1;32m     13\u001b[0m     df \u001b[38;5;241m=\u001b[39m pd\u001b[38;5;241m.\u001b[39mread_csv(\u001b[38;5;124m\"\u001b[39m\u001b[38;5;124m/mnt/01-Data_Extraction/new_data_pos_neg.csv\u001b[39m\u001b[38;5;124m\"\u001b[39m)\n\u001b[1;32m     14\u001b[0m \u001b[38;5;28;01melse\u001b[39;00m:   \n",
      "\u001b[0;31mNameError\u001b[0m: name 'virtual_env' is not defined"
     ]
    }
   ],
   "source": [
    "import sqlite3\n",
    "import pandas as pd\n",
    "import os\n",
    "\n",
    "print(os.getcwd())\n",
    "\n",
    "# Creating empty data base\n",
    "con = sqlite3.connect(\"unified.db\")\n",
    "cur = con.cursor()\n",
    "\n",
    "# Load data from CSV into a pandas DataFrame\n",
    "if virtual_env == \"True\":\n",
    "    df = pd.read_csv(\"/mnt/01-Data_Extraction/new_data_pos_neg.csv\")\n",
    "else:   \n",
    "    df = pd.read_csv(\"../01-Data_Extraction/new_data_pos_neg.csv\")\n",
    "\n",
    "\n",
    "\n",
    "# Write the data from pandas DataFrame to SQL table\n",
    "df.to_sql(\"initial\", con, if_exists='replace', index=False)"
   ]
  },
  {
   "cell_type": "markdown",
   "id": "82d566a8",
   "metadata": {
    "papermill": {
     "duration": null,
     "end_time": null,
     "exception": null,
     "start_time": null,
     "status": "pending"
    },
    "tags": []
   },
   "source": [
    "# Validate no data was lost during transfer"
   ]
  },
  {
   "cell_type": "code",
   "execution_count": null,
   "id": "732fae05",
   "metadata": {
    "execution": {
     "iopub.execute_input": "2024-05-17T14:07:25.281293Z",
     "iopub.status.busy": "2024-05-17T14:07:25.280739Z",
     "iopub.status.idle": "2024-05-17T14:07:25.303159Z",
     "shell.execute_reply": "2024-05-17T14:07:25.300835Z"
    },
    "jupyter": {
     "source_hidden": true
    },
    "papermill": {
     "duration": null,
     "end_time": null,
     "exception": null,
     "start_time": null,
     "status": "pending"
    },
    "tags": []
   },
   "outputs": [],
   "source": [
    "amount_in_csv =  df.count()[0]\n",
    "cur.execute(\"SELECT count(*) from initial;\")\n",
    "amount_in_db = cur.fetchone()[0]\n",
    "\n",
    "print(f\"Found {amount_in_csv} in csv files.\\nFound {amount_in_db} in sqlite db.\\nmeaning that {amount_in_db / amount_in_csv * 100} % was transfered\")"
   ]
  },
  {
   "cell_type": "code",
   "execution_count": null,
   "id": "b59424aa-ab39-4dc4-8266-f07346502b86",
   "metadata": {
    "jupyter": {
     "source_hidden": true
    },
    "papermill": {
     "duration": null,
     "end_time": null,
     "exception": null,
     "start_time": null,
     "status": "pending"
    },
    "tags": []
   },
   "outputs": [],
   "source": []
  }
 ],
 "metadata": {
  "kernelspec": {
   "display_name": "Python 3 (ipykernel)",
   "language": "python",
   "name": "python3"
  },
  "language_info": {
   "codemirror_mode": {
    "name": "ipython",
    "version": 3
   },
   "file_extension": ".py",
   "mimetype": "text/x-python",
   "name": "python",
   "nbconvert_exporter": "python",
   "pygments_lexer": "ipython3",
   "version": "3.11.9"
  },
  "papermill": {
   "default_parameters": {},
   "duration": 1.413764,
   "end_time": "2024-05-21T11:40:24.727375",
   "environment_variables": {},
   "exception": true,
   "input_path": "/mnt/02-Data_Curation/DB_creation.ipynb",
   "output_path": "/mnt/02-Data_Curation/DB_creation.ipynb-executed.ipynb",
   "parameters": {
    "execution_date": "2024-05-21 11:40:22.384353+00:00"
   },
   "start_time": "2024-05-21T11:40:23.313611",
   "version": "2.6.0"
  }
 },
 "nbformat": 4,
 "nbformat_minor": 5
}