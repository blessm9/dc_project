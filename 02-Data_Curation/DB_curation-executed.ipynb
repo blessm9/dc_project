{
 "cells": [
  {
   "cell_type": "markdown",
   "id": "21ce7422",
   "metadata": {
    "papermill": {
     "duration": 0.02069,
     "end_time": "2024-05-21T13:10:42.768351",
     "exception": false,
     "start_time": "2024-05-21T13:10:42.747661",
     "status": "completed"
    },
    "tags": []
   },
   "source": [
    "# Data curation\n",
    "\n",
    "Goal: Process the data from the raw database to make it ready for data analysis. This new database will be called prod"
   ]
  },
  {
   "cell_type": "code",
   "execution_count": 1,
   "id": "d4eaceb5",
   "metadata": {
    "execution": {
     "iopub.execute_input": "2024-05-21T13:10:42.830996Z",
     "iopub.status.busy": "2024-05-21T13:10:42.830046Z",
     "iopub.status.idle": "2024-05-21T13:10:42.841627Z",
     "shell.execute_reply": "2024-05-21T13:10:42.839992Z"
    },
    "jupyter": {
     "source_hidden": true
    },
    "papermill": {
     "duration": 0.040258,
     "end_time": "2024-05-21T13:10:42.844015",
     "exception": false,
     "start_time": "2024-05-21T13:10:42.803757",
     "status": "completed"
    },
    "tags": [
     "parameters"
    ]
   },
   "outputs": [],
   "source": [
    "virtual_env = \"False\""
   ]
  },
  {
   "cell_type": "code",
   "execution_count": 2,
   "id": "66eac34e",
   "metadata": {
    "execution": {
     "iopub.execute_input": "2024-05-21T13:10:42.884922Z",
     "iopub.status.busy": "2024-05-21T13:10:42.883892Z",
     "iopub.status.idle": "2024-05-21T13:10:42.889398Z",
     "shell.execute_reply": "2024-05-21T13:10:42.888320Z"
    },
    "jupyter": {
     "source_hidden": true
    },
    "papermill": {
     "duration": 0.03333,
     "end_time": "2024-05-21T13:10:42.894284",
     "exception": false,
     "start_time": "2024-05-21T13:10:42.860954",
     "status": "completed"
    },
    "tags": [
     "injected-parameters"
    ]
   },
   "outputs": [],
   "source": [
    "# Parameters\n",
    "execution_date = \"{{ execution_date }}\"\n",
    "virtual_env = \"True\"\n"
   ]
  },
  {
   "cell_type": "code",
   "execution_count": 3,
   "id": "7222f157",
   "metadata": {
    "execution": {
     "iopub.execute_input": "2024-05-21T13:10:42.931782Z",
     "iopub.status.busy": "2024-05-21T13:10:42.930851Z",
     "iopub.status.idle": "2024-05-21T13:10:43.499136Z",
     "shell.execute_reply": "2024-05-21T13:10:43.497995Z"
    },
    "jupyter": {
     "source_hidden": true
    },
    "papermill": {
     "duration": 0.59153,
     "end_time": "2024-05-21T13:10:43.501496",
     "exception": false,
     "start_time": "2024-05-21T13:10:42.909966",
     "status": "completed"
    },
    "tags": []
   },
   "outputs": [
    {
     "name": "stdout",
     "output_type": "stream",
     "text": [
      "Table 'prod' already exists.\n"
     ]
    }
   ],
   "source": [
    "# Data curation\n",
    "import sqlite3\n",
    "\n",
    "# Used for pretty printing\n",
    "import pandas as pd\n",
    "\n",
    "# Creating empty data base\n",
    "if virtual_env == \"True\":\n",
    "    con = sqlite3.connect(\"/mnt/02-Data_Curation/unified.db\")\n",
    "con = sqlite3.connect(\"unified.db\")\n",
    "cur = con.cursor()\n",
    "\n",
    "# Enable REGEX for sqlite\n",
    "import re\n",
    "\n",
    "\n",
    "def regexp(expr, item):\n",
    "    reg = re.compile(expr)\n",
    "    return reg.search(item) is not None\n",
    "\n",
    "con.create_function(\"REGEXP\", 2, regexp)\n",
    "\n",
    "# Create new table and check for multiple executions\n",
    "cur.execute(\"SELECT name FROM sqlite_master WHERE type='table' AND name='prod'\")\n",
    "if not cur.fetchone():  # If the fetch returns None, table does not exist\n",
    "    cur.execute(\"CREATE TABLE prod AS SELECT * FROM initial\")\n",
    "    print(\"Table 'prod' created successfully.\")\n",
    "else:\n",
    "    print(\"Table 'prod' already exists.\")\n",
    "\n"
   ]
  },
  {
   "cell_type": "markdown",
   "id": "87a97fed",
   "metadata": {
    "papermill": {
     "duration": 0.022069,
     "end_time": "2024-05-21T13:10:43.536782",
     "exception": false,
     "start_time": "2024-05-21T13:10:43.514713",
     "status": "completed"
    },
    "tags": []
   },
   "source": [
    "## Valid sequences\n",
    "\n",
    "Check wether sequence only contains valid amino acids and no whitespaces or any other letters not being valid AA's."
   ]
  },
  {
   "cell_type": "code",
   "execution_count": 4,
   "id": "50a80598",
   "metadata": {
    "execution": {
     "iopub.execute_input": "2024-05-21T13:10:43.586184Z",
     "iopub.status.busy": "2024-05-21T13:10:43.585533Z",
     "iopub.status.idle": "2024-05-21T13:10:43.634504Z",
     "shell.execute_reply": "2024-05-21T13:10:43.633086Z"
    },
    "jupyter": {
     "source_hidden": true
    },
    "papermill": {
     "duration": 0.08211,
     "end_time": "2024-05-21T13:10:43.637100",
     "exception": false,
     "start_time": "2024-05-21T13:10:43.554990",
     "status": "completed"
    },
    "tags": []
   },
   "outputs": [
    {
     "data": {
      "text/html": [
       "<div>\n",
       "<style scoped>\n",
       "    .dataframe tbody tr th:only-of-type {\n",
       "        vertical-align: middle;\n",
       "    }\n",
       "\n",
       "    .dataframe tbody tr th {\n",
       "        vertical-align: top;\n",
       "    }\n",
       "\n",
       "    .dataframe thead th {\n",
       "        text-align: right;\n",
       "    }\n",
       "</style>\n",
       "<table border=\"1\" class=\"dataframe\">\n",
       "  <thead>\n",
       "    <tr style=\"text-align: right;\">\n",
       "      <th></th>\n",
       "      <th>id</th>\n",
       "      <th>name</th>\n",
       "      <th>AB</th>\n",
       "      <th>description</th>\n",
       "      <th>OX</th>\n",
       "      <th>dataset</th>\n",
       "      <th>seq</th>\n",
       "      <th>seq_len</th>\n",
       "    </tr>\n",
       "  </thead>\n",
       "  <tbody>\n",
       "  </tbody>\n",
       "</table>\n",
       "</div>"
      ],
      "text/plain": [
       "Empty DataFrame\n",
       "Columns: [id, name, AB, description, OX, dataset, seq, seq_len]\n",
       "Index: []"
      ]
     },
     "execution_count": 4,
     "metadata": {},
     "output_type": "execute_result"
    }
   ],
   "source": [
    "# This query checks if there are any symbols other the the valid aa code\n",
    "pd.read_sql_query(\"\"\"SELECT *\n",
    "                FROM initial\n",
    "                WHERE seq REGEXP '[^ARNDCEQGHILKMFPSTWYV]'; \n",
    "\"\"\", con)\n",
    " # WHERE seq REGEXP '[^ARNDCEQGHILKMFPSTWYV]'; to not include X\n",
    "\n"
   ]
  },
  {
   "cell_type": "markdown",
   "id": "15b5cb40",
   "metadata": {
    "papermill": {
     "duration": 0.021181,
     "end_time": "2024-05-21T13:10:43.672155",
     "exception": false,
     "start_time": "2024-05-21T13:10:43.650974",
     "status": "completed"
    },
    "tags": []
   },
   "source": [
    "Problems found in seq:\n",
    "* non capitalized letters\n",
    "* the letter X and B in seq\n",
    "\n"
   ]
  },
  {
   "cell_type": "markdown",
   "id": "401d3341",
   "metadata": {
    "papermill": {
     "duration": 0.017038,
     "end_time": "2024-05-21T13:10:43.707853",
     "exception": false,
     "start_time": "2024-05-21T13:10:43.690815",
     "status": "completed"
    },
    "tags": []
   },
   "source": [
    "# The lower case problem\n",
    "This can be solved pretty easy by just replacing all the lowercase seqences with upper case ones.\n"
   ]
  },
  {
   "cell_type": "code",
   "execution_count": 5,
   "id": "45bcde71",
   "metadata": {
    "execution": {
     "iopub.execute_input": "2024-05-21T13:10:43.751779Z",
     "iopub.status.busy": "2024-05-21T13:10:43.749882Z",
     "iopub.status.idle": "2024-05-21T13:10:43.763099Z",
     "shell.execute_reply": "2024-05-21T13:10:43.761439Z"
    },
    "jupyter": {
     "source_hidden": true
    },
    "papermill": {
     "duration": 0.035785,
     "end_time": "2024-05-21T13:10:43.765317",
     "exception": false,
     "start_time": "2024-05-21T13:10:43.729532",
     "status": "completed"
    },
    "tags": []
   },
   "outputs": [
    {
     "name": "stdout",
     "output_type": "stream",
     "text": [
      "[]\n"
     ]
    }
   ],
   "source": [
    "cur.execute(\"\"\"\n",
    "UPDATE initial\n",
    "SET seq = UPPER(seq)\n",
    "WHERE seq != UPPER(seq);\n",
    "\"\"\")\n",
    "\n",
    "print(cur.fetchall())"
   ]
  },
  {
   "cell_type": "markdown",
   "id": "bb736efb",
   "metadata": {
    "papermill": {
     "duration": 0.019188,
     "end_time": "2024-05-21T13:10:43.798008",
     "exception": false,
     "start_time": "2024-05-21T13:10:43.778820",
     "status": "completed"
    },
    "tags": []
   },
   "source": [
    "# The other constraints\n",
    "Idea is to add a new col called valid. This either says yes or no including the reason why not."
   ]
  },
  {
   "cell_type": "code",
   "execution_count": 6,
   "id": "48ea8224",
   "metadata": {
    "execution": {
     "iopub.execute_input": "2024-05-21T13:10:43.840352Z",
     "iopub.status.busy": "2024-05-21T13:10:43.839903Z",
     "iopub.status.idle": "2024-05-21T13:10:43.932437Z",
     "shell.execute_reply": "2024-05-21T13:10:43.931036Z"
    },
    "jupyter": {
     "source_hidden": true
    },
    "papermill": {
     "duration": 0.119046,
     "end_time": "2024-05-21T13:10:43.934715",
     "exception": false,
     "start_time": "2024-05-21T13:10:43.815669",
     "status": "completed"
    },
    "tags": []
   },
   "outputs": [
    {
     "data": {
      "text/plain": [
       "<sqlite3.Cursor at 0x7efce5f7e740>"
      ]
     },
     "execution_count": 6,
     "metadata": {},
     "output_type": "execute_result"
    }
   ],
   "source": [
    "# create col\n",
    "cur.execute(\"\"\"\n",
    "ALTER TABLE initial\n",
    "ADD COLUMN valid TEXT DEFAULT 'yes';\n",
    "\"\"\")\n",
    "\n",
    "# update col\n",
    "cur.execute(\"\"\"\n",
    "UPDATE initial\n",
    "SET valid = CASE \n",
    "    WHEN AB NOT IN (0, 1) THEN 'Invalid AB value'\n",
    "    WHEN dataset IS NULL THEN 'Dataset is null'\n",
    "    WHEN LENGTH(seq) < 1 OR LENGTH(seq) > 200 THEN 'Invalid seq length'\n",
    "    WHEN seq REGEXP '^[ARNDCEQGHILKMFPSTWYV]+$' THEN valid\n",
    "    ELSE 'Invalid sequence characters'\n",
    "END;\n",
    "\"\"\")\n",
    "\n",
    "# uniqueness check\n",
    "cur.execute(\"\"\"\n",
    "UPDATE initial\n",
    "SET valid = 'Seq must be unique'\n",
    "WHERE rowid NOT IN (\n",
    "    SELECT MIN(rowid)\n",
    "    FROM initial\n",
    "    GROUP BY seq\n",
    ");\n",
    "\"\"\")\n"
   ]
  },
  {
   "cell_type": "markdown",
   "id": "6c6b5501",
   "metadata": {
    "papermill": {
     "duration": 0.022014,
     "end_time": "2024-05-21T13:10:43.972846",
     "exception": false,
     "start_time": "2024-05-21T13:10:43.950832",
     "status": "completed"
    },
    "tags": []
   },
   "source": [
    "# Reasons why data is rejected"
   ]
  },
  {
   "cell_type": "code",
   "execution_count": 7,
   "id": "c45d366b",
   "metadata": {
    "execution": {
     "iopub.execute_input": "2024-05-21T13:10:44.015477Z",
     "iopub.status.busy": "2024-05-21T13:10:44.014780Z",
     "iopub.status.idle": "2024-05-21T13:10:44.031345Z",
     "shell.execute_reply": "2024-05-21T13:10:44.030165Z"
    },
    "jupyter": {
     "source_hidden": true
    },
    "papermill": {
     "duration": 0.04203,
     "end_time": "2024-05-21T13:10:44.033574",
     "exception": false,
     "start_time": "2024-05-21T13:10:43.991544",
     "status": "completed"
    },
    "tags": []
   },
   "outputs": [
    {
     "data": {
      "text/html": [
       "<div>\n",
       "<style scoped>\n",
       "    .dataframe tbody tr th:only-of-type {\n",
       "        vertical-align: middle;\n",
       "    }\n",
       "\n",
       "    .dataframe tbody tr th {\n",
       "        vertical-align: top;\n",
       "    }\n",
       "\n",
       "    .dataframe thead th {\n",
       "        text-align: right;\n",
       "    }\n",
       "</style>\n",
       "<table border=\"1\" class=\"dataframe\">\n",
       "  <thead>\n",
       "    <tr style=\"text-align: right;\">\n",
       "      <th></th>\n",
       "      <th>COUNT(*)</th>\n",
       "      <th>valid</th>\n",
       "    </tr>\n",
       "  </thead>\n",
       "  <tbody>\n",
       "    <tr>\n",
       "      <th>0</th>\n",
       "      <td>833</td>\n",
       "      <td>Seq must be unique</td>\n",
       "    </tr>\n",
       "    <tr>\n",
       "      <th>1</th>\n",
       "      <td>13133</td>\n",
       "      <td>yes</td>\n",
       "    </tr>\n",
       "  </tbody>\n",
       "</table>\n",
       "</div>"
      ],
      "text/plain": [
       "   COUNT(*)               valid\n",
       "0       833  Seq must be unique\n",
       "1     13133                 yes"
      ]
     },
     "execution_count": 7,
     "metadata": {},
     "output_type": "execute_result"
    }
   ],
   "source": [
    "pd.read_sql_query(\"SELECT COUNT(*),valid FROM initial GROUP BY valid\", con)"
   ]
  },
  {
   "cell_type": "markdown",
   "id": "e4707606",
   "metadata": {
    "papermill": {
     "duration": 0.017876,
     "end_time": "2024-05-21T13:10:44.064610",
     "exception": false,
     "start_time": "2024-05-21T13:10:44.046734",
     "status": "completed"
    },
    "tags": []
   },
   "source": [
    "I think we have engough data to just reject the 34 invalid sequences."
   ]
  },
  {
   "cell_type": "markdown",
   "id": "0119b820",
   "metadata": {
    "papermill": {
     "duration": 0.018277,
     "end_time": "2024-05-21T13:10:44.100672",
     "exception": false,
     "start_time": "2024-05-21T13:10:44.082395",
     "status": "completed"
    },
    "tags": []
   },
   "source": [
    "# Duplicates\n",
    "Before we just reject all duplicates we need to check wether they are true duplicates meaning if they are stemming from multiple datasets or just technical replicates.\n",
    "\n",
    "Definition used here:\n",
    "\n",
    "**technical replicate:** if dataset and seq is a duplicate -\n",
    "\n",
    "**duplicate:** if only seq is a duplicate but sources state the same AB\n",
    "\n",
    "**contradictory duplicate** matching seq different source and different AB "
   ]
  },
  {
   "cell_type": "code",
   "execution_count": 8,
   "id": "3d42fc41",
   "metadata": {
    "execution": {
     "iopub.execute_input": "2024-05-21T13:10:44.139074Z",
     "iopub.status.busy": "2024-05-21T13:10:44.138604Z",
     "iopub.status.idle": "2024-05-21T13:10:44.229198Z",
     "shell.execute_reply": "2024-05-21T13:10:44.228275Z"
    },
    "jupyter": {
     "source_hidden": true
    },
    "papermill": {
     "duration": 0.112837,
     "end_time": "2024-05-21T13:10:44.231236",
     "exception": false,
     "start_time": "2024-05-21T13:10:44.118399",
     "status": "completed"
    },
    "tags": []
   },
   "outputs": [
    {
     "data": {
      "text/html": [
       "<div>\n",
       "<style scoped>\n",
       "    .dataframe tbody tr th:only-of-type {\n",
       "        vertical-align: middle;\n",
       "    }\n",
       "\n",
       "    .dataframe tbody tr th {\n",
       "        vertical-align: top;\n",
       "    }\n",
       "\n",
       "    .dataframe thead th {\n",
       "        text-align: right;\n",
       "    }\n",
       "</style>\n",
       "<table border=\"1\" class=\"dataframe\">\n",
       "  <thead>\n",
       "    <tr style=\"text-align: right;\">\n",
       "      <th></th>\n",
       "      <th>COUNT(*)</th>\n",
       "      <th>valid</th>\n",
       "    </tr>\n",
       "  </thead>\n",
       "  <tbody>\n",
       "    <tr>\n",
       "      <th>0</th>\n",
       "      <td>1138</td>\n",
       "      <td>technical replicate</td>\n",
       "    </tr>\n",
       "    <tr>\n",
       "      <th>1</th>\n",
       "      <td>12828</td>\n",
       "      <td>yes</td>\n",
       "    </tr>\n",
       "  </tbody>\n",
       "</table>\n",
       "</div>"
      ],
      "text/plain": [
       "   COUNT(*)                valid\n",
       "0      1138  technical replicate\n",
       "1     12828                  yes"
      ]
     },
     "execution_count": 8,
     "metadata": {},
     "output_type": "execute_result"
    }
   ],
   "source": [
    " def identify_duplicates():   \n",
    "    # Step 1: Identify Technical Replicates\n",
    "    cur.execute(\"\"\"\n",
    "    UPDATE initial\n",
    "    SET valid = 'technical replicate'\n",
    "    WHERE seq IN (\n",
    "        SELECT seq\n",
    "        FROM initial\n",
    "        GROUP BY seq, dataset\n",
    "        HAVING COUNT(*) > 1\n",
    "    );\n",
    "    \"\"\")\n",
    "    \n",
    "    # Step 2: Identify Duplicates (same seq, multiple datasets, same AB)\n",
    "    cur.execute(\"\"\"\n",
    "    UPDATE initial\n",
    "    SET valid = 'duplicate'\n",
    "    WHERE seq IN (\n",
    "        SELECT seq\n",
    "        FROM initial\n",
    "        GROUP BY seq, AB\n",
    "        HAVING COUNT(DISTINCT dataset) > 1\n",
    "    ) AND valid != 'technical replicate';\n",
    "    \"\"\")\n",
    "    \n",
    "    # Step 3: Identify Contradictory Duplicates (same seq, different AB in different datasets)\n",
    "    cur.execute(\"\"\"\n",
    "    UPDATE initial\n",
    "    SET valid = 'contradictory duplicate'\n",
    "    WHERE seq IN (\n",
    "        SELECT seq\n",
    "        FROM initial\n",
    "        GROUP BY seq\n",
    "        HAVING COUNT(DISTINCT AB) > 1 AND COUNT(DISTINCT dataset) > 1\n",
    "    ) AND valid NOT IN ('technical replicate', 'duplicate');\n",
    "    \"\"\")\n",
    "\n",
    "\n",
    "identify_duplicates()\n",
    "#pd.read_sql_query(\"SELECT * FROM initial WHERE valid = 'contradictory duplicate' ORDER BY seq;\", con).to_excel(\"contradictions.xlsx\")\n",
    "pd.read_sql_query(\"SELECT COUNT(*), valid FROM initial GROUP BY valid\", con)"
   ]
  },
  {
   "cell_type": "markdown",
   "id": "c218c7d3",
   "metadata": {
    "papermill": {
     "duration": 0.019239,
     "end_time": "2024-05-21T13:10:44.262766",
     "exception": false,
     "start_time": "2024-05-21T13:10:44.243527",
     "status": "completed"
    },
    "tags": []
   },
   "source": [
    "# Adressing contradictory duplicates\n",
    "Theese stem from negative data sources (i.e uniprot). We can reject the ones from uniprot."
   ]
  },
  {
   "cell_type": "code",
   "execution_count": 9,
   "id": "c3ce79eb",
   "metadata": {
    "execution": {
     "iopub.execute_input": "2024-05-21T13:10:44.305142Z",
     "iopub.status.busy": "2024-05-21T13:10:44.304022Z",
     "iopub.status.idle": "2024-05-21T13:10:44.400616Z",
     "shell.execute_reply": "2024-05-21T13:10:44.399350Z"
    },
    "jupyter": {
     "source_hidden": true
    },
    "papermill": {
     "duration": 0.121883,
     "end_time": "2024-05-21T13:10:44.403073",
     "exception": false,
     "start_time": "2024-05-21T13:10:44.281190",
     "status": "completed"
    },
    "tags": []
   },
   "outputs": [
    {
     "data": {
      "text/html": [
       "<div>\n",
       "<style scoped>\n",
       "    .dataframe tbody tr th:only-of-type {\n",
       "        vertical-align: middle;\n",
       "    }\n",
       "\n",
       "    .dataframe tbody tr th {\n",
       "        vertical-align: top;\n",
       "    }\n",
       "\n",
       "    .dataframe thead th {\n",
       "        text-align: right;\n",
       "    }\n",
       "</style>\n",
       "<table border=\"1\" class=\"dataframe\">\n",
       "  <thead>\n",
       "    <tr style=\"text-align: right;\">\n",
       "      <th></th>\n",
       "      <th>COUNT(*)</th>\n",
       "      <th>valid</th>\n",
       "    </tr>\n",
       "  </thead>\n",
       "  <tbody>\n",
       "    <tr>\n",
       "      <th>0</th>\n",
       "      <td>1138</td>\n",
       "      <td>technical replicate</td>\n",
       "    </tr>\n",
       "    <tr>\n",
       "      <th>1</th>\n",
       "      <td>12828</td>\n",
       "      <td>yes</td>\n",
       "    </tr>\n",
       "  </tbody>\n",
       "</table>\n",
       "</div>"
      ],
      "text/plain": [
       "   COUNT(*)                valid\n",
       "0      1138  technical replicate\n",
       "1     12828                  yes"
      ]
     },
     "execution_count": 9,
     "metadata": {},
     "output_type": "execute_result"
    }
   ],
   "source": [
    "cur.execute(\"\"\"\n",
    "UPDATE initial\n",
    "SET AB = 1\n",
    "WHERE dataset = 'uniprot_swissprot.fasta' AND valid = 'contradictory duplicate';\n",
    "\"\"\")\n",
    "\n",
    "identify_duplicates()\n",
    "pd.read_sql_query(\"SELECT COUNT(*), valid FROM initial GROUP BY valid\", con)"
   ]
  },
  {
   "cell_type": "markdown",
   "id": "81a03241",
   "metadata": {
    "papermill": {
     "duration": 0.019419,
     "end_time": "2024-05-21T13:10:44.437101",
     "exception": false,
     "start_time": "2024-05-21T13:10:44.417682",
     "status": "completed"
    },
    "tags": []
   },
   "source": [
    "This means all duplicates stem from the uniprot data base. We have no other duplicates."
   ]
  },
  {
   "cell_type": "markdown",
   "id": "d94862af",
   "metadata": {
    "papermill": {
     "duration": 0.017873,
     "end_time": "2024-05-21T13:10:44.475617",
     "exception": false,
     "start_time": "2024-05-21T13:10:44.457744",
     "status": "completed"
    },
    "tags": []
   },
   "source": [
    "# Adressing Invalid sequences and technical duplicates\n",
    "we just remove them.\n"
   ]
  },
  {
   "cell_type": "code",
   "execution_count": 10,
   "id": "372d9d4f",
   "metadata": {
    "execution": {
     "iopub.execute_input": "2024-05-21T13:10:44.513807Z",
     "iopub.status.busy": "2024-05-21T13:10:44.512967Z",
     "iopub.status.idle": "2024-05-21T13:10:44.626917Z",
     "shell.execute_reply": "2024-05-21T13:10:44.625358Z"
    },
    "jupyter": {
     "source_hidden": true
    },
    "papermill": {
     "duration": 0.135789,
     "end_time": "2024-05-21T13:10:44.629185",
     "exception": false,
     "start_time": "2024-05-21T13:10:44.493396",
     "status": "completed"
    },
    "tags": []
   },
   "outputs": [
    {
     "data": {
      "text/html": [
       "<div>\n",
       "<style scoped>\n",
       "    .dataframe tbody tr th:only-of-type {\n",
       "        vertical-align: middle;\n",
       "    }\n",
       "\n",
       "    .dataframe tbody tr th {\n",
       "        vertical-align: top;\n",
       "    }\n",
       "\n",
       "    .dataframe thead th {\n",
       "        text-align: right;\n",
       "    }\n",
       "</style>\n",
       "<table border=\"1\" class=\"dataframe\">\n",
       "  <thead>\n",
       "    <tr style=\"text-align: right;\">\n",
       "      <th></th>\n",
       "      <th>COUNT(*)</th>\n",
       "      <th>valid</th>\n",
       "    </tr>\n",
       "  </thead>\n",
       "  <tbody>\n",
       "    <tr>\n",
       "      <th>0</th>\n",
       "      <td>12828</td>\n",
       "      <td>yes</td>\n",
       "    </tr>\n",
       "  </tbody>\n",
       "</table>\n",
       "</div>"
      ],
      "text/plain": [
       "   COUNT(*) valid\n",
       "0     12828   yes"
      ]
     },
     "execution_count": 10,
     "metadata": {},
     "output_type": "execute_result"
    }
   ],
   "source": [
    "cur.execute(\"\"\"\n",
    "DELETE FROM initial\n",
    "WHERE NOT seq REGEXP '^[ARNDCEQGHILKMFPSTWYV]+$' OR valid = 'technical replicate';\n",
    "\"\"\")\n",
    "\n",
    "identify_duplicates()\n",
    "pd.read_sql_query(\"SELECT COUNT(*), valid FROM initial GROUP BY valid\", con)"
   ]
  },
  {
   "cell_type": "markdown",
   "id": "12269a1f",
   "metadata": {
    "papermill": {
     "duration": 0.019625,
     "end_time": "2024-05-21T13:10:44.663504",
     "exception": false,
     "start_time": "2024-05-21T13:10:44.643879",
     "status": "completed"
    },
    "tags": []
   },
   "source": [
    "# Merge duplicates\n",
    "To remove the duplicates but keep the information we will merge theese rows containing the duplicates.\n",
    "\n",
    "From here on we will work with a new table which enforces data integrity. The table enforces the folloing conditions:\n",
    "\n",
    "\n",
    " * only valid amino acid seq\n",
    " * AB only being 0 or 1\n",
    " * AB cant bo 0\n",
    " * dataset must not be null\n",
    " * seq length between 1 and 200\n",
    " * seq must be unique and not null\n",
    "\n",
    "I have decided to designate seq as database keys. This enforces uniqueness, non nullabilty and improves lookup performance."
   ]
  },
  {
   "cell_type": "code",
   "execution_count": 11,
   "id": "47f68692",
   "metadata": {
    "execution": {
     "iopub.execute_input": "2024-05-21T13:10:44.705646Z",
     "iopub.status.busy": "2024-05-21T13:10:44.705193Z",
     "iopub.status.idle": "2024-05-21T13:10:44.722331Z",
     "shell.execute_reply": "2024-05-21T13:10:44.720537Z"
    },
    "jupyter": {
     "source_hidden": true
    },
    "papermill": {
     "duration": 0.040053,
     "end_time": "2024-05-21T13:10:44.724722",
     "exception": false,
     "start_time": "2024-05-21T13:10:44.684669",
     "status": "completed"
    },
    "tags": []
   },
   "outputs": [
    {
     "data": {
      "text/html": [
       "<div>\n",
       "<style scoped>\n",
       "    .dataframe tbody tr th:only-of-type {\n",
       "        vertical-align: middle;\n",
       "    }\n",
       "\n",
       "    .dataframe tbody tr th {\n",
       "        vertical-align: top;\n",
       "    }\n",
       "\n",
       "    .dataframe thead th {\n",
       "        text-align: right;\n",
       "    }\n",
       "</style>\n",
       "<table border=\"1\" class=\"dataframe\">\n",
       "  <thead>\n",
       "    <tr style=\"text-align: right;\">\n",
       "      <th></th>\n",
       "      <th>id</th>\n",
       "      <th>name</th>\n",
       "      <th>AB</th>\n",
       "      <th>description</th>\n",
       "      <th>OX</th>\n",
       "      <th>dataset</th>\n",
       "      <th>seq</th>\n",
       "      <th>seq_len</th>\n",
       "      <th>valid</th>\n",
       "    </tr>\n",
       "  </thead>\n",
       "  <tbody>\n",
       "  </tbody>\n",
       "</table>\n",
       "</div>"
      ],
      "text/plain": [
       "Empty DataFrame\n",
       "Columns: [id, name, AB, description, OX, dataset, seq, seq_len, valid]\n",
       "Index: []"
      ]
     },
     "execution_count": 11,
     "metadata": {},
     "output_type": "execute_result"
    }
   ],
   "source": [
    "pd.read_sql_query(\"SELECT * FROM  initial WHERE valid = 'duplicate' ORDER BY seq LIMIT 4;\", con)"
   ]
  },
  {
   "cell_type": "code",
   "execution_count": 12,
   "id": "886f83bb",
   "metadata": {
    "execution": {
     "iopub.execute_input": "2024-05-21T13:10:44.762294Z",
     "iopub.status.busy": "2024-05-21T13:10:44.760874Z",
     "iopub.status.idle": "2024-05-21T13:10:44.818662Z",
     "shell.execute_reply": "2024-05-21T13:10:44.817185Z"
    },
    "jupyter": {
     "source_hidden": true
    },
    "papermill": {
     "duration": 0.081194,
     "end_time": "2024-05-21T13:10:44.821374",
     "exception": false,
     "start_time": "2024-05-21T13:10:44.740180",
     "status": "completed"
    },
    "tags": []
   },
   "outputs": [
    {
     "data": {
      "text/plain": [
       "<sqlite3.Cursor at 0x7efce5f7e740>"
      ]
     },
     "execution_count": 12,
     "metadata": {},
     "output_type": "execute_result"
    }
   ],
   "source": [
    "# Step 1: Create a new table for the merged results\n",
    "try: \n",
    "    cur.execute(\"\"\" DROP TABLE prod; \"\"\")\n",
    "except Exception as e:\n",
    "    print(\"\")\n",
    "\n",
    "cur.execute(\"\"\"\n",
    "CREATE TABLE IF NOT EXISTS prod (\n",
    "    id TEXT,\n",
    "    name TEXT,\n",
    "    AB INTEGER NOT NULL CHECK (AB IN (0, 1)),\n",
    "    description TEXT,\n",
    "    OX TEXT,\n",
    "    source TEXT NOT NULL,\n",
    "    seq TEXT PRIMARY KEY CHECK (seq = UPPER(seq) AND seq REGEXP '^[ARNDCEQGHILKMFPSTWYV]+$'),\n",
    "    valid TEXT\n",
    ");\n",
    "\"\"\")\n",
    "\n",
    "\n",
    "\n",
    "# Step 2: Insert aggregated data into the new table INSERT INTO prod(id, name, AB, description, OX, source, seq, valid)\n",
    "cur.execute(\"\"\"\n",
    "INSERT INTO prod(id, name, AB, description, OX, source, seq, valid)\n",
    "SELECT \n",
    "    GROUP_CONCAT(id, '; ') AS id,\n",
    "    GROUP_CONCAT(name, '; ') AS name,\n",
    "    AB,\n",
    "    GROUP_CONCAT(description, '; ') AS description,\n",
    "    GROUP_CONCAT(OX, '; ') AS OX,\n",
    "    GROUP_CONCAT(dataset, '; ') AS source,\n",
    "    UPPER(seq) AS seq,\n",
    "    'yes - merged duplicate' AS valid\n",
    "FROM initial\n",
    "WHERE valid = 'duplicate' AND seq REGEXP '^[ARNDCEQGHILKMFPSTWYV]+$'\n",
    "GROUP BY seq;\n",
    "\"\"\")"
   ]
  },
  {
   "cell_type": "code",
   "execution_count": 13,
   "id": "0fdfd932",
   "metadata": {
    "execution": {
     "iopub.execute_input": "2024-05-21T13:10:44.858855Z",
     "iopub.status.busy": "2024-05-21T13:10:44.858448Z",
     "iopub.status.idle": "2024-05-21T13:10:44.870459Z",
     "shell.execute_reply": "2024-05-21T13:10:44.869193Z"
    },
    "jupyter": {
     "source_hidden": true
    },
    "papermill": {
     "duration": 0.037648,
     "end_time": "2024-05-21T13:10:44.872664",
     "exception": false,
     "start_time": "2024-05-21T13:10:44.835016",
     "status": "completed"
    },
    "tags": []
   },
   "outputs": [
    {
     "data": {
      "text/html": [
       "<div>\n",
       "<style scoped>\n",
       "    .dataframe tbody tr th:only-of-type {\n",
       "        vertical-align: middle;\n",
       "    }\n",
       "\n",
       "    .dataframe tbody tr th {\n",
       "        vertical-align: top;\n",
       "    }\n",
       "\n",
       "    .dataframe thead th {\n",
       "        text-align: right;\n",
       "    }\n",
       "</style>\n",
       "<table border=\"1\" class=\"dataframe\">\n",
       "  <thead>\n",
       "    <tr style=\"text-align: right;\">\n",
       "      <th></th>\n",
       "      <th>id</th>\n",
       "      <th>name</th>\n",
       "      <th>AB</th>\n",
       "      <th>description</th>\n",
       "      <th>OX</th>\n",
       "      <th>source</th>\n",
       "      <th>seq</th>\n",
       "      <th>valid</th>\n",
       "    </tr>\n",
       "  </thead>\n",
       "  <tbody>\n",
       "  </tbody>\n",
       "</table>\n",
       "</div>"
      ],
      "text/plain": [
       "Empty DataFrame\n",
       "Columns: [id, name, AB, description, OX, source, seq, valid]\n",
       "Index: []"
      ]
     },
     "execution_count": 13,
     "metadata": {},
     "output_type": "execute_result"
    }
   ],
   "source": [
    "pd.read_sql_query(\"SELECT * FROM  prod;\", con)"
   ]
  },
  {
   "cell_type": "markdown",
   "id": "cc4ee13f",
   "metadata": {
    "papermill": {
     "duration": 0.020319,
     "end_time": "2024-05-21T13:10:44.905692",
     "exception": false,
     "start_time": "2024-05-21T13:10:44.885373",
     "status": "completed"
    },
    "tags": []
   },
   "source": [
    "830 duplicates successfully merged into 415 concatenated rows.\n",
    "\n",
    "# Merge the rest\n",
    "\n",
    "Add valid sequences into valid\n"
   ]
  },
  {
   "cell_type": "code",
   "execution_count": 14,
   "id": "08a72805",
   "metadata": {
    "execution": {
     "iopub.execute_input": "2024-05-21T13:10:44.943724Z",
     "iopub.status.busy": "2024-05-21T13:10:44.943034Z",
     "iopub.status.idle": "2024-05-21T13:10:45.100966Z",
     "shell.execute_reply": "2024-05-21T13:10:45.099592Z"
    },
    "jupyter": {
     "source_hidden": true
    },
    "papermill": {
     "duration": 0.179919,
     "end_time": "2024-05-21T13:10:45.104192",
     "exception": false,
     "start_time": "2024-05-21T13:10:44.924273",
     "status": "completed"
    },
    "tags": []
   },
   "outputs": [
    {
     "data": {
      "text/html": [
       "<div>\n",
       "<style scoped>\n",
       "    .dataframe tbody tr th:only-of-type {\n",
       "        vertical-align: middle;\n",
       "    }\n",
       "\n",
       "    .dataframe tbody tr th {\n",
       "        vertical-align: top;\n",
       "    }\n",
       "\n",
       "    .dataframe thead th {\n",
       "        text-align: right;\n",
       "    }\n",
       "</style>\n",
       "<table border=\"1\" class=\"dataframe\">\n",
       "  <thead>\n",
       "    <tr style=\"text-align: right;\">\n",
       "      <th></th>\n",
       "      <th>id</th>\n",
       "      <th>name</th>\n",
       "      <th>AB</th>\n",
       "      <th>description</th>\n",
       "      <th>OX</th>\n",
       "      <th>source</th>\n",
       "      <th>seq</th>\n",
       "      <th>valid</th>\n",
       "    </tr>\n",
       "  </thead>\n",
       "  <tbody>\n",
       "    <tr>\n",
       "      <th>0</th>\n",
       "      <td>ADAM_2177</td>\n",
       "      <td>InverPep_ADAM_2177</td>\n",
       "      <td>1</td>\n",
       "      <td>None</td>\n",
       "      <td>alien</td>\n",
       "      <td>InverPep.fasta</td>\n",
       "      <td>GLFNVFKGLKTAGKHVAGSLLNQLKCKVSGGC</td>\n",
       "      <td>yes</td>\n",
       "    </tr>\n",
       "    <tr>\n",
       "      <th>1</th>\n",
       "      <td>DBAASP13663</td>\n",
       "      <td>HistoneH2A(1-21),Fi-Histin</td>\n",
       "      <td>1</td>\n",
       "      <td>None</td>\n",
       "      <td>alien</td>\n",
       "      <td>InverPep.fasta</td>\n",
       "      <td>SRSSRAGLQFPVGRIHRLLRK</td>\n",
       "      <td>yes</td>\n",
       "    </tr>\n",
       "    <tr>\n",
       "      <th>2</th>\n",
       "      <td>DBAASP729</td>\n",
       "      <td>Histatin5(5-22)</td>\n",
       "      <td>1</td>\n",
       "      <td>None</td>\n",
       "      <td>alien</td>\n",
       "      <td>InverPep.fasta</td>\n",
       "      <td>KRHHGYKRKFHEKHHSHR</td>\n",
       "      <td>yes</td>\n",
       "    </tr>\n",
       "    <tr>\n",
       "      <th>3</th>\n",
       "      <td>DBAASP644</td>\n",
       "      <td>Gaegurin5(1-11)[F1W]</td>\n",
       "      <td>1</td>\n",
       "      <td>None</td>\n",
       "      <td>alien</td>\n",
       "      <td>InverPep.fasta</td>\n",
       "      <td>WLGALFKVASK</td>\n",
       "      <td>yes</td>\n",
       "    </tr>\n",
       "    <tr>\n",
       "      <th>4</th>\n",
       "      <td>ADAM_0664</td>\n",
       "      <td>InverPep_ADAM_0664</td>\n",
       "      <td>1</td>\n",
       "      <td>None</td>\n",
       "      <td>alien</td>\n",
       "      <td>InverPep.fasta</td>\n",
       "      <td>DLWNSIKDMAAAAGRAALNAVTGMVNQ</td>\n",
       "      <td>yes</td>\n",
       "    </tr>\n",
       "    <tr>\n",
       "      <th>...</th>\n",
       "      <td>...</td>\n",
       "      <td>...</td>\n",
       "      <td>...</td>\n",
       "      <td>...</td>\n",
       "      <td>...</td>\n",
       "      <td>...</td>\n",
       "      <td>...</td>\n",
       "      <td>...</td>\n",
       "    </tr>\n",
       "    <tr>\n",
       "      <th>12823</th>\n",
       "      <td>Q7M463</td>\n",
       "      <td>SCK6_MESMA</td>\n",
       "      <td>0</td>\n",
       "      <td>Neurotoxin BmK A3-6</td>\n",
       "      <td>Mesobuthus martensii OX=34649</td>\n",
       "      <td>uniprot_swissprot.fasta</td>\n",
       "      <td>LPYPVNCKTECECVMCGLGIICKQCYYQQ</td>\n",
       "      <td>yes</td>\n",
       "    </tr>\n",
       "    <tr>\n",
       "      <th>12824</th>\n",
       "      <td>Q7NSS5</td>\n",
       "      <td>Y3345_CHRVO</td>\n",
       "      <td>0</td>\n",
       "      <td>UPF0434 protein CV_3345</td>\n",
       "      <td>Chromobacterium violaceum (strain ATCC 12472 /...</td>\n",
       "      <td>uniprot_swissprot.fasta</td>\n",
       "      <td>MDAKFLEILVCPLCKGPLVFDKSKDELICKGDRLAFPIKDGIPMML...</td>\n",
       "      <td>yes</td>\n",
       "    </tr>\n",
       "    <tr>\n",
       "      <th>12825</th>\n",
       "      <td>Q8QHM9</td>\n",
       "      <td>Y56_SIRV1</td>\n",
       "      <td>0</td>\n",
       "      <td>Uncharacterized protein 56</td>\n",
       "      <td>Sulfolobus islandicus rod-shaped virus 1 OX=15...</td>\n",
       "      <td>uniprot_swissprot.fasta</td>\n",
       "      <td>MKKEIQVQGVRYYVESEDDLVSVAHELAKMGYTVQQIANALGVSER...</td>\n",
       "      <td>yes</td>\n",
       "    </tr>\n",
       "    <tr>\n",
       "      <th>12826</th>\n",
       "      <td>Q9R4N8</td>\n",
       "      <td>RL33_BREVE</td>\n",
       "      <td>0</td>\n",
       "      <td>Large ribosomal subunit protein bL33 (Fragment)</td>\n",
       "      <td>Brevundimonas vesicularis OX=41276 GN=rpmG</td>\n",
       "      <td>uniprot_swissprot.fasta</td>\n",
       "      <td>CKPASIKIRLNSTADTGFYV</td>\n",
       "      <td>yes</td>\n",
       "    </tr>\n",
       "    <tr>\n",
       "      <th>12827</th>\n",
       "      <td>Q9R4P1</td>\n",
       "      <td>RS21_BREVE</td>\n",
       "      <td>0</td>\n",
       "      <td>Small ribosomal subunit protein bS21 (Fragment)</td>\n",
       "      <td>Brevundimonas vesicularis OX=41276 GN=rpsU</td>\n",
       "      <td>uniprot_swissprot.fasta</td>\n",
       "      <td>VQIFVRDNNVDQALKALK</td>\n",
       "      <td>yes</td>\n",
       "    </tr>\n",
       "  </tbody>\n",
       "</table>\n",
       "<p>12828 rows × 8 columns</p>\n",
       "</div>"
      ],
      "text/plain": [
       "                id                        name  AB  \\\n",
       "0        ADAM_2177          InverPep_ADAM_2177   1   \n",
       "1      DBAASP13663  HistoneH2A(1-21),Fi-Histin   1   \n",
       "2        DBAASP729             Histatin5(5-22)   1   \n",
       "3        DBAASP644        Gaegurin5(1-11)[F1W]   1   \n",
       "4        ADAM_0664          InverPep_ADAM_0664   1   \n",
       "...            ...                         ...  ..   \n",
       "12823       Q7M463                  SCK6_MESMA   0   \n",
       "12824       Q7NSS5                 Y3345_CHRVO   0   \n",
       "12825       Q8QHM9                   Y56_SIRV1   0   \n",
       "12826       Q9R4N8                  RL33_BREVE   0   \n",
       "12827       Q9R4P1                  RS21_BREVE   0   \n",
       "\n",
       "                                            description  \\\n",
       "0                                                  None   \n",
       "1                                                  None   \n",
       "2                                                  None   \n",
       "3                                                  None   \n",
       "4                                                  None   \n",
       "...                                                 ...   \n",
       "12823                              Neurotoxin BmK A3-6    \n",
       "12824                          UPF0434 protein CV_3345    \n",
       "12825                       Uncharacterized protein 56    \n",
       "12826  Large ribosomal subunit protein bL33 (Fragment)    \n",
       "12827  Small ribosomal subunit protein bS21 (Fragment)    \n",
       "\n",
       "                                                      OX  \\\n",
       "0                                                  alien   \n",
       "1                                                  alien   \n",
       "2                                                  alien   \n",
       "3                                                  alien   \n",
       "4                                                  alien   \n",
       "...                                                  ...   \n",
       "12823                      Mesobuthus martensii OX=34649   \n",
       "12824  Chromobacterium violaceum (strain ATCC 12472 /...   \n",
       "12825  Sulfolobus islandicus rod-shaped virus 1 OX=15...   \n",
       "12826         Brevundimonas vesicularis OX=41276 GN=rpmG   \n",
       "12827         Brevundimonas vesicularis OX=41276 GN=rpsU   \n",
       "\n",
       "                        source  \\\n",
       "0               InverPep.fasta   \n",
       "1               InverPep.fasta   \n",
       "2               InverPep.fasta   \n",
       "3               InverPep.fasta   \n",
       "4               InverPep.fasta   \n",
       "...                        ...   \n",
       "12823  uniprot_swissprot.fasta   \n",
       "12824  uniprot_swissprot.fasta   \n",
       "12825  uniprot_swissprot.fasta   \n",
       "12826  uniprot_swissprot.fasta   \n",
       "12827  uniprot_swissprot.fasta   \n",
       "\n",
       "                                                     seq valid  \n",
       "0                       GLFNVFKGLKTAGKHVAGSLLNQLKCKVSGGC   yes  \n",
       "1                                  SRSSRAGLQFPVGRIHRLLRK   yes  \n",
       "2                                     KRHHGYKRKFHEKHHSHR   yes  \n",
       "3                                            WLGALFKVASK   yes  \n",
       "4                            DLWNSIKDMAAAAGRAALNAVTGMVNQ   yes  \n",
       "...                                                  ...   ...  \n",
       "12823                      LPYPVNCKTECECVMCGLGIICKQCYYQQ   yes  \n",
       "12824  MDAKFLEILVCPLCKGPLVFDKSKDELICKGDRLAFPIKDGIPMML...   yes  \n",
       "12825  MKKEIQVQGVRYYVESEDDLVSVAHELAKMGYTVQQIANALGVSER...   yes  \n",
       "12826                               CKPASIKIRLNSTADTGFYV   yes  \n",
       "12827                                 VQIFVRDNNVDQALKALK   yes  \n",
       "\n",
       "[12828 rows x 8 columns]"
      ]
     },
     "execution_count": 14,
     "metadata": {},
     "output_type": "execute_result"
    }
   ],
   "source": [
    "cur.execute(\"\"\"\n",
    "INSERT INTO prod\n",
    "SELECT id, name, AB, description, OX, dataset, seq, valid FROM initial\n",
    "WHERE valid = 'yes';\n",
    "\"\"\")\n",
    "\n",
    "pd.read_sql_query(\"SELECT * FROM  prod;\", con)"
   ]
  },
  {
   "cell_type": "markdown",
   "id": "ef2a3837",
   "metadata": {
    "papermill": {
     "duration": 0.038757,
     "end_time": "2024-05-21T13:10:45.158386",
     "exception": false,
     "start_time": "2024-05-21T13:10:45.119629",
     "status": "completed"
    },
    "tags": []
   },
   "source": [
    "# Final health check"
   ]
  },
  {
   "cell_type": "code",
   "execution_count": 15,
   "id": "f814c9af",
   "metadata": {
    "execution": {
     "iopub.execute_input": "2024-05-21T13:10:45.200645Z",
     "iopub.status.busy": "2024-05-21T13:10:45.199961Z",
     "iopub.status.idle": "2024-05-21T13:10:45.214321Z",
     "shell.execute_reply": "2024-05-21T13:10:45.213076Z"
    },
    "jupyter": {
     "source_hidden": true
    },
    "papermill": {
     "duration": 0.038773,
     "end_time": "2024-05-21T13:10:45.216622",
     "exception": false,
     "start_time": "2024-05-21T13:10:45.177849",
     "status": "completed"
    },
    "tags": []
   },
   "outputs": [
    {
     "data": {
      "text/html": [
       "<div>\n",
       "<style scoped>\n",
       "    .dataframe tbody tr th:only-of-type {\n",
       "        vertical-align: middle;\n",
       "    }\n",
       "\n",
       "    .dataframe tbody tr th {\n",
       "        vertical-align: top;\n",
       "    }\n",
       "\n",
       "    .dataframe thead th {\n",
       "        text-align: right;\n",
       "    }\n",
       "</style>\n",
       "<table border=\"1\" class=\"dataframe\">\n",
       "  <thead>\n",
       "    <tr style=\"text-align: right;\">\n",
       "      <th></th>\n",
       "      <th>COUNT(*)</th>\n",
       "      <th>valid</th>\n",
       "    </tr>\n",
       "  </thead>\n",
       "  <tbody>\n",
       "    <tr>\n",
       "      <th>0</th>\n",
       "      <td>12828</td>\n",
       "      <td>yes</td>\n",
       "    </tr>\n",
       "  </tbody>\n",
       "</table>\n",
       "</div>"
      ],
      "text/plain": [
       "   COUNT(*) valid\n",
       "0     12828   yes"
      ]
     },
     "execution_count": 15,
     "metadata": {},
     "output_type": "execute_result"
    }
   ],
   "source": [
    "pd.read_sql_query(\"SELECT COUNT(*), valid FROM prod GROUP BY valid\", con)"
   ]
  },
  {
   "cell_type": "markdown",
   "id": "033949bd",
   "metadata": {
    "papermill": {
     "duration": 0.02427,
     "end_time": "2024-05-21T13:10:45.254336",
     "exception": false,
     "start_time": "2024-05-21T13:10:45.230066",
     "status": "completed"
    },
    "tags": []
   },
   "source": [
    "# Save and commit\n"
   ]
  },
  {
   "cell_type": "code",
   "execution_count": 16,
   "id": "94116b09",
   "metadata": {
    "execution": {
     "iopub.execute_input": "2024-05-21T13:10:45.294434Z",
     "iopub.status.busy": "2024-05-21T13:10:45.293686Z",
     "iopub.status.idle": "2024-05-21T13:10:45.323753Z",
     "shell.execute_reply": "2024-05-21T13:10:45.322467Z"
    },
    "jupyter": {
     "source_hidden": true
    },
    "papermill": {
     "duration": 0.052793,
     "end_time": "2024-05-21T13:10:45.326565",
     "exception": false,
     "start_time": "2024-05-21T13:10:45.273772",
     "status": "completed"
    },
    "tags": []
   },
   "outputs": [],
   "source": [
    "cur.execute(\"DROP TABLE initial\")\n",
    "con.commit()\n",
    "con.close()"
   ]
  },
  {
   "cell_type": "code",
   "execution_count": null,
   "id": "c32fe352",
   "metadata": {
    "jupyter": {
     "source_hidden": true
    },
    "papermill": {
     "duration": 0.025833,
     "end_time": "2024-05-21T13:10:45.368920",
     "exception": false,
     "start_time": "2024-05-21T13:10:45.343087",
     "status": "completed"
    },
    "tags": []
   },
   "outputs": [],
   "source": []
  }
 ],
 "metadata": {
  "kernelspec": {
   "display_name": "Python 3 (ipykernel)",
   "language": "python",
   "name": "python3"
  },
  "language_info": {
   "codemirror_mode": {
    "name": "ipython",
    "version": 3
   },
   "file_extension": ".py",
   "mimetype": "text/x-python",
   "name": "python",
   "nbconvert_exporter": "python",
   "pygments_lexer": "ipython3",
   "version": "3.11.9"
  },
  "papermill": {
   "default_parameters": {},
   "duration": 4.470586,
   "end_time": "2024-05-21T13:10:45.723767",
   "environment_variables": {},
   "exception": null,
   "input_path": "/mnt/02-Data_Curation/DB_curation.ipynb",
   "output_path": "/mnt/02-Data_Curation/DB_curation-executed.ipynb",
   "parameters": {
    "execution_date": "{{ execution_date }}",
    "virtual_env": "True"
   },
   "start_time": "2024-05-21T13:10:41.253181",
   "version": "2.6.0"
  }
 },
 "nbformat": 4,
 "nbformat_minor": 5
}