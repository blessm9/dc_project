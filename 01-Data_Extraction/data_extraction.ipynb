{
  "cells": [
    {
      "cell_type": "code",
      "execution_count": null,
      "metadata": {},
      "outputs": [],
      "source": []
    },
    {
      "attachments": {},
      "cell_type": "markdown",
      "metadata": {},
      "source": [
        "# Data Acquisition from Web available Data\n",
        "\n",
        "Sites that don't offer download options of the whole database were scraped. The code is available in scraped_data.ipynb"
      ]
    },
    {
      "cell_type": "code",
      "execution_count": 84,
      "metadata": {},
      "outputs": [],
      "source": [
        "import pandas as pd"
      ]
    },
    {
      "cell_type": "code",
      "execution_count": 35,
      "metadata": {},
      "outputs": [],
      "source": [
        "class converters:\n",
        "\n",
        "  def __init__(self):\n",
        "    self.name = 'hi'\n",
        "\n",
        "  def conv_APD_sequence_release_09142020(self, l, infile):\n",
        "    names, rest = l.split(' ', 1)# ( at times ( ( at ttimes [])))\n",
        "    id, name = names.strip('>').split('|')\n",
        "    seq = {'id':id, 'name':name, 'AB':1, 'description':rest, 'OX':'alien', 'dataset':infile, 'seq':''}\n",
        "    return name, seq\n",
        "  \n",
        "  def conv_dbaasp_nonribosomal(self, l, infile):\n",
        "    l = l.split('> ')[1]\n",
        "    id, name = l.strip('\\n').split(' ', 1)\n",
        "    seq = {'id':id, 'name':name, 'AB':1, 'description':'None', 'OX':'alien', 'dataset':infile, 'seq':''}\n",
        "    return name, seq\n",
        "  \n",
        "  def conv_dbaasp_ribosomal(self, l, infile):\n",
        "    l = l.split('> ')[1]\n",
        "    id, name = l.strip('\\n').split(' ', 1)\n",
        "    seq = {'id':id, 'name':name, 'AB':1, 'description':'None', 'OX':'alien', 'dataset':infile, 'seq':''}\n",
        "    return name, seq\n",
        "  \n",
        "\n",
        "  def conv_BAAMPs_data(self, infile):\n",
        "    df = pd.read_csv(infile)\n",
        "\n",
        "    dfnew = df[['PeptideID', 'PeptideName', 'Microorganism group', 'Microorganism', 'PeptideSequence']]\n",
        "    dfnew.insert(2, 'AB', [1 for i in range(dfnew.shape[0]) ] )\n",
        "    dfnew.insert(5, 'dataset', [ 'BAAMPs_data.csv' for i in range(dfnew.shape[0]) ] )\n",
        "    colnames = ['id', 'name', 'AB', 'description', 'OX', 'dataset', 'seq']\n",
        "    dfnew.columns = colnames\n",
        "    dfnew.index = dfnew.name\n",
        "\n",
        "    return dfnew\n",
        "\n",
        "  def conv_dramp_antimicrobial(self, l, infile):\n",
        "    id = l.strip('> ').strip('\\n')\n",
        "    name = f'dramp_{id}'# cant set to None as messes with indexation of pd frame\n",
        "    seq = {'id':id, 'name':name, 'AB':1, 'description':'None', 'OX':'alien', 'dataset':infile, 'seq':''}\n",
        "    return name, seq\n",
        "\n",
        "  def conv_LAMP2(self, l, infile):\n",
        "      l = l.split('>')[1]\n",
        "      id, rest = l.strip('\\n').split('|', 1)\n",
        "      name = f'LAMP2_{id}'\n",
        "      seq = {'id':id, 'name':name, 'AB':1, 'description':rest, 'OX':'alien', 'dataset':infile, 'seq':''}\n",
        "      return name, seq\n",
        "\n",
        "\n",
        "  def conv_InverPep(self, l, infile):\n",
        "      l = l.strip('>').strip('\\n')\n",
        "      ls = l.split('|', 1)\n",
        "      if len(ls)==1: id, name = [ls[0], f'InverPep_{ls[0]}' ]\n",
        "      if len(ls)==2: id, name = ls#[0], name = ls[1]\n",
        "      if name =='-': name += id # else get same index, overwrite datarows\n",
        "      seq = {'id':id, 'name':name, 'AB':1, 'description':'None', 'OX':'alien', 'dataset':infile, 'seq':''}\n",
        "      return name, seq\n",
        "    \n",
        "\n",
        "  def conv_enzybase(self, l, infile):\n",
        "        l = l.strip('>')\n",
        "        name, some, id, rest = l.strip('\\n').split('|')\n",
        "        seq = {'id':id, 'name':name, 'AB':1, 'description':f'type_{some}_'+rest, 'OX':'alien', 'dataset':infile, 'seq':''}\n",
        "        return name, seq"
      ]
    },
    {
      "cell_type": "code",
      "execution_count": 24,
      "metadata": {},
      "outputs": [],
      "source": [
        "def tocsv(infile, save, ofile=''):\n",
        "    \n",
        "  print('input file', infile)\n",
        "\n",
        "  filetype = infile.split('.fasta')[0].split('.txt')[0].split('.csv')[0]\n",
        "  converter = converters()\n",
        "  convfct = getattr(converter, 'conv_'+str(filetype))\n",
        "\n",
        "  if infile.split('.')[1] == 'csv':\n",
        "    df = convfct(infile)\n",
        "  \n",
        "  else:\n",
        "\n",
        "    with open(infile, 'r') as inf:\n",
        "      \n",
        "      print('converting with fct: ', convfct)\n",
        "      \n",
        "      seqs = {}\n",
        "      lastname = 'None'\n",
        "\n",
        "      flines = inf.readlines()\n",
        "\n",
        "      print(flines[:4])\n",
        "\n",
        "      for l in flines:\n",
        "        if l[0]=='>':# sequence identifier\n",
        "          name, seq = convfct(l, infile)\n",
        "          seqs[name] = seq\n",
        "          lastname = name\n",
        "\n",
        "        else:\n",
        "          seq = seqs[lastname]\n",
        "          seq['seq'] += l.strip('>').strip('\\n').strip(' ')\n",
        "\n",
        "    inf.close()\n",
        "\n",
        "    df = pd.DataFrame.from_dict(seqs).transpose()\n",
        "    lens = df.seq.map(len)\n",
        "    print('min, max seq: ', min(lens), max(lens))\n",
        "\n",
        "  if save:\n",
        "      destin = ofile.split('.csv')[0]+'_out.csv'\n",
        "      df.to_csv(destin, index = False )\n",
        "      print('saved df as csv to:', destin)\n",
        "      \n",
        "  return df"
      ]
    },
    {
      "attachments": {},
      "cell_type": "markdown",
      "metadata": {},
      "source": [
        "# Databases from Table 2\n",
        "\n",
        "seq, T/F, database, (additional info, species, assay method)"
      ]
    },
    {
      "cell_type": "code",
      "execution_count": 7,
      "metadata": {
        "colab": {
          "base_uri": "https://localhost:8080/",
          "height": 114
        },
        "id": "G1nc8sa3tZCF",
        "outputId": "51f65228-7ce4-45e1-b7e4-6cdb3d26b938"
      },
      "outputs": [
        {
          "name": "stdout",
          "output_type": "stream",
          "text": [
            "input file APD_sequence_release_09142020.fasta\n",
            "converting with fct:  <bound method converters.conv_APD_sequence_release_09142020 of <__main__.converters object at 0x7fd306c11c60>>\n",
            "min, max seq:  4 183\n",
            "saved df as csv to: APD_sequence_release_09142020_out.csv\n"
          ]
        },
        {
          "data": {
            "text/html": [
              "<div>\n",
              "<style scoped>\n",
              "    .dataframe tbody tr th:only-of-type {\n",
              "        vertical-align: middle;\n",
              "    }\n",
              "\n",
              "    .dataframe tbody tr th {\n",
              "        vertical-align: top;\n",
              "    }\n",
              "\n",
              "    .dataframe thead th {\n",
              "        text-align: right;\n",
              "    }\n",
              "</style>\n",
              "<table border=\"1\" class=\"dataframe\">\n",
              "  <thead>\n",
              "    <tr style=\"text-align: right;\">\n",
              "      <th></th>\n",
              "      <th>id</th>\n",
              "      <th>name</th>\n",
              "      <th>AB</th>\n",
              "      <th>description</th>\n",
              "      <th>OX</th>\n",
              "      <th>dataset</th>\n",
              "      <th>seq</th>\n",
              "    </tr>\n",
              "  </thead>\n",
              "  <tbody>\n",
              "    <tr>\n",
              "      <th>Dermaseptin-B2</th>\n",
              "      <td>00001</td>\n",
              "      <td>Dermaseptin-B2</td>\n",
              "      <td>1</td>\n",
              "      <td>(XXA, DRS-B2,  Dermaseptin B2, DRS B2, DS bII,...</td>\n",
              "      <td>alien</td>\n",
              "      <td>APD_sequence_release_09142020.fasta</td>\n",
              "      <td>GLWSKIKEVGKEAAKAAAKAAGKAALGAVSEAV</td>\n",
              "    </tr>\n",
              "    <tr>\n",
              "      <th>Abaecin</th>\n",
              "      <td>00002</td>\n",
              "      <td>Abaecin</td>\n",
              "      <td>1</td>\n",
              "      <td>(Pro-rich; insects, arthropods, invertebrates,...</td>\n",
              "      <td>alien</td>\n",
              "      <td>APD_sequence_release_09142020.fasta</td>\n",
              "      <td>YVPLPNVPQPGRRPFPTFPGQGPFNPKIKWPQGY</td>\n",
              "    </tr>\n",
              "  </tbody>\n",
              "</table>\n",
              "</div>"
            ],
            "text/plain": [
              "                   id            name AB  \\\n",
              "Dermaseptin-B2  00001  Dermaseptin-B2  1   \n",
              "Abaecin         00002         Abaecin  1   \n",
              "\n",
              "                                                      description     OX  \\\n",
              "Dermaseptin-B2  (XXA, DRS-B2,  Dermaseptin B2, DRS B2, DS bII,...  alien   \n",
              "Abaecin         (Pro-rich; insects, arthropods, invertebrates,...  alien   \n",
              "\n",
              "                                            dataset  \\\n",
              "Dermaseptin-B2  APD_sequence_release_09142020.fasta   \n",
              "Abaecin         APD_sequence_release_09142020.fasta   \n",
              "\n",
              "                                               seq  \n",
              "Dermaseptin-B2   GLWSKIKEVGKEAAKAAAKAAGKAALGAVSEAV  \n",
              "Abaecin         YVPLPNVPQPGRRPFPTFPGQGPFNPKIKWPQGY  "
            ]
          },
          "execution_count": 7,
          "metadata": {},
          "output_type": "execute_result"
        }
      ],
      "source": [
        "# http://aps.unmc.edu/AP/main.php but now cant access\n",
        "df = tocsv('APD_sequence_release_09142020.fasta', True, 'APD_sequence_release_09142020')\n",
        "df.head(2)"
      ]
    },
    {
      "cell_type": "code",
      "execution_count": null,
      "metadata": {},
      "outputs": [],
      "source": [
        "#TODO http://www.camp3.bicnirrh.res.in/ length: -200 validation: experiemntal\n",
        "# not loading and if, cant download list, newer version http://camp.bicnirrh.res.in/ not accessible"
      ]
    },
    {
      "cell_type": "code",
      "execution_count": 32,
      "metadata": {},
      "outputs": [
        {
          "name": "stdout",
          "output_type": "stream",
          "text": [
            "input file dbaasp_nonribosomal.txt\n",
            "converting with fct:  <bound method converters.conv_dbaasp_nonribosomal of <__main__.converters object at 0x7fd30bea52d0>>\n",
            "['> DBAASPN_1688 Gramicidin S, GS\\n', 'VXLfPVXLfP\\n', '> DBAASPN_3314 Gratisin, GR\\n', 'VXLfPyVXLfPy\\n']\n",
            "min, max seq:  1 22\n",
            "saved df as csv to: dbaasp_nonribosomal_out.csv\n"
          ]
        },
        {
          "data": {
            "text/html": [
              "<div>\n",
              "<style scoped>\n",
              "    .dataframe tbody tr th:only-of-type {\n",
              "        vertical-align: middle;\n",
              "    }\n",
              "\n",
              "    .dataframe tbody tr th {\n",
              "        vertical-align: top;\n",
              "    }\n",
              "\n",
              "    .dataframe thead th {\n",
              "        text-align: right;\n",
              "    }\n",
              "</style>\n",
              "<table border=\"1\" class=\"dataframe\">\n",
              "  <thead>\n",
              "    <tr style=\"text-align: right;\">\n",
              "      <th></th>\n",
              "      <th>id</th>\n",
              "      <th>name</th>\n",
              "      <th>AB</th>\n",
              "      <th>description</th>\n",
              "      <th>OX</th>\n",
              "      <th>dataset</th>\n",
              "      <th>seq</th>\n",
              "    </tr>\n",
              "  </thead>\n",
              "  <tbody>\n",
              "    <tr>\n",
              "      <th>Gramicidin S, GS</th>\n",
              "      <td>DBAASPN_1688</td>\n",
              "      <td>Gramicidin S, GS</td>\n",
              "      <td>1</td>\n",
              "      <td>None</td>\n",
              "      <td>alien</td>\n",
              "      <td>dbaasp_nonribosomal.txt</td>\n",
              "      <td>VXLfPVXLfP</td>\n",
              "    </tr>\n",
              "    <tr>\n",
              "      <th>Gratisin, GR</th>\n",
              "      <td>DBAASPN_3314</td>\n",
              "      <td>Gratisin, GR</td>\n",
              "      <td>1</td>\n",
              "      <td>None</td>\n",
              "      <td>alien</td>\n",
              "      <td>dbaasp_nonribosomal.txt</td>\n",
              "      <td>VXLfPyVXLfPy</td>\n",
              "    </tr>\n",
              "  </tbody>\n",
              "</table>\n",
              "</div>"
            ],
            "text/plain": [
              "                            id              name AB description     OX  \\\n",
              "Gramicidin S, GS  DBAASPN_1688  Gramicidin S, GS  1        None  alien   \n",
              "Gratisin, GR      DBAASPN_3314      Gratisin, GR  1        None  alien   \n",
              "\n",
              "                                  dataset           seq  \n",
              "Gramicidin S, GS  dbaasp_nonribosomal.txt    VXLfPVXLfP  \n",
              "Gratisin, GR      dbaasp_nonribosomal.txt  VXLfPyVXLfPy  "
            ]
          },
          "execution_count": 32,
          "metadata": {},
          "output_type": "execute_result"
        }
      ],
      "source": [
        "# https://dbaasp.org\n",
        "# downloaded seq lengths from -200, nonribosomal\n",
        "\n",
        "df = tocsv('dbaasp_nonribosomal.txt', True, 'dbaasp_nonribosomal')\n",
        "df.head(2)"
      ]
    },
    {
      "cell_type": "code",
      "execution_count": 100,
      "metadata": {},
      "outputs": [
        {
          "name": "stdout",
          "output_type": "stream",
          "text": [
            "input file dbaasp_ribosomal.txt\n",
            "converting with fct:  <bound method converters.conv_dbaasp_ribosomal of <__main__.converters object at 0x7fd2ed798850>>\n",
            "['> DBAASPR_11 Cathelicidin-1, CATH-1, Fowlicidin-1\\n', 'RVKRVWPLVIRTVIAGYNLYRAIKKK\\n', '> DBAASPR_14 Brevinin-2 related peptide B2RP   \\n', 'GIWDTIKSMGKVFAGKILQNL\\n']\n",
            "min, max seq:  4 190\n",
            "saved df as csv to: dbaasp_ribosomal_out.csv\n"
          ]
        },
        {
          "data": {
            "text/html": [
              "<div>\n",
              "<style scoped>\n",
              "    .dataframe tbody tr th:only-of-type {\n",
              "        vertical-align: middle;\n",
              "    }\n",
              "\n",
              "    .dataframe tbody tr th {\n",
              "        vertical-align: top;\n",
              "    }\n",
              "\n",
              "    .dataframe thead th {\n",
              "        text-align: right;\n",
              "    }\n",
              "</style>\n",
              "<table border=\"1\" class=\"dataframe\">\n",
              "  <thead>\n",
              "    <tr style=\"text-align: right;\">\n",
              "      <th></th>\n",
              "      <th>id</th>\n",
              "      <th>name</th>\n",
              "      <th>AB</th>\n",
              "      <th>description</th>\n",
              "      <th>OX</th>\n",
              "      <th>dataset</th>\n",
              "      <th>seq</th>\n",
              "    </tr>\n",
              "  </thead>\n",
              "  <tbody>\n",
              "    <tr>\n",
              "      <th>Cathelicidin-1, CATH-1, Fowlicidin-1</th>\n",
              "      <td>DBAASPR_9526</td>\n",
              "      <td>Cathelicidin-1, CATH-1, Fowlicidin-1</td>\n",
              "      <td>1</td>\n",
              "      <td>None</td>\n",
              "      <td>alien</td>\n",
              "      <td>dbaasp_ribosomal.txt</td>\n",
              "      <td>RVKRVWPLVIRTVIAGYNLYRAIKKK</td>\n",
              "    </tr>\n",
              "    <tr>\n",
              "      <th>Brevinin-2 related peptide B2RP</th>\n",
              "      <td>DBAASPR_14</td>\n",
              "      <td>Brevinin-2 related peptide B2RP</td>\n",
              "      <td>1</td>\n",
              "      <td>None</td>\n",
              "      <td>alien</td>\n",
              "      <td>dbaasp_ribosomal.txt</td>\n",
              "      <td>GIWDTIKSMGKVFAGKILQNL</td>\n",
              "    </tr>\n",
              "  </tbody>\n",
              "</table>\n",
              "</div>"
            ],
            "text/plain": [
              "                                                id  \\\n",
              "Cathelicidin-1, CATH-1, Fowlicidin-1  DBAASPR_9526   \n",
              "Brevinin-2 related peptide B2RP         DBAASPR_14   \n",
              "\n",
              "                                                                      name AB  \\\n",
              "Cathelicidin-1, CATH-1, Fowlicidin-1  Cathelicidin-1, CATH-1, Fowlicidin-1  1   \n",
              "Brevinin-2 related peptide B2RP         Brevinin-2 related peptide B2RP     1   \n",
              "\n",
              "                                     description     OX               dataset  \\\n",
              "Cathelicidin-1, CATH-1, Fowlicidin-1        None  alien  dbaasp_ribosomal.txt   \n",
              "Brevinin-2 related peptide B2RP             None  alien  dbaasp_ribosomal.txt   \n",
              "\n",
              "                                                             seq  \n",
              "Cathelicidin-1, CATH-1, Fowlicidin-1  RVKRVWPLVIRTVIAGYNLYRAIKKK  \n",
              "Brevinin-2 related peptide B2RP            GIWDTIKSMGKVFAGKILQNL  "
            ]
          },
          "execution_count": 100,
          "metadata": {},
          "output_type": "execute_result"
        }
      ],
      "source": [
        "# https://dbaasp.org\n",
        "# downloaded seq lengths from -200, ribosomal\n",
        "\n",
        "df = tocsv('dbaasp_ribosomal.txt', True, 'dbaasp_ribosomal')\n",
        "df.head(2)"
      ]
    },
    {
      "cell_type": "code",
      "execution_count": null,
      "metadata": {},
      "outputs": [],
      "source": [
        "#TODO http://defensins.bii.a-star.edu.sg/\n",
        "# website currently under maintenance"
      ]
    },
    {
      "cell_type": "code",
      "execution_count": 36,
      "metadata": {},
      "outputs": [
        {
          "name": "stdout",
          "output_type": "stream",
          "text": [
            "input file BAAMPs_data.csv\n",
            "saved df as csv to: BAAMPs_data_out.csv\n"
          ]
        },
        {
          "data": {
            "text/html": [
              "<div>\n",
              "<style scoped>\n",
              "    .dataframe tbody tr th:only-of-type {\n",
              "        vertical-align: middle;\n",
              "    }\n",
              "\n",
              "    .dataframe tbody tr th {\n",
              "        vertical-align: top;\n",
              "    }\n",
              "\n",
              "    .dataframe thead th {\n",
              "        text-align: right;\n",
              "    }\n",
              "</style>\n",
              "<table border=\"1\" class=\"dataframe\">\n",
              "  <thead>\n",
              "    <tr style=\"text-align: right;\">\n",
              "      <th></th>\n",
              "      <th>id</th>\n",
              "      <th>name</th>\n",
              "      <th>AB</th>\n",
              "      <th>description</th>\n",
              "      <th>OX</th>\n",
              "      <th>dataset</th>\n",
              "      <th>seq</th>\n",
              "    </tr>\n",
              "    <tr>\n",
              "      <th>name</th>\n",
              "      <th></th>\n",
              "      <th></th>\n",
              "      <th></th>\n",
              "      <th></th>\n",
              "      <th></th>\n",
              "      <th></th>\n",
              "      <th></th>\n",
              "    </tr>\n",
              "  </thead>\n",
              "  <tbody>\n",
              "    <tr>\n",
              "      <th>Pleurocidin</th>\n",
              "      <td>1</td>\n",
              "      <td>Pleurocidin</td>\n",
              "      <td>1</td>\n",
              "      <td>gram neg</td>\n",
              "      <td>Escherichia coli ATCC 25922</td>\n",
              "      <td>BAAMPs_data.csv</td>\n",
              "      <td>GWGSFFKKAAHVGKHVGKAALTHYL</td>\n",
              "    </tr>\n",
              "    <tr>\n",
              "      <th>Pleurocidin</th>\n",
              "      <td>1</td>\n",
              "      <td>Pleurocidin</td>\n",
              "      <td>1</td>\n",
              "      <td>gram neg</td>\n",
              "      <td>Pseudomonas aeruginosa ATCC 27853</td>\n",
              "      <td>BAAMPs_data.csv</td>\n",
              "      <td>GWGSFFKKAAHVGKHVGKAALTHYL</td>\n",
              "    </tr>\n",
              "    <tr>\n",
              "      <th>Pleurocidin</th>\n",
              "      <td>1</td>\n",
              "      <td>Pleurocidin</td>\n",
              "      <td>1</td>\n",
              "      <td>gram pos</td>\n",
              "      <td>Staphylococcus aureus ATCC 25923</td>\n",
              "      <td>BAAMPs_data.csv</td>\n",
              "      <td>GWGSFFKKAAHVGKHVGKAALTHYL</td>\n",
              "    </tr>\n",
              "  </tbody>\n",
              "</table>\n",
              "</div>"
            ],
            "text/plain": [
              "             id         name  AB description  \\\n",
              "name                                           \n",
              "Pleurocidin   1  Pleurocidin   1    gram neg   \n",
              "Pleurocidin   1  Pleurocidin   1    gram neg   \n",
              "Pleurocidin   1  Pleurocidin   1    gram pos   \n",
              "\n",
              "                                            OX          dataset  \\\n",
              "name                                                              \n",
              "Pleurocidin        Escherichia coli ATCC 25922  BAAMPs_data.csv   \n",
              "Pleurocidin  Pseudomonas aeruginosa ATCC 27853  BAAMPs_data.csv   \n",
              "Pleurocidin   Staphylococcus aureus ATCC 25923  BAAMPs_data.csv   \n",
              "\n",
              "                                   seq  \n",
              "name                                    \n",
              "Pleurocidin  GWGSFFKKAAHVGKHVGKAALTHYL  \n",
              "Pleurocidin  GWGSFFKKAAHVGKHVGKAALTHYL  \n",
              "Pleurocidin  GWGSFFKKAAHVGKHVGKAALTHYL  "
            ]
          },
          "execution_count": 36,
          "metadata": {},
          "output_type": "execute_result"
        }
      ],
      "source": [
        "#http://www.baamps.it/\n",
        "# download csv in browse /Export, all filter later\n",
        "# TODO! duplicates in names ?and sequence but diff origins\n",
        "\n",
        "df = tocsv('BAAMPs_data.csv', True, 'BAAMPs_data')\n",
        "df.head(3)"
      ]
    },
    {
      "cell_type": "code",
      "execution_count": null,
      "metadata": {},
      "outputs": [],
      "source": [
        "#TODO http://bactibase.hammamilab.org/about.php\n",
        "# nothing? showing"
      ]
    },
    {
      "cell_type": "code",
      "execution_count": null,
      "metadata": {},
      "outputs": [],
      "source": [
        "# http://split4.pmfst.hr/dadp/\n",
        "# scrape "
      ]
    },
    {
      "cell_type": "code",
      "execution_count": 46,
      "metadata": {},
      "outputs": [
        {
          "name": "stdout",
          "output_type": "stream",
          "text": [
            "input file dramp_antimicrobial.fasta\n",
            "converting with fct:  <bound method converters.conv_dramp_antimicrobial of <__main__.converters object at 0x7fd30cc79690>>\n",
            "min, max seq:  1 101\n",
            "saved df as csv to: dramp_antimicrobial_out.csv\n"
          ]
        },
        {
          "data": {
            "text/html": [
              "<div>\n",
              "<style scoped>\n",
              "    .dataframe tbody tr th:only-of-type {\n",
              "        vertical-align: middle;\n",
              "    }\n",
              "\n",
              "    .dataframe tbody tr th {\n",
              "        vertical-align: top;\n",
              "    }\n",
              "\n",
              "    .dataframe thead th {\n",
              "        text-align: right;\n",
              "    }\n",
              "</style>\n",
              "<table border=\"1\" class=\"dataframe\">\n",
              "  <thead>\n",
              "    <tr style=\"text-align: right;\">\n",
              "      <th></th>\n",
              "      <th>id</th>\n",
              "      <th>name</th>\n",
              "      <th>AB</th>\n",
              "      <th>description</th>\n",
              "      <th>OX</th>\n",
              "      <th>dataset</th>\n",
              "      <th>seq</th>\n",
              "    </tr>\n",
              "  </thead>\n",
              "  <tbody>\n",
              "    <tr>\n",
              "      <th>dramp_DRAMP00005</th>\n",
              "      <td>DRAMP00005</td>\n",
              "      <td>dramp_DRAMP00005</td>\n",
              "      <td>1</td>\n",
              "      <td>None</td>\n",
              "      <td>alien</td>\n",
              "      <td>dramp_antimicrobial.fasta</td>\n",
              "      <td>SLGPAIKATRQVCPKATRFVTVSCKKSDCQ</td>\n",
              "    </tr>\n",
              "    <tr>\n",
              "      <th>dramp_DRAMP00017</th>\n",
              "      <td>DRAMP00017</td>\n",
              "      <td>dramp_DRAMP00017</td>\n",
              "      <td>1</td>\n",
              "      <td>None</td>\n",
              "      <td>alien</td>\n",
              "      <td>dramp_antimicrobial.fasta</td>\n",
              "      <td>VTSWSLCTPGCTSPGGGSNCSFCC</td>\n",
              "    </tr>\n",
              "  </tbody>\n",
              "</table>\n",
              "</div>"
            ],
            "text/plain": [
              "                          id              name AB description     OX  \\\n",
              "dramp_DRAMP00005  DRAMP00005  dramp_DRAMP00005  1        None  alien   \n",
              "dramp_DRAMP00017  DRAMP00017  dramp_DRAMP00017  1        None  alien   \n",
              "\n",
              "                                    dataset                             seq  \n",
              "dramp_DRAMP00005  dramp_antimicrobial.fasta  SLGPAIKATRQVCPKATRFVTVSCKKSDCQ  \n",
              "dramp_DRAMP00017  dramp_antimicrobial.fasta        VTSWSLCTPGCTSPGGGSNCSFCC  "
            ]
          },
          "execution_count": 46,
          "metadata": {},
          "output_type": "execute_result"
        }
      ],
      "source": [
        "# http://dramp.cpu-bioinfor.org selected antimicorbial dataset\n",
        "\n",
        "df = tocsv('dramp_antimicrobial.fasta', True, 'dramp_antimicrobial')\n",
        "df.head(2)"
      ]
    },
    {
      "cell_type": "code",
      "execution_count": null,
      "metadata": {},
      "outputs": [],
      "source": [
        "# https://peptaibol.cryst.bbk.ac.uk/introduction.htm\n",
        "# https://peptaibol.cryst.bbk.ac.uk/peptaibol_database_1lettercodes.htm will have to scrape"
      ]
    },
    {
      "cell_type": "code",
      "execution_count": 110,
      "metadata": {},
      "outputs": [
        {
          "name": "stdout",
          "output_type": "stream",
          "text": [
            "input file LAMP2.fasta\n",
            "converting with fct:  <bound method converters.conv_LAMP2 of <__main__.converters object at 0x7fd2d0f80070>>\n",
            "['>L01A000872|Sequence 82 from patent US 7166769\\n', 'AAEDSQVGEGVVKIDCGGRCKGRCSKSSRPNLCLRACNSCCYRCNCVPPGTAGNHHLCPCYASITTRGGRLKCP\\n', '>L02A000612|Chrombacin \\n', 'AAEFPDFYDSEEQMGPHQEAEDEKDRADQRVLTEEEKKELENLAAMDLELQKIAEKFSQR\\n']\n",
            "min, max seq:  2 99\n",
            "saved df as csv to: LAMP2_out.csv\n"
          ]
        },
        {
          "data": {
            "text/html": [
              "<div>\n",
              "<style scoped>\n",
              "    .dataframe tbody tr th:only-of-type {\n",
              "        vertical-align: middle;\n",
              "    }\n",
              "\n",
              "    .dataframe tbody tr th {\n",
              "        vertical-align: top;\n",
              "    }\n",
              "\n",
              "    .dataframe thead th {\n",
              "        text-align: right;\n",
              "    }\n",
              "</style>\n",
              "<table border=\"1\" class=\"dataframe\">\n",
              "  <thead>\n",
              "    <tr style=\"text-align: right;\">\n",
              "      <th></th>\n",
              "      <th>id</th>\n",
              "      <th>name</th>\n",
              "      <th>AB</th>\n",
              "      <th>description</th>\n",
              "      <th>OX</th>\n",
              "      <th>dataset</th>\n",
              "      <th>seq</th>\n",
              "    </tr>\n",
              "  </thead>\n",
              "  <tbody>\n",
              "    <tr>\n",
              "      <th>LAMP2_L01A000872</th>\n",
              "      <td>L01A000872</td>\n",
              "      <td>LAMP2_L01A000872</td>\n",
              "      <td>1</td>\n",
              "      <td>Sequence 82 from patent US 7166769</td>\n",
              "      <td>alien</td>\n",
              "      <td>LAMP2.fasta</td>\n",
              "      <td>AAEDSQVGEGVVKIDCGGRCKGRCSKSSRPNLCLRACNSCCYRCNC...</td>\n",
              "    </tr>\n",
              "    <tr>\n",
              "      <th>LAMP2_L02A000612</th>\n",
              "      <td>L02A000612</td>\n",
              "      <td>LAMP2_L02A000612</td>\n",
              "      <td>1</td>\n",
              "      <td>Chrombacin</td>\n",
              "      <td>alien</td>\n",
              "      <td>LAMP2.fasta</td>\n",
              "      <td>AAEFPDFYDSEEQMGPHQEAEDEKDRADQRVLTEEEKKELENLAAM...</td>\n",
              "    </tr>\n",
              "  </tbody>\n",
              "</table>\n",
              "</div>"
            ],
            "text/plain": [
              "                          id              name AB  \\\n",
              "LAMP2_L01A000872  L01A000872  LAMP2_L01A000872  1   \n",
              "LAMP2_L02A000612  L02A000612  LAMP2_L02A000612  1   \n",
              "\n",
              "                                         description     OX      dataset  \\\n",
              "LAMP2_L01A000872  Sequence 82 from patent US 7166769  alien  LAMP2.fasta   \n",
              "LAMP2_L02A000612                         Chrombacin   alien  LAMP2.fasta   \n",
              "\n",
              "                                                                seq  \n",
              "LAMP2_L01A000872  AAEDSQVGEGVVKIDCGGRCKGRCSKSSRPNLCLRACNSCCYRCNC...  \n",
              "LAMP2_L02A000612  AAEFPDFYDSEEQMGPHQEAEDEKDRADQRVLTEEEKKELENLAAM...  "
            ]
          },
          "execution_count": 110,
          "metadata": {},
          "output_type": "execute_result"
        }
      ],
      "source": [
        "# http://biotechlab.fudan.edu.cn/database/lamp/index.php LAMP2\n",
        "# XML cant read, some more info (crosslinking to other db), later dropping patent = synthetic\n",
        "\n",
        "\"\"\" # options didnt work\n",
        "import codecs\n",
        "with codecs.open('LAMP2.XML', 'r', encoding='iso-8859-1') as f:\n",
        "    content = f.read()\n",
        "with codecs.open('LAMP2.xml', 'w', encoding='utf-8') as f:\n",
        "    f.write(content)\n",
        "\n",
        "import xml.etree.ElementTree as ET\n",
        "root = ET.parse('LAMP2.XML').getroot()\n",
        "\"\"\"\n",
        "\n",
        "df = tocsv('LAMP2.fasta', True, 'LAMP2')\n",
        "df.head(2)"
      ]
    },
    {
      "cell_type": "code",
      "execution_count": 122,
      "metadata": {},
      "outputs": [
        {
          "data": {
            "text/html": [
              "<div>\n",
              "<style scoped>\n",
              "    .dataframe tbody tr th:only-of-type {\n",
              "        vertical-align: middle;\n",
              "    }\n",
              "\n",
              "    .dataframe tbody tr th {\n",
              "        vertical-align: top;\n",
              "    }\n",
              "\n",
              "    .dataframe thead th {\n",
              "        text-align: right;\n",
              "    }\n",
              "</style>\n",
              "<table border=\"1\" class=\"dataframe\">\n",
              "  <thead>\n",
              "    <tr style=\"text-align: right;\">\n",
              "      <th></th>\n",
              "      <th>id</th>\n",
              "      <th>name</th>\n",
              "      <th>AB</th>\n",
              "      <th>description</th>\n",
              "      <th>OX</th>\n",
              "      <th>dataset</th>\n",
              "      <th>seq</th>\n",
              "    </tr>\n",
              "  </thead>\n",
              "  <tbody>\n",
              "    <tr>\n",
              "      <th>1</th>\n",
              "      <td>L02A000612</td>\n",
              "      <td>LAMP2_L02A000612</td>\n",
              "      <td>1</td>\n",
              "      <td>Chrombacin</td>\n",
              "      <td>alien</td>\n",
              "      <td>LAMP2.fasta</td>\n",
              "      <td>AAEFPDFYDSEEQMGPHQEAEDEKDRADQRVLTEEEKKELENLAAM...</td>\n",
              "    </tr>\n",
              "    <tr>\n",
              "      <th>2</th>\n",
              "      <td>L02A001914</td>\n",
              "      <td>LAMP2_L02A001914</td>\n",
              "      <td>1</td>\n",
              "      <td>Ranacyclin-B-AL1 (frog, amphibians, animals)</td>\n",
              "      <td>alien</td>\n",
              "      <td>LAMP2.fasta</td>\n",
              "      <td>AAFRGCWTKNYSPKPCL</td>\n",
              "    </tr>\n",
              "  </tbody>\n",
              "</table>\n",
              "</div>"
            ],
            "text/plain": [
              "           id              name  AB  \\\n",
              "1  L02A000612  LAMP2_L02A000612   1   \n",
              "2  L02A001914  LAMP2_L02A001914   1   \n",
              "\n",
              "                                    description     OX      dataset  \\\n",
              "1                                   Chrombacin   alien  LAMP2.fasta   \n",
              "2  Ranacyclin-B-AL1 (frog, amphibians, animals)  alien  LAMP2.fasta   \n",
              "\n",
              "                                                 seq  \n",
              "1  AAEFPDFYDSEEQMGPHQEAEDEKDRADQRVLTEEEKKELENLAAM...  \n",
              "2                                  AAFRGCWTKNYSPKPCL  "
            ]
          },
          "execution_count": 122,
          "metadata": {},
          "output_type": "execute_result"
        }
      ],
      "source": [
        "# removing synthetic\n",
        "df = pd.read_csv('LAMP2_out.csv')\n",
        "\n",
        "# entries with description patent are synthetic\n",
        "fcontains = lambda x: 'patent' not in str(x)\n",
        "dfnew = df[df.description.map(fcontains)]\n",
        "\n",
        "dfnew.to_csv('LAMP2_out.csv')#! overwriting\n",
        "# those with no descriptiuon cant be mapped\n",
        "dfnew.head(2)\n"
      ]
    },
    {
      "cell_type": "code",
      "execution_count": null,
      "metadata": {},
      "outputs": [],
      "source": [
        "#TODO http://yadamp.unisa.it\n",
        "# cant access database"
      ]
    },
    {
      "cell_type": "code",
      "execution_count": null,
      "metadata": {},
      "outputs": [],
      "source": [
        "#TODO http://phytamp.pfba-lab-tun.org/main.php\n",
        "# blank page"
      ]
    },
    {
      "cell_type": "code",
      "execution_count": null,
      "metadata": {},
      "outputs": [],
      "source": []
    },
    {
      "cell_type": "code",
      "execution_count": 34,
      "metadata": {},
      "outputs": [
        {
          "name": "stdout",
          "output_type": "stream",
          "text": [
            "input file InverPep.fasta\n",
            "converting with fct:  <bound method converters.conv_InverPep of <__main__.converters object at 0x7fa7be0b9a50>>\n",
            "['>AVP0722|-\\n', 'NNLETTAFHRDDHET\\n', '>BaAMPS_212|LF11-324\\n', 'PFFWRIRIRR\\n']\n",
            "min, max seq:  6 300\n",
            "saved df as csv to: InverPep_out.csv\n"
          ]
        },
        {
          "data": {
            "text/html": [
              "<div>\n",
              "<style scoped>\n",
              "    .dataframe tbody tr th:only-of-type {\n",
              "        vertical-align: middle;\n",
              "    }\n",
              "\n",
              "    .dataframe tbody tr th {\n",
              "        vertical-align: top;\n",
              "    }\n",
              "\n",
              "    .dataframe thead th {\n",
              "        text-align: right;\n",
              "    }\n",
              "</style>\n",
              "<table border=\"1\" class=\"dataframe\">\n",
              "  <thead>\n",
              "    <tr style=\"text-align: right;\">\n",
              "      <th></th>\n",
              "      <th>id</th>\n",
              "      <th>name</th>\n",
              "      <th>AB</th>\n",
              "      <th>description</th>\n",
              "      <th>OX</th>\n",
              "      <th>dataset</th>\n",
              "      <th>seq</th>\n",
              "    </tr>\n",
              "  </thead>\n",
              "  <tbody>\n",
              "    <tr>\n",
              "      <th>-AVP0722</th>\n",
              "      <td>AVP0722</td>\n",
              "      <td>-AVP0722</td>\n",
              "      <td>1</td>\n",
              "      <td>None</td>\n",
              "      <td>alien</td>\n",
              "      <td>InverPep.fasta</td>\n",
              "      <td>NNLETTAFHRDDHET</td>\n",
              "    </tr>\n",
              "    <tr>\n",
              "      <th>LF11-324</th>\n",
              "      <td>BaAMPS_212</td>\n",
              "      <td>LF11-324</td>\n",
              "      <td>1</td>\n",
              "      <td>None</td>\n",
              "      <td>alien</td>\n",
              "      <td>InverPep.fasta</td>\n",
              "      <td>PFFWRIRIRR</td>\n",
              "    </tr>\n",
              "  </tbody>\n",
              "</table>\n",
              "</div>"
            ],
            "text/plain": [
              "                  id      name AB description     OX         dataset  \\\n",
              "-AVP0722     AVP0722  -AVP0722  1        None  alien  InverPep.fasta   \n",
              "LF11-324  BaAMPS_212  LF11-324  1        None  alien  InverPep.fasta   \n",
              "\n",
              "                      seq  \n",
              "-AVP0722  NNLETTAFHRDDHET  \n",
              "LF11-324       PFFWRIRIRR  "
            ]
          },
          "execution_count": 34,
          "metadata": {},
          "output_type": "execute_result"
        }
      ],
      "source": [
        "#InverPep https://ciencias.medellin.unal.edu.co/gruposdeinvestigacion/prospeccionydisenobiomoleculas/InverPep/public/home_en\n",
        "# no selection criteria on webpage\n",
        "\n",
        "df = tocsv('InverPep.fasta', True, 'InverPep')\n",
        "df.head(2)"
      ]
    },
    {
      "cell_type": "code",
      "execution_count": 3,
      "metadata": {},
      "outputs": [
        {
          "name": "stdout",
          "output_type": "stream",
          "text": [
            "saved df as csv to: HIPdb_data_out.csv\n"
          ]
        },
        {
          "data": {
            "text/html": [
              "<div>\n",
              "<style scoped>\n",
              "    .dataframe tbody tr th:only-of-type {\n",
              "        vertical-align: middle;\n",
              "    }\n",
              "\n",
              "    .dataframe tbody tr th {\n",
              "        vertical-align: top;\n",
              "    }\n",
              "\n",
              "    .dataframe thead th {\n",
              "        text-align: right;\n",
              "    }\n",
              "</style>\n",
              "<table border=\"1\" class=\"dataframe\">\n",
              "  <thead>\n",
              "    <tr style=\"text-align: right;\">\n",
              "      <th></th>\n",
              "      <th>id</th>\n",
              "      <th>name</th>\n",
              "      <th>AB</th>\n",
              "      <th>description</th>\n",
              "      <th>OX</th>\n",
              "      <th>dataset</th>\n",
              "      <th>seq</th>\n",
              "    </tr>\n",
              "  </thead>\n",
              "  <tbody>\n",
              "    <tr>\n",
              "      <th>0</th>\n",
              "      <td>HIP144</td>\n",
              "      <td>15113844</td>\n",
              "      <td>1</td>\n",
              "      <td>5</td>\n",
              "      <td>CEM/LAV-1</td>\n",
              "      <td>HIPdb_data.xls</td>\n",
              "      <td>AEAMSQVTN</td>\n",
              "    </tr>\n",
              "    <tr>\n",
              "      <th>1</th>\n",
              "      <td>HIP140</td>\n",
              "      <td>15113844</td>\n",
              "      <td>1</td>\n",
              "      <td>100</td>\n",
              "      <td>CEM/LAV-1</td>\n",
              "      <td>HIPdb_data.xls</td>\n",
              "      <td>AAAMSQVTN</td>\n",
              "    </tr>\n",
              "  </tbody>\n",
              "</table>\n",
              "</div>"
            ],
            "text/plain": [
              "       id      name  AB description         OX         dataset        seq\n",
              "0  HIP144  15113844   1           5  CEM/LAV-1  HIPdb_data.xls  AEAMSQVTN\n",
              "1  HIP140  15113844   1         100  CEM/LAV-1  HIPdb_data.xls  AAAMSQVTN"
            ]
          },
          "execution_count": 3,
          "metadata": {},
          "output_type": "execute_result"
        }
      ],
      "source": [
        "# http://crdd.osdd.net/servers/hipdb/ no slection on webpage\n",
        "#TODO\n",
        "#df = tocsv('HIPdb_data.csv', True, 'HIPdb_data')\n",
        "# file -I HIPdb_data.csv to check for inut type\n",
        "#df = pd.read_csv('HIPdb_data.csv', encoding='utf-16le')\n",
        "\n",
        "df = pd.read_excel('HIPdb_data.xls', sheet_name='Sheet1')\n",
        "dfnew = df[df.SOURCE != 'synthetic']\n",
        "dfnew = dfnew[['ID', 'PMID', 'INHIBITION/IC50', 'CELL LINE', 'SEQUENCE']]\n",
        "\n",
        "dfnew.insert(2, 'AB', [1 for i in range(dfnew.shape[0]) ] )\n",
        "dfnew.insert(5, 'dataset', [ 'HIPdb_data.xls' for i in range(dfnew.shape[0]) ] )\n",
        "\n",
        "dfnew.columns = ['id', 'name', 'AB', 'description', 'OX', 'dataset', 'seq']\n",
        "dfnew.head(2)\n",
        "\n",
        "\n",
        "destin = 'HIPdb_data_out.csv'\n",
        "dfnew.to_csv(destin, index = False )\n",
        "print('saved df as csv to:', destin)\n",
        "\n",
        "dfnew.head(2)"
      ]
    },
    {
      "cell_type": "code",
      "execution_count": null,
      "metadata": {},
      "outputs": [],
      "source": [
        "#Thiobase https://bioinfo-mml.sjtu.edu.cn/THIOBASE/index.php\n",
        "#TODO not found"
      ]
    },
    {
      "cell_type": "code",
      "execution_count": 109,
      "metadata": {},
      "outputs": [
        {
          "name": "stdout",
          "output_type": "stream",
          "text": [
            "input file enzybase.fasta\n",
            "converting with fct:  <bound method converters.conv_enzybase of <__main__.converters object at 0x7fd2d294cb20>>\n",
            "['>EN47514126|AE|Q8HA43|phage B30 lysin,B30 lysin\\n', 'MATYQEYKSRSNGNAYDIDGSFGAQCWDGYADYCKYLGLPYANCTNTGYARDIWEQRHENGILNYFDEVEVMQAGDVAIFMVVDGVTPYSHVAIFDSDAGGGYGWFLGQNQGGANGAYNLVKIPYSATYPTAFRPKSFKNAVTVTDNTGLNKGDYFIDVSAYQQADLTTTCQQAGTTKTIIKVSESIAWLSDRHQQQANTSDPIGYYHFGRFGGDSALAQREADLFLSNLPSKKVSYLVIDYEDSASADKQANTNAVIAFMDKIASAGYKPIYYSYKPFTLNNIDYQKIIAKYPNSIWIAGYPDYEVRTEPLWEFFPSMDGVRWWQFTSVGVAGGLDKNIVLLADDSSKMDIPKVDKPQELTFYQKLATNTKLDNSNVPYYEATLSTDYYVESKPNASSADKEFIKAGTRVRVYEKVNGWSRINHPESAQWVEDNYLVNATDM\\n', '>EN61617816|D|O31982|N-acetylmuramoyl-L-alanine amidase BlyA,BlyA\\n', 'MSVFTNSYIPVNKYTRPGLKLQGVKKCVLHYTANPGAGADNHRRYFSNAQVYASAHIFVDKAEAICIIPLNEVAYHANDIQQRDSAGNPYRGVAALKPNANFLSIGVEMCLEKDGSFHSDTVERTEDVFVELCNKFGLDPIDDIVRHYDITHKNCPAPWVSNSQKFVDFKNRVKAKMSGKSVSKASPTKPTTSSPSSSSAVSGSLKSKVDGLRFYSKPSWEDKDVVGTVNKGIGFPTVVEKVKVGSAYQYKVKNSKGTTYYITASDKYVDVTGSVKTSSSAPKTTSTSSSSSSIKSVGKIKIVGVSSAAIVMDKPDRNSSKNIGTVKLGSTISISGSVKGKNNSNGYWEVIYKGKRGYISGQFGSTI\\n']\n",
            "min, max seq:  35 2337\n",
            "saved df as csv to: enzybase_out.csv\n"
          ]
        },
        {
          "data": {
            "text/html": [
              "<div>\n",
              "<style scoped>\n",
              "    .dataframe tbody tr th:only-of-type {\n",
              "        vertical-align: middle;\n",
              "    }\n",
              "\n",
              "    .dataframe tbody tr th {\n",
              "        vertical-align: top;\n",
              "    }\n",
              "\n",
              "    .dataframe thead th {\n",
              "        text-align: right;\n",
              "    }\n",
              "</style>\n",
              "<table border=\"1\" class=\"dataframe\">\n",
              "  <thead>\n",
              "    <tr style=\"text-align: right;\">\n",
              "      <th></th>\n",
              "      <th>id</th>\n",
              "      <th>name</th>\n",
              "      <th>AB</th>\n",
              "      <th>description</th>\n",
              "      <th>OX</th>\n",
              "      <th>dataset</th>\n",
              "      <th>seq</th>\n",
              "    </tr>\n",
              "  </thead>\n",
              "  <tbody>\n",
              "    <tr>\n",
              "      <th>EN47514126</th>\n",
              "      <td>Q8HA43</td>\n",
              "      <td>EN47514126</td>\n",
              "      <td>1</td>\n",
              "      <td>type_AE_phage B30 lysin,B30 lysin</td>\n",
              "      <td>alien</td>\n",
              "      <td>enzybase.fasta</td>\n",
              "      <td>MATYQEYKSRSNGNAYDIDGSFGAQCWDGYADYCKYLGLPYANCTN...</td>\n",
              "    </tr>\n",
              "    <tr>\n",
              "      <th>EN61617816</th>\n",
              "      <td>O31982</td>\n",
              "      <td>EN61617816</td>\n",
              "      <td>1</td>\n",
              "      <td>type_D_N-acetylmuramoyl-L-alanine amidase BlyA...</td>\n",
              "      <td>alien</td>\n",
              "      <td>enzybase.fasta</td>\n",
              "      <td>MSVFTNSYIPVNKYTRPGLKLQGVKKCVLHYTANPGAGADNHRRYF...</td>\n",
              "    </tr>\n",
              "  </tbody>\n",
              "</table>\n",
              "</div>"
            ],
            "text/plain": [
              "                id        name AB  \\\n",
              "EN47514126  Q8HA43  EN47514126  1   \n",
              "EN61617816  O31982  EN61617816  1   \n",
              "\n",
              "                                                  description     OX  \\\n",
              "EN47514126                  type_AE_phage B30 lysin,B30 lysin  alien   \n",
              "EN61617816  type_D_N-acetylmuramoyl-L-alanine amidase BlyA...  alien   \n",
              "\n",
              "                   dataset                                                seq  \n",
              "EN47514126  enzybase.fasta  MATYQEYKSRSNGNAYDIDGSFGAQCWDGYADYCKYLGLPYANCTN...  \n",
              "EN61617816  enzybase.fasta  MSVFTNSYIPVNKYTRPGLKLQGVKKCVLHYTANPGAGADNHRRYF...  "
            ]
          },
          "execution_count": 109,
          "metadata": {},
          "output_type": "execute_result"
        }
      ],
      "source": [
        "#EnzyBase http://biotechlab.fudan.edu.cn/database/EnzyBase/home.php\n",
        "# no selection on webpage, file enzybase\n",
        "df = tocsv('enzybase.fasta', True, 'enzybase')\n",
        "df.head(2)"
      ]
    },
    {
      "cell_type": "code",
      "execution_count": null,
      "metadata": {},
      "outputs": [],
      "source": [
        "#Parapep http://crdd.osdd.net/raghava/parapep/\n",
        "# no general download, if select for L chirality get df http://crdd.osdd.net/raghava/parapep/submitkey_target_search.php?ran=5411\n",
        "# scrape: same format as .hr file"
      ]
    },
    {
      "cell_type": "code",
      "execution_count": null,
      "metadata": {},
      "outputs": [],
      "source": [
        "# https://webs.iiitd.edu.in/raghava/antitbpdb/ select for peptide type = natural\n",
        "# have to scrape https://webs.iiitd.edu.in/raghava/antitbpdb/browse_sub1.php?token=Natural&col=12"
      ]
    },
    {
      "cell_type": "code",
      "execution_count": null,
      "metadata": {},
      "outputs": [],
      "source": []
    },
    {
      "cell_type": "code",
      "execution_count": null,
      "metadata": {},
      "outputs": [],
      "source": [
        "# import from swissprot fasta, \n",
        "# anyone know list of metadata\n",
        "# fingerprints\n",
        "# unified dataset\n",
        "# leraning algorithms\n",
        "\n",
        "# ? non secretary proteins, how to identify?"
      ]
    },
    {
      "attachments": {},
      "cell_type": "markdown",
      "metadata": {
        "id": "owXgKmWXn591"
      },
      "source": [
        "# NEGATIVE SAMPLES"
      ]
    },
    {
      "cell_type": "code",
      "execution_count": 49,
      "metadata": {},
      "outputs": [],
      "source": []
    },
    {
      "cell_type": "code",
      "execution_count": null,
      "metadata": {
        "id": "vMQbEP9Rm5XG"
      },
      "outputs": [],
      "source": []
    },
    {
      "cell_type": "code",
      "execution_count": null,
      "metadata": {
        "id": "tB3cMkPIm56u"
      },
      "outputs": [],
      "source": []
    },
    {
      "cell_type": "code",
      "execution_count": null,
      "metadata": {
        "id": "3s-GlB-VRj3Y"
      },
      "outputs": [],
      "source": []
    },
    {
      "cell_type": "code",
      "execution_count": null,
      "metadata": {
        "id": "XgvxEPDiRvyk"
      },
      "outputs": [],
      "source": []
    },
    {
      "cell_type": "code",
      "execution_count": null,
      "metadata": {},
      "outputs": [],
      "source": []
    }
  ],
  "metadata": {
    "colab": {
      "provenance": []
    },
    "kernelspec": {
      "display_name": "Python 3",
      "name": "python3"
    },
    "language_info": {
      "codemirror_mode": {
        "name": "ipython",
        "version": 3
      },
      "file_extension": ".py",
      "mimetype": "text/x-python",
      "name": "python",
      "nbconvert_exporter": "python",
      "pygments_lexer": "ipython3",
      "version": "3.10.9"
    }
  },
  "nbformat": 4,
  "nbformat_minor": 0
}
