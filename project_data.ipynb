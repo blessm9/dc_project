{
  "cells": [
    {
      "attachments": {},
      "cell_type": "markdown",
      "metadata": {
        "id": "e7KYp5Q3Cu3T"
      },
      "source": [
        "[![Open In Colab](https://colab.research.google.com/assets/colab-badge.svg)](https://colab.research.google.com/github/lnsphnplt/dc_project/blob/main/project_data.ipynb)\n",
        "\n",
        "# Literature on data \n",
        "## Machine Learning Prediction of Antimicrobial Peptides\n",
        "### Guangshun Wang, Iosif I. Vaisman, and Monique L. van Hoek\n",
        "\n",
        "Find data from online databases, collect and store them in a unified database. Curation: Check data uniformity, e.g. length of sequence, amino acid distribution, equal amount of positive and negative data.\n",
        "\n",
        "\n",
        "88% of the entries in the APD[11] (Wang G, Li X, Wang Z (2016) APD3: the antimicrobial peptide database as a tool for research and education. Nucleic Acids Res 44:D1087–D1093) are less than 50 amino acids and only 80 peptides out of 3257 have a length greater than 100 residues. Similarly, most peptides in DBAASP database are shorter than 50 residues. Only 20 entries in DBAASP are longer than 100 residues\n",
        "\n",
        "\n",
        "be selected from AMP databases (Table 2). Normally, only a subset of the entire database (or several databases) can be used to compile a positive part of the training set. Sequences from the database are filtered by length, activity, sequence identity, and other parameters.\n",
        "\n",
        "\n",
        "\n",
        " -> ML methods, Table 3, choose s.t. can benchmark?: SVM, KNN\n",
        "\n",
        "\n",
        "The AntiBP [17] generated the first negative data set based on the Uniprot [79]. The negative part of the training set is usually selected from the random sequences in the protein sequence database, which are not annotated as antimicrobial, secretory, toxins, etc. Sequences in the negative set can be controlled by the level of sequence identity, sequence composition, similarity to the sequences in the positive set, structural, and other properties.\n",
        "\n",
        "\n",
        "\n",
        "\n",
        "## AntiBP [17]\n",
        "### Lata S, Sharma BK, Raghava GP (2007) - Analysis and prediction of antibacterial peptides. BMC Bioinformatics 8:263 https://bmcbioinformatics.biomedcentral.com/articles/10.1186/1471-2105-8-263\n",
        "\n",
        "In order to generate non- antibacterial peptides or negative examples, we obtained peptides randomly from non-secretory proteins [28](Kumar M, Verma R, Raghava GP: Prediction of mitochondrial proteins using support vector machine and hidden Markov model. J Biol Chem 2006, 281(9):5357-63.)\n",
        "-> just mitochondrial for negative? mention in discussion but not in datasets?\n",
        "\n",
        "-> this is general info\n",
        "We extracted 486 antibacterial peptides having less than 61 residues from APD database [21](Wang Z, Wang G: APD: the Antimicrobial Peptide Database. Nucleic Acids Research 2004, 32:D590-D592.). We analyzed the length of these peptides and observed that most of them have more than 15 residues. Thus we created a dataset of antibacterial peptides having number of residues between 15 and 60. After removing identical peptides, we got a dataset of 436 non-redundant antibacterial peptides, also called positive dataset. In order to generate negative data- set or dataset of non-antibacterial peptides, we extracted equal number of peptides randomly from non-secretary proteins. Our final dataset, called main dataset, has 436 antibacterial and 436 random peptides.\n",
        "\n",
        "\n",
        "## Non-secretory proteins[28]\n",
        "### Manish Kumar, Ruchi Verma, and Gajendra P. S. Raghava - Prediction of Mitochondrial Proteins Using Support Vector Machine and Hidden Markov Model https://www.jbc.org/article/S0021-9258(19)76656-3/fulltext\n",
        "\n",
        "\n",
        "\n",
        "\n",
        "\n",
        "\n"
      ]
    },
    {
      "attachments": {},
      "cell_type": "markdown",
      "metadata": {},
      "source": [
        "# Table 2 web accessible databases \n",
        "\n",
        "campr could not download collection\n"
      ]
    },
    {
      "attachments": {},
      "cell_type": "markdown",
      "metadata": {
        "id": "YpObPyidLqJJ"
      },
      "source": [
        "# Notes on databases from lecture 3-2\n",
        "\n",
        "database: in tables, sql, setup=difficult, large binary files = need special consideration?\n",
        "\n",
        "setting up your sql databses SQlite (github check atomlite, chemicalite)\n",
        "zenodo or ETH research?\n",
        "-> how many samples, paper 2 just 463\n"
      ]
    },
    {
      "attachments": {},
      "cell_type": "markdown",
      "metadata": {
        "id": "oq6lwiNZOzDq"
      },
      "source": [
        "*kursiver Text* ## ADP repo data"
      ]
    },
    {
      "cell_type": "code",
      "execution_count": null,
      "metadata": {
        "id": "LV3EX8GzOzsI"
      },
      "outputs": [],
      "source": [
        "# in fast format\n",
        "#from pysam import FastaFile\n",
        "import pandas as pd\n",
        "#filen = ''"
      ]
    },
    {
      "cell_type": "code",
      "execution_count": null,
      "metadata": {
        "colab": {
          "base_uri": "https://localhost:8080/"
        },
        "id": "Jnj49R45eWq-",
        "outputId": "5d329599-6a0b-47a2-9223-97d0c89a4813"
      },
      "outputs": [
        {
          "name": "stdout",
          "output_type": "stream",
          "text": [
            "/content\n",
            "APD_sequence_release_09142020.fasta  sample_data\n"
          ]
        }
      ],
      "source": [
        "!pwd\n",
        "!ls"
      ]
    },
    {
      "cell_type": "code",
      "execution_count": null,
      "metadata": {
        "colab": {
          "base_uri": "https://localhost:8080/"
        },
        "id": "5XPjHGrHRNLZ",
        "outputId": "c8207997-7c83-4f36-8896-4cece5dfe4ff"
      },
      "outputs": [
        {
          "name": "stdout",
          "output_type": "stream",
          "text": [
            "--2024-04-23 15:30:50--  https://raw.githubusercontent.com/lnsphnplt/dc_project/main/APD_sequence_release_09142020.fasta\n",
            "Resolving raw.githubusercontent.com (raw.githubusercontent.com)... 185.199.108.133, 185.199.109.133, 185.199.110.133, ...\n",
            "Connecting to raw.githubusercontent.com (raw.githubusercontent.com)|185.199.108.133|:443... connected.\n",
            "HTTP request sent, awaiting response... 200 OK\n",
            "Length: 370959 (362K) [text/plain]\n",
            "Saving to: ‘APD_sequence_release_09142020.fasta’\n",
            "\n",
            "\r          APD_seque   0%[                    ]       0  --.-KB/s               \rAPD_sequence_releas 100%[===================>] 362.26K  --.-KB/s    in 0.03s   \n",
            "\n",
            "2024-04-23 15:30:50 (10.2 MB/s) - ‘APD_sequence_release_09142020.fasta’ saved [370959/370959]\n",
            "\n"
          ]
        }
      ],
      "source": [
        "!wget https://raw.githubusercontent.com/lnsphnplt/dc_project/main/APD_sequence_release_09142020.fasta\n"
      ]
    },
    {
      "cell_type": "code",
      "execution_count": 44,
      "metadata": {},
      "outputs": [],
      "source": [
        "class converters:\n",
        "\n",
        "  def __init__(self):\n",
        "    self.name = 'hi'\n",
        "\n",
        "  def conv_APD_sequence_release_09142020(self, l, infile):\n",
        "    names, rest = l.split(' ', 1)# ( at times ( ( at ttimes [])))\n",
        "    id, name = names.strip('>').split('|')\n",
        "    seq = {'id':id, 'name':name, 'AB':1, 'description':rest, 'OX':'alien', 'dataset':infile, 'seq':''}\n",
        "    return name, seq\n",
        "  \n",
        "  def conv_peptides_fasta_nonribosomal(self, l, infile):\n",
        "    l = l.split('> ')[1]\n",
        "    id, name = l.strip('\\n').split(' ', 1)\n",
        "    seq = {'id':id, 'name':name, 'AB':1, 'description':'None', 'OX':'alien', 'dataset':infile, 'seq':''}\n",
        "    return name, seq\n",
        "  \n",
        "  def conv_peptides_fasta_ribosomal(self, l, infile):\n",
        "    l = l.split('> ')[1]\n",
        "    id, name = l.strip('\\n').split(' ', 1)\n",
        "    seq = {'id':id, 'name':name, 'AB':1, 'description':'None', 'OX':'alien', 'dataset':infile, 'seq':''}\n",
        "    return name, seq\n",
        "  \n",
        "  def conv_BAAMPs_data(self, l, infile):\n",
        "    l = l.split('> ')[1]\n",
        "    id, name = l.strip('\\n').split(' ', 1)\n",
        "    seq = {'id':id, 'name':name, 'AB':1, 'description':'None', 'OX':'alien', 'dataset':infile, 'seq':''}\n",
        "    return name, seq\n",
        "  \n",
        "\n",
        "  def conv_BAAMPs_data(self, infile):\n",
        "    df = pd.read_csv(infile)\n",
        "\n",
        "    dfnew = df[['PeptideID', 'PeptideName', 'Microorganism group', 'Microorganism', 'PeptideSequence']]\n",
        "    dfnew.insert(2, 'AB', [1 for i in range(dfnew.shape[0]) ] )\n",
        "    dfnew.insert(2, 'dataset', [ 'BAAMPs_data.csv' for i in range(dfnew.shape[0]) ] )\n",
        "    colnames = ['id', 'name', 'AB', 'description', 'OX', 'dataset', 'seq']\n",
        "    dfnew.columns = colnames\n",
        "    dfnew.index = dfnew.name\n",
        "\n",
        "    return dfnew\n",
        "\n",
        "  \n",
        "  \n",
        "  \n"
      ]
    },
    {
      "cell_type": "code",
      "execution_count": 41,
      "metadata": {},
      "outputs": [],
      "source": [
        "def csvtocsv(infile):#, save, ofile = ''):\n",
        "\n",
        "    filetype = infile.split('.fasta')[0].split('.txt')[0].split('.csv')[0]\n",
        "    converter = converters()\n",
        "    convfct = getattr(converter, 'conv_'+str(filetype))\n",
        "    print('converting with fct: ', convfct)\n",
        "\n",
        "    df = convfct(infile)\n",
        "    \n",
        "    return df"
      ]
    },
    {
      "cell_type": "code",
      "execution_count": 48,
      "metadata": {},
      "outputs": [],
      "source": [
        "\n",
        "def tocsv(infile, save, ofile=''):\n",
        "    \n",
        "  print('input file', infile)\n",
        "\n",
        "  if infile.split('.')[1] == 'csv':\n",
        "    df = csvtocsv(infile)\n",
        "  \n",
        "  else:\n",
        "\n",
        "    with open(infile, 'r') as inf:\n",
        "\n",
        "      filetype = infile.split('.fasta')[0].split('.txt')[0].split('.csv')[0]\n",
        "      converter = converters()\n",
        "      convfct = getattr(converter, 'conv_'+str(filetype))\n",
        "      print('converting with fct: ', convfct)\n",
        "      \n",
        "      seqs = {}\n",
        "      lastname = 'None'\n",
        "\n",
        "      flines = inf.readlines()\n",
        "\n",
        "      for l in flines:\n",
        "        if l[0]=='>':# sequence identifier\n",
        "          name, seq = convfct(l, infile)\n",
        "          seqs[name] = seq\n",
        "          lastname = name\n",
        "\n",
        "        else:\n",
        "          seq = seqs[lastname]\n",
        "          seq['seq'] += l.strip('>').strip('\\n').strip(' ')\n",
        "\n",
        "    inf.close()\n",
        "\n",
        "    df = pd.DataFrame.from_dict(seqs).transpose()\n",
        "    lens = df.seq.map(len)\n",
        "    print('min, max seq: ', min(lens), max(lens))\n",
        "\n",
        "  if save:\n",
        "      destin = ofile.split('.csv')[0]+'_out.csv'\n",
        "      df.to_csv(destin, index = False )\n",
        "      print('saved df as csv to:', destin)\n",
        "      \n",
        "  return df"
      ]
    },
    {
      "cell_type": "code",
      "execution_count": 49,
      "metadata": {
        "colab": {
          "base_uri": "https://localhost:8080/",
          "height": 114
        },
        "id": "G1nc8sa3tZCF",
        "outputId": "51f65228-7ce4-45e1-b7e4-6cdb3d26b938"
      },
      "outputs": [
        {
          "name": "stdout",
          "output_type": "stream",
          "text": [
            "input file APD_sequence_release_09142020.fasta\n",
            "converting with fct:  <bound method converters.conv_APD_sequence_release_09142020 of <__main__.converters object at 0x7fabd5d52950>>\n",
            "min, max seq:  4 183\n",
            "saved df as csv to: APD_sequence_release_09142020_out.csv\n"
          ]
        },
        {
          "data": {
            "text/html": [
              "<div>\n",
              "<style scoped>\n",
              "    .dataframe tbody tr th:only-of-type {\n",
              "        vertical-align: middle;\n",
              "    }\n",
              "\n",
              "    .dataframe tbody tr th {\n",
              "        vertical-align: top;\n",
              "    }\n",
              "\n",
              "    .dataframe thead th {\n",
              "        text-align: right;\n",
              "    }\n",
              "</style>\n",
              "<table border=\"1\" class=\"dataframe\">\n",
              "  <thead>\n",
              "    <tr style=\"text-align: right;\">\n",
              "      <th></th>\n",
              "      <th>id</th>\n",
              "      <th>name</th>\n",
              "      <th>AB</th>\n",
              "      <th>description</th>\n",
              "      <th>OX</th>\n",
              "      <th>dataset</th>\n",
              "      <th>seq</th>\n",
              "    </tr>\n",
              "  </thead>\n",
              "  <tbody>\n",
              "    <tr>\n",
              "      <th>Dermaseptin-B2</th>\n",
              "      <td>00001</td>\n",
              "      <td>Dermaseptin-B2</td>\n",
              "      <td>1</td>\n",
              "      <td>(XXA, DRS-B2,  Dermaseptin B2, DRS B2, DS bII,...</td>\n",
              "      <td>alien</td>\n",
              "      <td>APD_sequence_release_09142020.fasta</td>\n",
              "      <td>GLWSKIKEVGKEAAKAAAKAAGKAALGAVSEAV</td>\n",
              "    </tr>\n",
              "    <tr>\n",
              "      <th>Abaecin</th>\n",
              "      <td>00002</td>\n",
              "      <td>Abaecin</td>\n",
              "      <td>1</td>\n",
              "      <td>(Pro-rich; insects, arthropods, invertebrates,...</td>\n",
              "      <td>alien</td>\n",
              "      <td>APD_sequence_release_09142020.fasta</td>\n",
              "      <td>YVPLPNVPQPGRRPFPTFPGQGPFNPKIKWPQGY</td>\n",
              "    </tr>\n",
              "  </tbody>\n",
              "</table>\n",
              "</div>"
            ],
            "text/plain": [
              "                   id            name AB  \\\n",
              "Dermaseptin-B2  00001  Dermaseptin-B2  1   \n",
              "Abaecin         00002         Abaecin  1   \n",
              "\n",
              "                                                      description     OX  \\\n",
              "Dermaseptin-B2  (XXA, DRS-B2,  Dermaseptin B2, DRS B2, DS bII,...  alien   \n",
              "Abaecin         (Pro-rich; insects, arthropods, invertebrates,...  alien   \n",
              "\n",
              "                                            dataset  \\\n",
              "Dermaseptin-B2  APD_sequence_release_09142020.fasta   \n",
              "Abaecin         APD_sequence_release_09142020.fasta   \n",
              "\n",
              "                                               seq  \n",
              "Dermaseptin-B2   GLWSKIKEVGKEAAKAAAKAAGKAALGAVSEAV  \n",
              "Abaecin         YVPLPNVPQPGRRPFPTFPGQGPFNPKIKWPQGY  "
            ]
          },
          "execution_count": 49,
          "metadata": {},
          "output_type": "execute_result"
        }
      ],
      "source": [
        "# http://aps.unmc.edu/AP/main.php\n",
        "df = tocsv('APD_sequence_release_09142020.fasta', True, 'APD_sequence_release_09142020')\n",
        "df.head(2)"
      ]
    },
    {
      "cell_type": "code",
      "execution_count": null,
      "metadata": {},
      "outputs": [],
      "source": [
        "#http://www.camp3.bicnirrh.res.in/\n",
        "# not loading and if, cant download list"
      ]
    },
    {
      "cell_type": "code",
      "execution_count": 136,
      "metadata": {},
      "outputs": [
        {
          "name": "stdout",
          "output_type": "stream",
          "text": [
            "input file peptides_fasta_nonribosomal.txt\n",
            "converting with fct:  <bound method converters.conv_peptides_fasta_nonribosomal of <__main__.converters object at 0x7fcf8c9af940>>\n",
            "min, max seq:  2 22\n",
            "saved df as csv to: peptides_fasta_nonribosomal.csv\n"
          ]
        },
        {
          "data": {
            "text/html": [
              "<div>\n",
              "<style scoped>\n",
              "    .dataframe tbody tr th:only-of-type {\n",
              "        vertical-align: middle;\n",
              "    }\n",
              "\n",
              "    .dataframe tbody tr th {\n",
              "        vertical-align: top;\n",
              "    }\n",
              "\n",
              "    .dataframe thead th {\n",
              "        text-align: right;\n",
              "    }\n",
              "</style>\n",
              "<table border=\"1\" class=\"dataframe\">\n",
              "  <thead>\n",
              "    <tr style=\"text-align: right;\">\n",
              "      <th></th>\n",
              "      <th>id</th>\n",
              "      <th>name</th>\n",
              "      <th>AB</th>\n",
              "      <th>description</th>\n",
              "      <th>OX</th>\n",
              "      <th>dataset</th>\n",
              "      <th>seq</th>\n",
              "    </tr>\n",
              "  </thead>\n",
              "  <tbody>\n",
              "    <tr>\n",
              "      <th>Gramicidin S, GS</th>\n",
              "      <td>DBAASPN_1688</td>\n",
              "      <td>Gramicidin S, GS</td>\n",
              "      <td>1</td>\n",
              "      <td>None</td>\n",
              "      <td>alien</td>\n",
              "      <td>peptides_fasta_nonribosomal.txt</td>\n",
              "      <td>VXLfPVXLfP</td>\n",
              "    </tr>\n",
              "    <tr>\n",
              "      <th>Gratisin, GR</th>\n",
              "      <td>DBAASPN_3314</td>\n",
              "      <td>Gratisin, GR</td>\n",
              "      <td>1</td>\n",
              "      <td>None</td>\n",
              "      <td>alien</td>\n",
              "      <td>peptides_fasta_nonribosomal.txt</td>\n",
              "      <td>VXLfPyVXLfPy</td>\n",
              "    </tr>\n",
              "  </tbody>\n",
              "</table>\n",
              "</div>"
            ],
            "text/plain": [
              "                            id              name AB description     OX  \\\n",
              "Gramicidin S, GS  DBAASPN_1688  Gramicidin S, GS  1        None  alien   \n",
              "Gratisin, GR      DBAASPN_3314      Gratisin, GR  1        None  alien   \n",
              "\n",
              "                                          dataset           seq  \n",
              "Gramicidin S, GS  peptides_fasta_nonribosomal.txt    VXLfPVXLfP  \n",
              "Gratisin, GR      peptides_fasta_nonribosomal.txt  VXLfPyVXLfPy  "
            ]
          },
          "execution_count": 136,
          "metadata": {},
          "output_type": "execute_result"
        }
      ],
      "source": [
        "# https://dbaasp.org\n",
        "# downloaded seq lengths from 2-100, nonribosomal, then ribosomal selection\n",
        "\n",
        "df = tocsv('peptides_fasta_nonribosomal.txt', True, 'peptides_fasta_nonribosomal')\n",
        "df.head(2)"
      ]
    },
    {
      "cell_type": "code",
      "execution_count": 137,
      "metadata": {},
      "outputs": [
        {
          "name": "stdout",
          "output_type": "stream",
          "text": [
            "input file peptides_fasta_ribosomal.txt\n",
            "converting with fct:  <bound method converters.conv_peptides_fasta_ribosomal of <__main__.converters object at 0x7fcfde9e6650>>\n",
            "min, max seq:  4 100\n",
            "saved df as csv to: peptides_fasta_ribosomal.csv\n"
          ]
        },
        {
          "data": {
            "text/html": [
              "<div>\n",
              "<style scoped>\n",
              "    .dataframe tbody tr th:only-of-type {\n",
              "        vertical-align: middle;\n",
              "    }\n",
              "\n",
              "    .dataframe tbody tr th {\n",
              "        vertical-align: top;\n",
              "    }\n",
              "\n",
              "    .dataframe thead th {\n",
              "        text-align: right;\n",
              "    }\n",
              "</style>\n",
              "<table border=\"1\" class=\"dataframe\">\n",
              "  <thead>\n",
              "    <tr style=\"text-align: right;\">\n",
              "      <th></th>\n",
              "      <th>id</th>\n",
              "      <th>name</th>\n",
              "      <th>AB</th>\n",
              "      <th>description</th>\n",
              "      <th>OX</th>\n",
              "      <th>dataset</th>\n",
              "      <th>seq</th>\n",
              "    </tr>\n",
              "  </thead>\n",
              "  <tbody>\n",
              "    <tr>\n",
              "      <th>Cathelicidin-1, CATH-1, Fowlicidin-1</th>\n",
              "      <td>DBAASPR_9526</td>\n",
              "      <td>Cathelicidin-1, CATH-1, Fowlicidin-1</td>\n",
              "      <td>1</td>\n",
              "      <td>None</td>\n",
              "      <td>alien</td>\n",
              "      <td>peptides_fasta_ribosomal.txt</td>\n",
              "      <td>RVKRVWPLVIRTVIAGYNLYRAIKKK</td>\n",
              "    </tr>\n",
              "    <tr>\n",
              "      <th>Brevinin-2 related peptide B2RP</th>\n",
              "      <td>DBAASPR_14</td>\n",
              "      <td>Brevinin-2 related peptide B2RP</td>\n",
              "      <td>1</td>\n",
              "      <td>None</td>\n",
              "      <td>alien</td>\n",
              "      <td>peptides_fasta_ribosomal.txt</td>\n",
              "      <td>GIWDTIKSMGKVFAGKILQNL</td>\n",
              "    </tr>\n",
              "  </tbody>\n",
              "</table>\n",
              "</div>"
            ],
            "text/plain": [
              "                                                id  \\\n",
              "Cathelicidin-1, CATH-1, Fowlicidin-1  DBAASPR_9526   \n",
              "Brevinin-2 related peptide B2RP         DBAASPR_14   \n",
              "\n",
              "                                                                      name AB  \\\n",
              "Cathelicidin-1, CATH-1, Fowlicidin-1  Cathelicidin-1, CATH-1, Fowlicidin-1  1   \n",
              "Brevinin-2 related peptide B2RP         Brevinin-2 related peptide B2RP     1   \n",
              "\n",
              "                                     description     OX  \\\n",
              "Cathelicidin-1, CATH-1, Fowlicidin-1        None  alien   \n",
              "Brevinin-2 related peptide B2RP             None  alien   \n",
              "\n",
              "                                                           dataset  \\\n",
              "Cathelicidin-1, CATH-1, Fowlicidin-1  peptides_fasta_ribosomal.txt   \n",
              "Brevinin-2 related peptide B2RP       peptides_fasta_ribosomal.txt   \n",
              "\n",
              "                                                             seq  \n",
              "Cathelicidin-1, CATH-1, Fowlicidin-1  RVKRVWPLVIRTVIAGYNLYRAIKKK  \n",
              "Brevinin-2 related peptide B2RP            GIWDTIKSMGKVFAGKILQNL  "
            ]
          },
          "execution_count": 137,
          "metadata": {},
          "output_type": "execute_result"
        }
      ],
      "source": [
        "df = tocsv('peptides_fasta_ribosomal.txt', True, 'peptides_fasta_ribosomal')\n",
        "df.head(2)"
      ]
    },
    {
      "cell_type": "code",
      "execution_count": null,
      "metadata": {},
      "outputs": [],
      "source": [
        "# http://defensins.bii.a-star.edu.sg/\n",
        "# website currently under maintenance"
      ]
    },
    {
      "cell_type": "code",
      "execution_count": 50,
      "metadata": {},
      "outputs": [
        {
          "name": "stdout",
          "output_type": "stream",
          "text": [
            "input file BAAMPs_data.csv\n",
            "converting with fct:  <bound method converters.conv_BAAMPs_data of <__main__.converters object at 0x7fabd5d52d10>>\n",
            "saved df as csv to: BAAMPs_data_out.csv\n"
          ]
        },
        {
          "data": {
            "text/html": [
              "<div>\n",
              "<style scoped>\n",
              "    .dataframe tbody tr th:only-of-type {\n",
              "        vertical-align: middle;\n",
              "    }\n",
              "\n",
              "    .dataframe tbody tr th {\n",
              "        vertical-align: top;\n",
              "    }\n",
              "\n",
              "    .dataframe thead th {\n",
              "        text-align: right;\n",
              "    }\n",
              "</style>\n",
              "<table border=\"1\" class=\"dataframe\">\n",
              "  <thead>\n",
              "    <tr style=\"text-align: right;\">\n",
              "      <th></th>\n",
              "      <th>id</th>\n",
              "      <th>name</th>\n",
              "      <th>AB</th>\n",
              "      <th>description</th>\n",
              "      <th>OX</th>\n",
              "      <th>dataset</th>\n",
              "      <th>seq</th>\n",
              "    </tr>\n",
              "    <tr>\n",
              "      <th>name</th>\n",
              "      <th></th>\n",
              "      <th></th>\n",
              "      <th></th>\n",
              "      <th></th>\n",
              "      <th></th>\n",
              "      <th></th>\n",
              "      <th></th>\n",
              "    </tr>\n",
              "  </thead>\n",
              "  <tbody>\n",
              "    <tr>\n",
              "      <th>Pleurocidin</th>\n",
              "      <td>1</td>\n",
              "      <td>Pleurocidin</td>\n",
              "      <td>BAAMPs_data.csv</td>\n",
              "      <td>1</td>\n",
              "      <td>gram neg</td>\n",
              "      <td>Escherichia coli ATCC 25922</td>\n",
              "      <td>GWGSFFKKAAHVGKHVGKAALTHYL</td>\n",
              "    </tr>\n",
              "    <tr>\n",
              "      <th>Pleurocidin</th>\n",
              "      <td>1</td>\n",
              "      <td>Pleurocidin</td>\n",
              "      <td>BAAMPs_data.csv</td>\n",
              "      <td>1</td>\n",
              "      <td>gram neg</td>\n",
              "      <td>Pseudomonas aeruginosa ATCC 27853</td>\n",
              "      <td>GWGSFFKKAAHVGKHVGKAALTHYL</td>\n",
              "    </tr>\n",
              "    <tr>\n",
              "      <th>Pleurocidin</th>\n",
              "      <td>1</td>\n",
              "      <td>Pleurocidin</td>\n",
              "      <td>BAAMPs_data.csv</td>\n",
              "      <td>1</td>\n",
              "      <td>gram pos</td>\n",
              "      <td>Staphylococcus aureus ATCC 25923</td>\n",
              "      <td>GWGSFFKKAAHVGKHVGKAALTHYL</td>\n",
              "    </tr>\n",
              "  </tbody>\n",
              "</table>\n",
              "</div>"
            ],
            "text/plain": [
              "             id         name               AB  description        OX  \\\n",
              "name                                                                   \n",
              "Pleurocidin   1  Pleurocidin  BAAMPs_data.csv            1  gram neg   \n",
              "Pleurocidin   1  Pleurocidin  BAAMPs_data.csv            1  gram neg   \n",
              "Pleurocidin   1  Pleurocidin  BAAMPs_data.csv            1  gram pos   \n",
              "\n",
              "                                       dataset                        seq  \n",
              "name                                                                       \n",
              "Pleurocidin        Escherichia coli ATCC 25922  GWGSFFKKAAHVGKHVGKAALTHYL  \n",
              "Pleurocidin  Pseudomonas aeruginosa ATCC 27853  GWGSFFKKAAHVGKHVGKAALTHYL  \n",
              "Pleurocidin   Staphylococcus aureus ATCC 25923  GWGSFFKKAAHVGKHVGKAALTHYL  "
            ]
          },
          "execution_count": 50,
          "metadata": {},
          "output_type": "execute_result"
        }
      ],
      "source": [
        "#http://www.baamps.it/\n",
        "# download csv in browse /Export\n",
        "\n",
        "df = tocsv('BAAMPs_data.csv', True, 'BAAMPs_data')\n",
        "df.head(3)\n"
      ]
    },
    {
      "cell_type": "code",
      "execution_count": null,
      "metadata": {},
      "outputs": [],
      "source": [
        "# http://bactibase.hammamilab.org/about.php\n",
        "# nothing?"
      ]
    },
    {
      "cell_type": "code",
      "execution_count": null,
      "metadata": {},
      "outputs": [],
      "source": [
        "# http://split4.pmfst.hr/dadp/\n"
      ]
    },
    {
      "cell_type": "code",
      "execution_count": null,
      "metadata": {},
      "outputs": [],
      "source": []
    },
    {
      "cell_type": "code",
      "execution_count": null,
      "metadata": {},
      "outputs": [],
      "source": []
    },
    {
      "cell_type": "code",
      "execution_count": null,
      "metadata": {},
      "outputs": [],
      "source": []
    },
    {
      "cell_type": "code",
      "execution_count": null,
      "metadata": {},
      "outputs": [],
      "source": []
    },
    {
      "cell_type": "code",
      "execution_count": null,
      "metadata": {},
      "outputs": [],
      "source": [
        "# import from swissprot fasta, \n",
        "# anyone know list of metadata\n",
        "# fingerprints\n",
        "# unified dataset\n",
        "# leraning algorithms\n",
        "\n",
        "# ? non secretary proteins, how to identify?"
      ]
    },
    {
      "attachments": {},
      "cell_type": "markdown",
      "metadata": {
        "id": "owXgKmWXn591"
      },
      "source": [
        "# NEGATIVE SAMPLES"
      ]
    },
    {
      "cell_type": "code",
      "execution_count": 49,
      "metadata": {},
      "outputs": [],
      "source": [
        "#for fasta swissprot\n",
        "\"\"\"\n",
        "sp|UniqueIdentifier|EntryName \n",
        "OX = organism identifier\n",
        "GN = gene name\n",
        "PE = protein existence\n",
        "SV = version number of sequence\n",
        "\"\"\"\n",
        "def swissprottopd(infile, ofile):\n",
        "  with open(infile, 'r') as inf:\n",
        "    flines = inf.readlines()\n",
        "\n",
        "    print('input file', infile)\n",
        "\n",
        "    seqs = {}\n",
        "    lastname = 'None'\n",
        "\n",
        "    for l in flines:\n",
        "      if l[0]=='>':# sequence identifier\n",
        "        names, rest = l.split(' ', 1)\n",
        "        uid, name = names.strip('>sp|').split('|')\n",
        "        # need initialisation as have multiline sequences that require +=\n",
        "        first, ox, last = rest.split('OX=').split(' ', 1)\n",
        "        seq = {'id':uid, 'name':name, 'AB':0, 'description':first+last, 'OX': ox, 'dataset':infile, 'seq':''}\n",
        "        seqs[name] = seq\n",
        "        lastname = name\n",
        "\n",
        "      else:\n",
        "        seq = seqs[lastname]\n",
        "        seq['seq'] += l.strip('>').strip('\\n').strip(' ')\n",
        "        #print(seq['seq'], len( seq['seq']) )\n",
        "\n",
        "  inf.close()\n",
        "\n",
        "  df = pd.DataFrame.from_dict(seqs).transpose()\n",
        "  return df"
      ]
    },
    {
      "cell_type": "code",
      "execution_count": 19,
      "metadata": {
        "id": "vMQbEP9Rm5XG"
      },
      "outputs": [
        {
          "name": "stdout",
          "output_type": "stream",
          "text": [
            "input file uniprot_sprot.fasta\n"
          ]
        }
      ],
      "source": [
        "df = swissprottopd('uniprot_sprot.fasta', 'uniprot_sprot')"
      ]
    },
    {
      "cell_type": "code",
      "execution_count": 81,
      "metadata": {
        "id": "tB3cMkPIm56u"
      },
      "outputs": [
        {
          "name": "stdout",
          "output_type": "stream",
          "text": [
            "(2394, 7)\n",
            "(2329, 7)\n"
          ]
        },
        {
          "data": {
            "text/html": [
              "<div>\n",
              "<style scoped>\n",
              "    .dataframe tbody tr th:only-of-type {\n",
              "        vertical-align: middle;\n",
              "    }\n",
              "\n",
              "    .dataframe tbody tr th {\n",
              "        vertical-align: top;\n",
              "    }\n",
              "\n",
              "    .dataframe thead th {\n",
              "        text-align: right;\n",
              "    }\n",
              "</style>\n",
              "<table border=\"1\" class=\"dataframe\">\n",
              "  <thead>\n",
              "    <tr style=\"text-align: right;\">\n",
              "      <th></th>\n",
              "      <th>id</th>\n",
              "      <th>name</th>\n",
              "      <th>AB</th>\n",
              "      <th>description</th>\n",
              "      <th>OX</th>\n",
              "      <th>dataset</th>\n",
              "      <th>seq</th>\n",
              "    </tr>\n",
              "  </thead>\n",
              "  <tbody>\n",
              "    <tr>\n",
              "      <th>Dermaseptin-B2</th>\n",
              "      <td>00001</td>\n",
              "      <td>Dermaseptin-B2</td>\n",
              "      <td>1</td>\n",
              "      <td>(XXA, DRS-B2,  Dermaseptin B2, DRS B2, DS bII,...</td>\n",
              "      <td>alien</td>\n",
              "      <td>APD_sequence_release_09142020.fasta</td>\n",
              "      <td>GLWSKIKEVGKEAAKAAAKAAGKAALGAVSEAV</td>\n",
              "    </tr>\n",
              "    <tr>\n",
              "      <th>Abaecin</th>\n",
              "      <td>00002</td>\n",
              "      <td>Abaecin</td>\n",
              "      <td>1</td>\n",
              "      <td>(Pro-rich; insects, arthropods, invertebrates,...</td>\n",
              "      <td>alien</td>\n",
              "      <td>APD_sequence_release_09142020.fasta</td>\n",
              "      <td>YVPLPNVPQPGRRPFPTFPGQGPFNPKIKWPQGY</td>\n",
              "    </tr>\n",
              "  </tbody>\n",
              "</table>\n",
              "</div>"
            ],
            "text/plain": [
              "                   id            name AB  \\\n",
              "Dermaseptin-B2  00001  Dermaseptin-B2  1   \n",
              "Abaecin         00002         Abaecin  1   \n",
              "\n",
              "                                                      description     OX  \\\n",
              "Dermaseptin-B2  (XXA, DRS-B2,  Dermaseptin B2, DRS B2, DS bII,...  alien   \n",
              "Abaecin         (Pro-rich; insects, arthropods, invertebrates,...  alien   \n",
              "\n",
              "                                            dataset  \\\n",
              "Dermaseptin-B2  APD_sequence_release_09142020.fasta   \n",
              "Abaecin         APD_sequence_release_09142020.fasta   \n",
              "\n",
              "                                               seq  \n",
              "Dermaseptin-B2   GLWSKIKEVGKEAAKAAAKAAGKAALGAVSEAV  \n",
              "Abaecin         YVPLPNVPQPGRRPFPTFPGQGPFNPKIKWPQGY  "
            ]
          },
          "execution_count": 81,
          "metadata": {},
          "output_type": "execute_result"
        }
      ],
      "source": [
        "print(df.shape)\n",
        "df_red = df[ df.seq.map(len) < 100 ]#.index #& df.seq.map(len) > 4] \n",
        "df_red = df_red[ df_red.seq.map(len) < 100 ]\n",
        "print(df_red.shape)\n",
        "df_red.head(2)"
      ]
    },
    {
      "cell_type": "code",
      "execution_count": 82,
      "metadata": {
        "id": "IT4cphuxm6JY"
      },
      "outputs": [
        {
          "name": "stdout",
          "output_type": "stream",
          "text": [
            "saved pd datafrae as csv to: uniprot_sprot.csv\n"
          ]
        }
      ],
      "source": [
        "ofile = 'uniprot_sprot'\n",
        "destin = ofile.split('.csv')[0]+'.csv'\n",
        "df_red.to_csv(destin, index = False )\n",
        "print('saved pd datafrae as csv to:', destin)\n"
      ]
    },
    {
      "cell_type": "code",
      "execution_count": 59,
      "metadata": {
        "id": "3s-GlB-VRj3Y"
      },
      "outputs": [],
      "source": []
    },
    {
      "cell_type": "code",
      "execution_count": null,
      "metadata": {
        "id": "XgvxEPDiRvyk"
      },
      "outputs": [],
      "source": []
    }
  ],
  "metadata": {
    "colab": {
      "provenance": []
    },
    "kernelspec": {
      "display_name": "Python 3",
      "name": "python3"
    },
    "language_info": {
      "codemirror_mode": {
        "name": "ipython",
        "version": 3
      },
      "file_extension": ".py",
      "mimetype": "text/x-python",
      "name": "python",
      "nbconvert_exporter": "python",
      "pygments_lexer": "ipython3",
      "version": "3.10.9"
    }
  },
  "nbformat": 4,
  "nbformat_minor": 0
}
