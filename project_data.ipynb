{
  "cells": [
    {
      "cell_type": "markdown",
      "metadata": {
        "id": "e7KYp5Q3Cu3T"
      },
      "source": [
        "[![Open In Colab](https://colab.research.google.com/assets/colab-badge.svg)](https://colab.research.google.com/github/lnsphnplt/dc_project/blob/main/project_data.ipynb)\n",
        "\n",
        "# Literature on data availability\n",
        "## Machine Learning Prediction of Antimicrobial Peptides\n",
        "### Guangshun Wang, Iosif I. Vaisman, and Monique L. van Hoek\n",
        "\n",
        "Find data from online databases, collect and store them in a unified database. Curation: Check data uniformity, e.g. length of sequence, amino acid distribution, equal amount of positive and negative data.\n",
        "\n",
        "\n",
        "88% of the entries in the APD[11] (Wang G, Li X, Wang Z (2016) APD3: the antimicrobial peptide database as a tool for research and education. Nucleic Acids Res 44:D1087–D1093) are less than 50 amino acids and only 80 peptides out of 3257 have a length greater than 100 residues. Similarly, most peptides in DBAASP database are shorter than 50 residues. Only 20 entries in DBAASP are longer than 100 residues\n",
        "\n",
        "\n",
        "\n",
        "be selected from AMP databases (Table 2). Normally, only a subset of the entire database (or several databases) can be used to compile a positive part of the training set. Sequences from the database are filtered by length, activity, sequence identity, and other parameters.\n",
        "\n",
        " -> ML methods, Table 3, choose s.t. can benchmark?: SVM, KNN\n",
        "\n",
        "\n",
        "The AntiBP [17] generated the first negative data set based on the Uniprot [79]. The negative part of the training set is usually selected from the random sequences in the protein sequence database, which are not annotated as antimicrobial, secretory, toxins, etc. Sequences in the negative set can be controlled by the level of sequence identity, sequence composition, similarity to the sequences in the positive set, structural, and other properties.\n",
        "\n",
        "\n",
        "\n",
        "\n",
        "## AntiBP [17]\n",
        "### Lata S, Sharma BK, Raghava GP (2007) - Analysis and prediction of antibacterial peptides. BMC Bioinformatics 8:263 https://bmcbioinformatics.biomedcentral.com/articles/10.1186/1471-2105-8-263\n",
        "\n",
        "In order to generate non- antibacterial peptides or negative examples, we obtained peptides randomly from non-secretory proteins [28](Kumar M, Verma R, Raghava GP: Prediction of mitochondrial proteins using support vector machine and hidden Markov model. J Biol Chem 2006, 281(9):5357-63.)\n",
        "-> just mitochondrial for negative? mention in discussion but not in datasets?\n",
        "\n",
        "-> this is general info\n",
        "We extracted 486 antibacterial peptides having less than 61 residues from APD database [21](Wang Z, Wang G: APD: the Antimicrobial Peptide Database. Nucleic Acids Research 2004, 32:D590-D592.). We analyzed the length of these peptides and observed that most of them have more than 15 residues. Thus we created a dataset of antibacterial peptides having number of residues between 15 and 60. After removing identical peptides, we got a dataset of 436 non-redundant antibacterial peptides, also called positive dataset. In order to generate negative data- set or dataset of non-antibacterial peptides, we extracted equal number of peptides randomly from non-secretary proteins. Our final dataset, called main dataset, has 436 antibacterial and 436 random peptides.\n",
        "\n",
        "\n",
        "## Non-secretory proteins[28]\n",
        "### Manish Kumar, Ruchi Verma, and Gajendra P. S. Raghava - Prediction of Mitochondrial Proteins Using Support Vector Machine and Hidden Markov Model https://www.jbc.org/article/S0021-9258(19)76656-3/fulltext\n",
        "\n",
        "\n",
        "\n",
        "\n",
        "\n",
        "\n"
      ]
    },
    {
      "cell_type": "markdown",
      "metadata": {
        "id": "YpObPyidLqJJ"
      },
      "source": [
        "# Notes on databases from lecture 3-2\n",
        "\n",
        "database: in tables, sql, setup=difficult, large binary files = need special consideration?\n",
        "\n",
        "setting up your sql databses SQlite (github check atomlite, chemicalite)\n",
        "zenodo or ETH research?\n",
        "-> how many samples, paper 2 just 463\n"
      ]
    },
    {
      "cell_type": "markdown",
      "metadata": {
        "id": "oq6lwiNZOzDq"
      },
      "source": [
        "*kursiver Text* ## ADP repo data"
      ]
    },
    {
      "cell_type": "code",
      "execution_count": 13,
      "metadata": {
        "id": "LV3EX8GzOzsI"
      },
      "outputs": [],
      "source": [
        "# in fast format\n",
        "#from pysam import FastaFile\n",
        "import pandas as pd\n",
        "#filen = ''"
      ]
    },
    {
      "cell_type": "code",
      "execution_count": 11,
      "metadata": {
        "id": "Jnj49R45eWq-",
        "outputId": "5d329599-6a0b-47a2-9223-97d0c89a4813",
        "colab": {
          "base_uri": "https://localhost:8080/"
        }
      },
      "outputs": [
        {
          "output_type": "stream",
          "name": "stdout",
          "text": [
            "/content\n",
            "APD_sequence_release_09142020.fasta  sample_data\n"
          ]
        }
      ],
      "source": [
        "!pwd\n",
        "!ls"
      ]
    },
    {
      "cell_type": "code",
      "execution_count": 6,
      "metadata": {
        "colab": {
          "base_uri": "https://localhost:8080/"
        },
        "id": "iemrFBUoeCLx",
        "outputId": "ec930910-3dc4-4011-bd06-8c28b896ed5c"
      },
      "outputs": [
        {
          "output_type": "stream",
          "name": "stdout",
          "text": [
            "\u001b[K\u001b[?25hnpx: installed 1 in 1.378s\n",
            "\u001b[36m> destination directory is not empty. Using --force, continuing\u001b[39m\n",
            "\u001b[36m> cloned \u001b[1mlnsphnplt/dc_project\u001b[22m#\u001b[1mHEAD\u001b[22m\u001b[39m\n"
          ]
        }
      ],
      "source": [
        "!npx degit lnsphnplt/dc_project/APD_sequence_release_09142020.fasta -f"
      ]
    },
    {
      "cell_type": "code",
      "execution_count": 10,
      "metadata": {
        "colab": {
          "base_uri": "https://localhost:8080/"
        },
        "id": "5XPjHGrHRNLZ",
        "outputId": "c8207997-7c83-4f36-8896-4cece5dfe4ff"
      },
      "outputs": [
        {
          "output_type": "stream",
          "name": "stdout",
          "text": [
            "--2024-04-23 15:30:50--  https://raw.githubusercontent.com/lnsphnplt/dc_project/main/APD_sequence_release_09142020.fasta\n",
            "Resolving raw.githubusercontent.com (raw.githubusercontent.com)... 185.199.108.133, 185.199.109.133, 185.199.110.133, ...\n",
            "Connecting to raw.githubusercontent.com (raw.githubusercontent.com)|185.199.108.133|:443... connected.\n",
            "HTTP request sent, awaiting response... 200 OK\n",
            "Length: 370959 (362K) [text/plain]\n",
            "Saving to: ‘APD_sequence_release_09142020.fasta’\n",
            "\n",
            "\r          APD_seque   0%[                    ]       0  --.-KB/s               \rAPD_sequence_releas 100%[===================>] 362.26K  --.-KB/s    in 0.03s   \n",
            "\n",
            "2024-04-23 15:30:50 (10.2 MB/s) - ‘APD_sequence_release_09142020.fasta’ saved [370959/370959]\n",
            "\n"
          ]
        }
      ],
      "source": [
        "!wget https://raw.githubusercontent.com/lnsphnplt/dc_project/main/APD_sequence_release_09142020.fasta\n"
      ]
    },
    {
      "cell_type": "code",
      "source": [
        "with open('APD_sequence_release_09142020.fasta', 'r') as f:\n",
        "  flines = f.readlines()"
      ],
      "metadata": {
        "id": "ZcZ-2tolmkj-"
      },
      "execution_count": 18,
      "outputs": []
    },
    {
      "cell_type": "code",
      "source": [
        "seqs = {}\n",
        "lastname = 'None'"
      ],
      "metadata": {
        "id": "owXgKmWXn591"
      },
      "execution_count": 25,
      "outputs": []
    },
    {
      "cell_type": "code",
      "source": [
        "for l in flines[0:5]:\n",
        "\n",
        "  if l[0]=='>':# sequence identifier\n",
        "    names, rest = l.split('(')\n",
        "    id, name = names.strip('>').split('|')\n",
        "    seq = {'id':id, 'name':name, 'AB':1, 'description':rest, }\n",
        "    seqs[name] = seq\n",
        "    lastname = name\n",
        "\n",
        "  else:\n",
        "    seq = seqs[lastname]\n",
        "    seq['seq'] = l.strip('>').strip('\\n').strip(' ')\n",
        "\n",
        "\n",
        "print(seqs)"
      ],
      "metadata": {
        "id": "vMQbEP9Rm5XG",
        "outputId": "a72e66dc-09b3-4031-c175-5900e4d4e70f",
        "colab": {
          "base_uri": "https://localhost:8080/"
        }
      },
      "execution_count": 35,
      "outputs": [
        {
          "output_type": "stream",
          "name": "stdout",
          "text": [
            "{'Dermaseptin-B2 ': {'id': '00001', 'name': 'Dermaseptin-B2 ', 'description': 'XXA, DRS-B2,  Dermaseptin B2, DRS B2, DS bII, ADENOREGULIN; UCLL1c;  frog, amphibians, animals)\\n', 'seq': 'GLWSKIKEVGKEAAKAAAKAAGKAALGAVSEAV'}, 'Abaecin ': {'id': '00002', 'name': 'Abaecin ', 'description': 'Pro-rich; insects, arthropods, invertebrates, animals)\\n', 'seq': 'YVPLPNVPQPGRRPFPTFPGQGPFNPKIKWPQGY'}, 'Hs-AFP1 ': {'id': '00003', 'name': 'Hs-AFP1 ', 'description': 'HsAFP1, H. sanguinea antifungal protein 1; defensins; 4S=S; UCSS1a; BBS; BBMm_lipid?; plants)\\n'}}\n"
          ]
        }
      ]
    },
    {
      "cell_type": "code",
      "source": [],
      "metadata": {
        "id": "tB3cMkPIm56u"
      },
      "execution_count": null,
      "outputs": []
    },
    {
      "cell_type": "code",
      "source": [],
      "metadata": {
        "id": "IT4cphuxm6JY"
      },
      "execution_count": null,
      "outputs": []
    },
    {
      "cell_type": "code",
      "execution_count": 19,
      "metadata": {
        "colab": {
          "base_uri": "https://localhost:8080/",
          "height": 248
        },
        "id": "3s-GlB-VRj3Y",
        "outputId": "20e4548d-b2ab-48bc-afd1-69e36c42d497"
      },
      "outputs": [
        {
          "output_type": "stream",
          "name": "stdout",
          "text": [
            "Requirement already satisfied: pysam in /usr/local/lib/python3.10/dist-packages (0.22.0)\n"
          ]
        },
        {
          "output_type": "error",
          "ename": "TypeError",
          "evalue": "_open() got an unexpected keyword argument 'index_col'",
          "traceback": [
            "\u001b[0;31m---------------------------------------------------------------------------\u001b[0m",
            "\u001b[0;31mTypeError\u001b[0m                                 Traceback (most recent call last)",
            "\u001b[0;32m<ipython-input-19-a8c8e6becb62>\u001b[0m in \u001b[0;36m<cell line: 6>\u001b[0;34m()\u001b[0m\n\u001b[1;32m      4\u001b[0m \u001b[0;32mfrom\u001b[0m \u001b[0mpysam\u001b[0m \u001b[0;32mimport\u001b[0m \u001b[0mFastaFile\u001b[0m\u001b[0;34m\u001b[0m\u001b[0;34m\u001b[0m\u001b[0m\n\u001b[1;32m      5\u001b[0m \u001b[0;34m\u001b[0m\u001b[0m\n\u001b[0;32m----> 6\u001b[0;31m \u001b[0mapdfasta\u001b[0m \u001b[0;34m=\u001b[0m \u001b[0mFastaFile\u001b[0m\u001b[0;34m(\u001b[0m\u001b[0;34m\"APD_sequence_release_09142020.fasta\"\u001b[0m\u001b[0;34m,\u001b[0m \u001b[0mindex_col\u001b[0m\u001b[0;34m=\u001b[0m\u001b[0;36m0\u001b[0m\u001b[0;34m)\u001b[0m\u001b[0;34m\u001b[0m\u001b[0;34m\u001b[0m\u001b[0m\n\u001b[0m",
            "\u001b[0;32m/usr/local/lib/python3.10/dist-packages/pysam/libcfaidx.pyx\u001b[0m in \u001b[0;36mpysam.libcfaidx.FastaFile.__cinit__\u001b[0;34m()\u001b[0m\n",
            "\u001b[0;32m/usr/local/lib/python3.10/dist-packages/pysam/libcfaidx.pyx\u001b[0m in \u001b[0;36mpysam.libcfaidx.FastaFile._open\u001b[0;34m()\u001b[0m\n",
            "\u001b[0;31mTypeError\u001b[0m: _open() got an unexpected keyword argument 'index_col'"
          ]
        }
      ],
      "source": [
        "# files in fasta format\n",
        "!pip install pysam\n",
        "\n",
        "from pysam import FastaFile\n",
        "\n",
        "apdfasta = FastaFile(\"APD_sequence_release_09142020.fasta\", index_col=0)"
      ]
    },
    {
      "cell_type": "code",
      "execution_count": null,
      "metadata": {
        "id": "XgvxEPDiRvyk"
      },
      "outputs": [],
      "source": []
    }
  ],
  "metadata": {
    "colab": {
      "provenance": []
    },
    "kernelspec": {
      "display_name": "Python 3",
      "name": "python3"
    },
    "language_info": {
      "name": "python"
    }
  },
  "nbformat": 4,
  "nbformat_minor": 0
}