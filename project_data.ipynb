{
  "cells": [
    {
      "attachments": {},
      "cell_type": "markdown",
      "metadata": {
        "id": "e7KYp5Q3Cu3T"
      },
      "source": [
        "[![Open In Colab](https://colab.research.google.com/assets/colab-badge.svg)](https://colab.research.google.com/github/lnsphnplt/dc_project/blob/main/project_data.ipynb)\n",
        "\n",
        "# Literature on data \n",
        "## Machine Learning Prediction of Antimicrobial Peptides\n",
        "### Guangshun Wang, Iosif I. Vaisman, and Monique L. van Hoek\n",
        "\n",
        "Find data from online databases, collect and store them in a unified database. Curation: Check data uniformity, e.g. length of sequence, amino acid distribution, equal amount of positive and negative data.\n",
        "\n",
        "\n",
        "88% of the entries in the APD[11] (Wang G, Li X, Wang Z (2016) APD3: the antimicrobial peptide database as a tool for research and education. Nucleic Acids Res 44:D1087–D1093) are less than 50 amino acids and only 80 peptides out of 3257 have a length greater than 100 residues. Similarly, most peptides in DBAASP database are shorter than 50 residues. Only 20 entries in DBAASP are longer than 100 residues\n",
        "\n",
        "\n",
        "\n",
        "be selected from AMP databases (Table 2). Normally, only a subset of the entire database (or several databases) can be used to compile a positive part of the training set. Sequences from the database are filtered by length, activity, sequence identity, and other parameters.\n",
        "\n",
        " -> ML methods, Table 3, choose s.t. can benchmark?: SVM, KNN\n",
        "\n",
        "\n",
        "The AntiBP [17] generated the first negative data set based on the Uniprot [79]. The negative part of the training set is usually selected from the random sequences in the protein sequence database, which are not annotated as antimicrobial, secretory, toxins, etc. Sequences in the negative set can be controlled by the level of sequence identity, sequence composition, similarity to the sequences in the positive set, structural, and other properties.\n",
        "\n",
        "\n",
        "\n",
        "\n",
        "## AntiBP [17]\n",
        "### Lata S, Sharma BK, Raghava GP (2007) - Analysis and prediction of antibacterial peptides. BMC Bioinformatics 8:263 https://bmcbioinformatics.biomedcentral.com/articles/10.1186/1471-2105-8-263\n",
        "\n",
        "In order to generate non- antibacterial peptides or negative examples, we obtained peptides randomly from non-secretory proteins [28](Kumar M, Verma R, Raghava GP: Prediction of mitochondrial proteins using support vector machine and hidden Markov model. J Biol Chem 2006, 281(9):5357-63.)\n",
        "-> just mitochondrial for negative? mention in discussion but not in datasets?\n",
        "\n",
        "-> this is general info\n",
        "We extracted 486 antibacterial peptides having less than 61 residues from APD database [21](Wang Z, Wang G: APD: the Antimicrobial Peptide Database. Nucleic Acids Research 2004, 32:D590-D592.). We analyzed the length of these peptides and observed that most of them have more than 15 residues. Thus we created a dataset of antibacterial peptides having number of residues between 15 and 60. After removing identical peptides, we got a dataset of 436 non-redundant antibacterial peptides, also called positive dataset. In order to generate negative data- set or dataset of non-antibacterial peptides, we extracted equal number of peptides randomly from non-secretary proteins. Our final dataset, called main dataset, has 436 antibacterial and 436 random peptides.\n",
        "\n",
        "\n",
        "## Non-secretory proteins[28]\n",
        "### Manish Kumar, Ruchi Verma, and Gajendra P. S. Raghava - Prediction of Mitochondrial Proteins Using Support Vector Machine and Hidden Markov Model https://www.jbc.org/article/S0021-9258(19)76656-3/fulltext\n",
        "\n",
        "\n",
        "\n",
        "\n",
        "\n",
        "\n"
      ]
    },
    {
      "attachments": {},
      "cell_type": "markdown",
      "metadata": {
        "id": "YpObPyidLqJJ"
      },
      "source": [
        "# Notes on databases from lecture 3-2\n",
        "\n",
        "database: in tables, sql, setup=difficult, large binary files = need special consideration?\n",
        "\n",
        "setting up your sql databses SQlite (github check atomlite, chemicalite)\n",
        "zenodo or ETH research?\n",
        "-> how many samples, paper 2 just 463\n"
      ]
    },
    {
      "attachments": {},
      "cell_type": "markdown",
      "metadata": {
        "id": "oq6lwiNZOzDq"
      },
      "source": [
        "*kursiver Text* ## ADP repo data"
      ]
    },
    {
      "cell_type": "code",
      "execution_count": null,
      "metadata": {
        "id": "LV3EX8GzOzsI"
      },
      "outputs": [],
      "source": [
        "# in fast format\n",
        "#from pysam import FastaFile\n",
        "import pandas as pd\n",
        "#filen = ''"
      ]
    },
    {
      "cell_type": "code",
      "execution_count": null,
      "metadata": {
        "colab": {
          "base_uri": "https://localhost:8080/"
        },
        "id": "Jnj49R45eWq-",
        "outputId": "5d329599-6a0b-47a2-9223-97d0c89a4813"
      },
      "outputs": [
        {
          "name": "stdout",
          "output_type": "stream",
          "text": [
            "/content\n",
            "APD_sequence_release_09142020.fasta  sample_data\n"
          ]
        }
      ],
      "source": [
        "!pwd\n",
        "!ls"
      ]
    },
    {
      "cell_type": "code",
      "execution_count": null,
      "metadata": {
        "colab": {
          "base_uri": "https://localhost:8080/"
        },
        "id": "5XPjHGrHRNLZ",
        "outputId": "c8207997-7c83-4f36-8896-4cece5dfe4ff"
      },
      "outputs": [
        {
          "name": "stdout",
          "output_type": "stream",
          "text": [
            "--2024-04-23 15:30:50--  https://raw.githubusercontent.com/lnsphnplt/dc_project/main/APD_sequence_release_09142020.fasta\n",
            "Resolving raw.githubusercontent.com (raw.githubusercontent.com)... 185.199.108.133, 185.199.109.133, 185.199.110.133, ...\n",
            "Connecting to raw.githubusercontent.com (raw.githubusercontent.com)|185.199.108.133|:443... connected.\n",
            "HTTP request sent, awaiting response... 200 OK\n",
            "Length: 370959 (362K) [text/plain]\n",
            "Saving to: ‘APD_sequence_release_09142020.fasta’\n",
            "\n",
            "\r          APD_seque   0%[                    ]       0  --.-KB/s               \rAPD_sequence_releas 100%[===================>] 362.26K  --.-KB/s    in 0.03s   \n",
            "\n",
            "2024-04-23 15:30:50 (10.2 MB/s) - ‘APD_sequence_release_09142020.fasta’ saved [370959/370959]\n",
            "\n"
          ]
        }
      ],
      "source": [
        "!wget https://raw.githubusercontent.com/lnsphnplt/dc_project/main/APD_sequence_release_09142020.fasta\n"
      ]
    },
    {
      "cell_type": "code",
      "execution_count": 11,
      "metadata": {
        "id": "iNZyJtaCtLtc"
      },
      "outputs": [],
      "source": [
        "def fastatocsv0(infile, ofile):\n",
        "  with open(infile, 'r') as inf:\n",
        "    flines = inf.readlines()\n",
        "\n",
        "    print('input file', infile)\n",
        "\n",
        "    seqs = {}\n",
        "    lastname = 'None'\n",
        "\n",
        "    for l in flines:\n",
        "      if l[0]=='>':# sequence identifier\n",
        "        names, rest = l.split('(')\n",
        "        id, name = names.strip('>').split('|')\n",
        "        seq = {'id':id, 'name':name, 'AB':1, 'description':rest, 'dataset':infile}\n",
        "        seqs[name] = seq\n",
        "        lastname = name\n",
        "\n",
        "      else:\n",
        "        seq = seqs[lastname]\n",
        "        seq['seq'] = l.strip('>').strip('\\n').strip(' ')\n",
        "\n",
        "  inf.close()\n",
        "\n",
        "  df = pd.DataFrame.from_dict(seqs).transpose()\n",
        "  destin = ofile.split('.csv')[0]+'.csv'\n",
        "  df.to_csv(destin, index = False )\n",
        "  print('saved df as csv to:', destin)\n",
        "  return df\n"
      ]
    },
    {
      "cell_type": "code",
      "execution_count": 12,
      "metadata": {
        "colab": {
          "base_uri": "https://localhost:8080/",
          "height": 114
        },
        "id": "G1nc8sa3tZCF",
        "outputId": "51f65228-7ce4-45e1-b7e4-6cdb3d26b938"
      },
      "outputs": [
        {
          "name": "stdout",
          "output_type": "stream",
          "text": [
            "input file APD_sequence_release_09142020.fasta\n"
          ]
        },
        {
          "ename": "ValueError",
          "evalue": "too many values to unpack (expected 2)",
          "output_type": "error",
          "traceback": [
            "\u001b[0;31m---------------------------------------------------------------------------\u001b[0m",
            "\u001b[0;31mValueError\u001b[0m                                Traceback (most recent call last)",
            "Cell \u001b[0;32mIn[12], line 1\u001b[0m\n\u001b[0;32m----> 1\u001b[0m df \u001b[39m=\u001b[39m fastatocsv0(\u001b[39m'\u001b[39;49m\u001b[39mAPD_sequence_release_09142020.fasta\u001b[39;49m\u001b[39m'\u001b[39;49m, \u001b[39m'\u001b[39;49m\u001b[39mADP_sequence_release\u001b[39;49m\u001b[39m'\u001b[39;49m)\n\u001b[1;32m      2\u001b[0m df\u001b[39m.\u001b[39mhead()\n",
            "Cell \u001b[0;32mIn[11], line 12\u001b[0m, in \u001b[0;36mfastatocsv0\u001b[0;34m(infile, ofile)\u001b[0m\n\u001b[1;32m     10\u001b[0m \u001b[39mfor\u001b[39;00m l \u001b[39min\u001b[39;00m flines:\n\u001b[1;32m     11\u001b[0m   \u001b[39mif\u001b[39;00m l[\u001b[39m0\u001b[39m]\u001b[39m==\u001b[39m\u001b[39m'\u001b[39m\u001b[39m>\u001b[39m\u001b[39m'\u001b[39m:\u001b[39m# sequence identifier\u001b[39;00m\n\u001b[0;32m---> 12\u001b[0m     names, rest \u001b[39m=\u001b[39m l\u001b[39m.\u001b[39msplit(\u001b[39m'\u001b[39m\u001b[39m(\u001b[39m\u001b[39m'\u001b[39m)\n\u001b[1;32m     13\u001b[0m     \u001b[39mid\u001b[39m, name \u001b[39m=\u001b[39m names\u001b[39m.\u001b[39mstrip(\u001b[39m'\u001b[39m\u001b[39m>\u001b[39m\u001b[39m'\u001b[39m)\u001b[39m.\u001b[39msplit(\u001b[39m'\u001b[39m\u001b[39m|\u001b[39m\u001b[39m'\u001b[39m)\n\u001b[1;32m     14\u001b[0m     seq \u001b[39m=\u001b[39m {\u001b[39m'\u001b[39m\u001b[39mdatasetid\u001b[39m\u001b[39m'\u001b[39m:\u001b[39mid\u001b[39m, \u001b[39m'\u001b[39m\u001b[39mname\u001b[39m\u001b[39m'\u001b[39m:name, \u001b[39m'\u001b[39m\u001b[39mAB\u001b[39m\u001b[39m'\u001b[39m:\u001b[39m1\u001b[39m, \u001b[39m'\u001b[39m\u001b[39mdescription\u001b[39m\u001b[39m'\u001b[39m:rest, \u001b[39m'\u001b[39m\u001b[39mdataset\u001b[39m\u001b[39m'\u001b[39m:infile}\n",
            "\u001b[0;31mValueError\u001b[0m: too many values to unpack (expected 2)"
          ]
        }
      ],
      "source": [
        "df = fastatocsv0('APD_sequence_release_09142020.fasta', 'ADP_sequence_release')\n",
        "df.head()"
      ]
    },
    {
      "cell_type": "code",
      "execution_count": null,
      "metadata": {
        "id": "ZcZ-2tolmkj-"
      },
      "outputs": [],
      "source": []
    },
    {
      "cell_type": "code",
      "execution_count": null,
      "metadata": {},
      "outputs": [],
      "source": [
        "# import from swissprot fasta, \n",
        "# anyone know list of metadata\n",
        "# fingerprints\n",
        "# unified dataset\n",
        "# leraning algorithms"
      ]
    },
    {
      "cell_type": "code",
      "execution_count": 1,
      "metadata": {
        "id": "owXgKmWXn591"
      },
      "outputs": [],
      "source": [
        "import pandas as pd"
      ]
    },
    {
      "cell_type": "code",
      "execution_count": 8,
      "metadata": {},
      "outputs": [],
      "source": [
        "#for fasta swissprot\n",
        "\"\"\"\n",
        "sp|UniqueIdentifier|EntryName \n",
        "OX = organism identifier\n",
        "GN = gene name\n",
        "PE = protein existence\n",
        "SV = version number of sequence\n",
        "\"\"\"\n",
        "def swissprottopd(infile, ofile):\n",
        "  with open(infile, 'r') as inf:\n",
        "    flines = inf.readlines()\n",
        "\n",
        "    print('input file', infile)\n",
        "\n",
        "    seqs = {}\n",
        "    lastname = 'None'\n",
        "\n",
        "    for l in flines:\n",
        "      print(l)\n",
        "      if l[0]=='>':# sequence identifier\n",
        "        uid, rest = l.strip('>sp|').split('|')\n",
        "        entryname, rerest = rest.split(' ', 1)\n",
        "        seq = {'id':uid, 'name':entryname, 'AB':0, 'description':rerest, 'dataset':infile}\n",
        "        seqs[entryname] = seq\n",
        "        lastname = entryname\n",
        "\n",
        "      else:\n",
        "        seq = seqs[lastname]\n",
        "        seq['seq'] = l.strip('>').strip('\\n').strip(' ')\n",
        "\n",
        "  inf.close()\n",
        "\n",
        "  df = pd.DataFrame.from_dict(seqs).transpose()\n",
        "  return df"
      ]
    },
    {
      "cell_type": "code",
      "execution_count": 9,
      "metadata": {
        "id": "vMQbEP9Rm5XG"
      },
      "outputs": [
        {
          "name": "stdout",
          "output_type": "stream",
          "text": [
            "input file uniprot_sprot.fasta\n",
            ">sp|Q6GZX4|001R_FRG3G Putative transcription factor 001R OS=Frog virus 3 (isolate Goorha) OX=654924 GN=FV3-001R PE=4 SV=1\n",
            "\n"
          ]
        },
        {
          "ename": "ValueError",
          "evalue": "too many values to unpack (expected 2)",
          "output_type": "error",
          "traceback": [
            "\u001b[0;31m---------------------------------------------------------------------------\u001b[0m",
            "\u001b[0;31mValueError\u001b[0m                                Traceback (most recent call last)",
            "Cell \u001b[0;32mIn[9], line 1\u001b[0m\n\u001b[0;32m----> 1\u001b[0m df \u001b[39m=\u001b[39m fastatocsv1(\u001b[39m'\u001b[39;49m\u001b[39muniprot_sprot.fasta\u001b[39;49m\u001b[39m'\u001b[39;49m, \u001b[39m'\u001b[39;49m\u001b[39muniprot_sprot\u001b[39;49m\u001b[39m'\u001b[39;49m)\n",
            "Cell \u001b[0;32mIn[8], line 14\u001b[0m, in \u001b[0;36mfastatocsv1\u001b[0;34m(infile, ofile)\u001b[0m\n\u001b[1;32m     12\u001b[0m \u001b[39mif\u001b[39;00m l[\u001b[39m0\u001b[39m]\u001b[39m==\u001b[39m\u001b[39m'\u001b[39m\u001b[39m>\u001b[39m\u001b[39m'\u001b[39m:\u001b[39m# sequence identifier\u001b[39;00m\n\u001b[1;32m     13\u001b[0m   names, rest \u001b[39m=\u001b[39m l\u001b[39m.\u001b[39msplit(\u001b[39m'\u001b[39m\u001b[39m(\u001b[39m\u001b[39m'\u001b[39m)\n\u001b[0;32m---> 14\u001b[0m   \u001b[39mid\u001b[39m, name \u001b[39m=\u001b[39m names\u001b[39m.\u001b[39mstrip(\u001b[39m'\u001b[39m\u001b[39m>\u001b[39m\u001b[39m'\u001b[39m)\u001b[39m.\u001b[39msplit(\u001b[39m'\u001b[39m\u001b[39m|\u001b[39m\u001b[39m'\u001b[39m)\n\u001b[1;32m     15\u001b[0m   seq \u001b[39m=\u001b[39m {\u001b[39m'\u001b[39m\u001b[39mid\u001b[39m\u001b[39m'\u001b[39m:\u001b[39mid\u001b[39m, \u001b[39m'\u001b[39m\u001b[39mname\u001b[39m\u001b[39m'\u001b[39m:name, \u001b[39m'\u001b[39m\u001b[39mAB\u001b[39m\u001b[39m'\u001b[39m:\u001b[39m1\u001b[39m, \u001b[39m'\u001b[39m\u001b[39mdescription\u001b[39m\u001b[39m'\u001b[39m:rest, \u001b[39m'\u001b[39m\u001b[39mdataset\u001b[39m\u001b[39m'\u001b[39m:infile}\n\u001b[1;32m     16\u001b[0m   seqs[name] \u001b[39m=\u001b[39m seq\n",
            "\u001b[0;31mValueError\u001b[0m: too many values to unpack (expected 2)"
          ]
        }
      ],
      "source": [
        "df = swissprottopd('uniprot_sprot.fasta', 'uniprot_sprot')\n"
      ]
    },
    {
      "cell_type": "code",
      "execution_count": null,
      "metadata": {
        "id": "tB3cMkPIm56u"
      },
      "outputs": [],
      "source": [
        "df.head()"
      ]
    },
    {
      "cell_type": "code",
      "execution_count": null,
      "metadata": {
        "id": "IT4cphuxm6JY"
      },
      "outputs": [],
      "source": []
    },
    {
      "cell_type": "code",
      "execution_count": 59,
      "metadata": {
        "id": "3s-GlB-VRj3Y"
      },
      "outputs": [],
      "source": []
    },
    {
      "cell_type": "code",
      "execution_count": null,
      "metadata": {
        "id": "XgvxEPDiRvyk"
      },
      "outputs": [],
      "source": []
    }
  ],
  "metadata": {
    "colab": {
      "provenance": []
    },
    "kernelspec": {
      "display_name": "Python 3",
      "name": "python3"
    },
    "language_info": {
      "codemirror_mode": {
        "name": "ipython",
        "version": 3
      },
      "file_extension": ".py",
      "mimetype": "text/x-python",
      "name": "python",
      "nbconvert_exporter": "python",
      "pygments_lexer": "ipython3",
      "version": "3.10.9"
    }
  },
  "nbformat": 4,
  "nbformat_minor": 0
}
