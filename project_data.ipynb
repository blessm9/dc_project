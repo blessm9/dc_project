{
  "cells": [
    {
      "cell_type": "markdown",
      "metadata": {
        "id": "e7KYp5Q3Cu3T"
      },
      "source": [
        "[![Open In Colab](https://colab.research.google.com/assets/colab-badge.svg)](https://colab.research.google.com/github/lnsphnplt/dc_project/blob/main/project_data.ipynb)\n",
        "\n",
        "# Literature on data \n",
        "## Machine Learning Prediction of Antimicrobial Peptides\n",
        "### Guangshun Wang, Iosif I. Vaisman, and Monique L. van Hoek\n",
        "\n",
        "Find data from online databases, collect and store them in a unified database. Curation: Check data uniformity, e.g. length of sequence, amino acid distribution, equal amount of positive and negative data.\n",
        "\n",
        "\n",
        "88% of the entries in the APD[11] (Wang G, Li X, Wang Z (2016) APD3: the antimicrobial peptide database as a tool for research and education. Nucleic Acids Res 44:D1087–D1093) are less than 50 amino acids and only 80 peptides out of 3257 have a length greater than 100 residues. Similarly, most peptides in DBAASP database are shorter than 50 residues. Only 20 entries in DBAASP are longer than 100 residues\n",
        "\n",
        "\n",
        "\n",
        "be selected from AMP databases (Table 2). Normally, only a subset of the entire database (or several databases) can be used to compile a positive part of the training set. Sequences from the database are filtered by length, activity, sequence identity, and other parameters.\n",
        "\n",
        " -> ML methods, Table 3, choose s.t. can benchmark?: SVM, KNN\n",
        "\n",
        "\n",
        "The AntiBP [17] generated the first negative data set based on the Uniprot [79]. The negative part of the training set is usually selected from the random sequences in the protein sequence database, which are not annotated as antimicrobial, secretory, toxins, etc. Sequences in the negative set can be controlled by the level of sequence identity, sequence composition, similarity to the sequences in the positive set, structural, and other properties.\n",
        "\n",
        "\n",
        "\n",
        "\n",
        "## AntiBP [17]\n",
        "### Lata S, Sharma BK, Raghava GP (2007) - Analysis and prediction of antibacterial peptides. BMC Bioinformatics 8:263 https://bmcbioinformatics.biomedcentral.com/articles/10.1186/1471-2105-8-263\n",
        "\n",
        "In order to generate non- antibacterial peptides or negative examples, we obtained peptides randomly from non-secretory proteins [28](Kumar M, Verma R, Raghava GP: Prediction of mitochondrial proteins using support vector machine and hidden Markov model. J Biol Chem 2006, 281(9):5357-63.)\n",
        "-> just mitochondrial for negative? mention in discussion but not in datasets?\n",
        "\n",
        "-> this is general info\n",
        "We extracted 486 antibacterial peptides having less than 61 residues from APD database [21](Wang Z, Wang G: APD: the Antimicrobial Peptide Database. Nucleic Acids Research 2004, 32:D590-D592.). We analyzed the length of these peptides and observed that most of them have more than 15 residues. Thus we created a dataset of antibacterial peptides having number of residues between 15 and 60. After removing identical peptides, we got a dataset of 436 non-redundant antibacterial peptides, also called positive dataset. In order to generate negative data- set or dataset of non-antibacterial peptides, we extracted equal number of peptides randomly from non-secretary proteins. Our final dataset, called main dataset, has 436 antibacterial and 436 random peptides.\n",
        "\n",
        "\n",
        "## Non-secretory proteins[28]\n",
        "### Manish Kumar, Ruchi Verma, and Gajendra P. S. Raghava - Prediction of Mitochondrial Proteins Using Support Vector Machine and Hidden Markov Model https://www.jbc.org/article/S0021-9258(19)76656-3/fulltext\n",
        "\n",
        "\n",
        "\n",
        "\n",
        "\n",
        "\n"
      ]
    },
    {
      "cell_type": "markdown",
      "metadata": {
        "id": "YpObPyidLqJJ"
      },
      "source": [
        "# Notes on databases from lecture 3-2\n",
        "\n",
        "database: in tables, sql, setup=difficult, large binary files = need special consideration?\n",
        "\n",
        "setting up your sql databses SQlite (github check atomlite, chemicalite)\n",
        "zenodo or ETH research?\n",
        "-> how many samples, paper 2 just 463\n"
      ]
    },
    {
      "cell_type": "markdown",
      "metadata": {
        "id": "oq6lwiNZOzDq"
      },
      "source": [
        "*kursiver Text* ## ADP repo data"
      ]
    },
    {
      "cell_type": "code",
      "execution_count": null,
      "metadata": {
        "id": "LV3EX8GzOzsI"
      },
      "outputs": [],
      "source": [
        "# in fast format\n",
        "#from pysam import FastaFile\n",
        "import pandas as pd\n",
        "#filen = ''"
      ]
    },
    {
      "cell_type": "code",
      "execution_count": null,
      "metadata": {
        "id": "Jnj49R45eWq-",
        "outputId": "5d329599-6a0b-47a2-9223-97d0c89a4813",
        "colab": {
          "base_uri": "https://localhost:8080/"
        }
      },
      "outputs": [
        {
          "output_type": "stream",
          "name": "stdout",
          "text": [
            "/content\n",
            "APD_sequence_release_09142020.fasta  sample_data\n"
          ]
        }
      ],
      "source": [
        "!pwd\n",
        "!ls"
      ]
    },
    {
      "cell_type": "code",
      "execution_count": null,
      "metadata": {
        "colab": {
          "base_uri": "https://localhost:8080/"
        },
        "id": "5XPjHGrHRNLZ",
        "outputId": "c8207997-7c83-4f36-8896-4cece5dfe4ff"
      },
      "outputs": [
        {
          "output_type": "stream",
          "name": "stdout",
          "text": [
            "--2024-04-23 15:30:50--  https://raw.githubusercontent.com/lnsphnplt/dc_project/main/APD_sequence_release_09142020.fasta\n",
            "Resolving raw.githubusercontent.com (raw.githubusercontent.com)... 185.199.108.133, 185.199.109.133, 185.199.110.133, ...\n",
            "Connecting to raw.githubusercontent.com (raw.githubusercontent.com)|185.199.108.133|:443... connected.\n",
            "HTTP request sent, awaiting response... 200 OK\n",
            "Length: 370959 (362K) [text/plain]\n",
            "Saving to: ‘APD_sequence_release_09142020.fasta’\n",
            "\n",
            "\r          APD_seque   0%[                    ]       0  --.-KB/s               \rAPD_sequence_releas 100%[===================>] 362.26K  --.-KB/s    in 0.03s   \n",
            "\n",
            "2024-04-23 15:30:50 (10.2 MB/s) - ‘APD_sequence_release_09142020.fasta’ saved [370959/370959]\n",
            "\n"
          ]
        }
      ],
      "source": [
        "!wget https://raw.githubusercontent.com/lnsphnplt/dc_project/main/APD_sequence_release_09142020.fasta\n"
      ]
    },
    {
      "cell_type": "code",
      "source": [
        "def fastatocsv(infile, ofile):\n",
        "  with open(infile, 'r') as inf:\n",
        "    flines = inf.readlines()\n",
        "\n",
        "    print('input file', infile)\n",
        "\n",
        "    seqs = {}\n",
        "    lastname = 'None'\n",
        "\n",
        "    if l[0]=='>':# sequence identifier\n",
        "      names, rest = l.split('(')\n",
        "      id, name = names.strip('>').split('|')\n",
        "      seq = {'id':id, 'name':name, 'AB':1, 'description':rest, 'dataset':infile}\n",
        "      seqs[name] = seq\n",
        "      lastname = name\n",
        "\n",
        "    else:\n",
        "      seq = seqs[lastname]\n",
        "      seq['seq'] = l.strip('>').strip('\\n').strip(' ')\n",
        "\n",
        "  inf.close()\n",
        "\n",
        "  df = pd.DataFrame.from_dict(seqs).transpose()\n",
        "  destin = ofile.split('.csv')[0]+'.csv'\n",
        "  df.to_csv(destin, index = False )\n",
        "  print('saved df as csv to:', destin)\n",
        "  return df\n",
        "\n"
      ],
      "metadata": {
        "id": "iNZyJtaCtLtc"
      },
      "execution_count": 60,
      "outputs": []
    },
    {
      "cell_type": "code",
      "source": [
        "df = fastatocsv('APD_sequence_release_09142020.fasta', 'ADP_sequence_release')\n",
        "df.head()"
      ],
      "metadata": {
        "colab": {
          "base_uri": "https://localhost:8080/",
          "height": 114
        },
        "id": "G1nc8sa3tZCF",
        "outputId": "51f65228-7ce4-45e1-b7e4-6cdb3d26b938"
      },
      "execution_count": 59,
      "outputs": [
        {
          "output_type": "stream",
          "name": "stdout",
          "text": [
            "input file APD_sequence_release_09142020.fasta\n",
            "saved df as csv to: ADP_sequence_release.csv\n"
          ]
        },
        {
          "output_type": "execute_result",
          "data": {
            "text/plain": [
              "         AB                              dataset  \\\n",
              "Hs-AFP1   1  APD_sequence_release_09142020.fasta   \n",
              "\n",
              "                                                description     id      name  \n",
              "Hs-AFP1   HsAFP1, H. sanguinea antifungal protein 1; def...  00003  Hs-AFP1   "
            ],
            "text/html": [
              "\n",
              "  <div id=\"df-1b01e511-2c1b-447b-9bb2-80f2345f5760\" class=\"colab-df-container\">\n",
              "    <div>\n",
              "<style scoped>\n",
              "    .dataframe tbody tr th:only-of-type {\n",
              "        vertical-align: middle;\n",
              "    }\n",
              "\n",
              "    .dataframe tbody tr th {\n",
              "        vertical-align: top;\n",
              "    }\n",
              "\n",
              "    .dataframe thead th {\n",
              "        text-align: right;\n",
              "    }\n",
              "</style>\n",
              "<table border=\"1\" class=\"dataframe\">\n",
              "  <thead>\n",
              "    <tr style=\"text-align: right;\">\n",
              "      <th></th>\n",
              "      <th>AB</th>\n",
              "      <th>dataset</th>\n",
              "      <th>description</th>\n",
              "      <th>id</th>\n",
              "      <th>name</th>\n",
              "    </tr>\n",
              "  </thead>\n",
              "  <tbody>\n",
              "    <tr>\n",
              "      <th>Hs-AFP1</th>\n",
              "      <td>1</td>\n",
              "      <td>APD_sequence_release_09142020.fasta</td>\n",
              "      <td>HsAFP1, H. sanguinea antifungal protein 1; def...</td>\n",
              "      <td>00003</td>\n",
              "      <td>Hs-AFP1</td>\n",
              "    </tr>\n",
              "  </tbody>\n",
              "</table>\n",
              "</div>\n",
              "    <div class=\"colab-df-buttons\">\n",
              "\n",
              "  <div class=\"colab-df-container\">\n",
              "    <button class=\"colab-df-convert\" onclick=\"convertToInteractive('df-1b01e511-2c1b-447b-9bb2-80f2345f5760')\"\n",
              "            title=\"Convert this dataframe to an interactive table.\"\n",
              "            style=\"display:none;\">\n",
              "\n",
              "  <svg xmlns=\"http://www.w3.org/2000/svg\" height=\"24px\" viewBox=\"0 -960 960 960\">\n",
              "    <path d=\"M120-120v-720h720v720H120Zm60-500h600v-160H180v160Zm220 220h160v-160H400v160Zm0 220h160v-160H400v160ZM180-400h160v-160H180v160Zm440 0h160v-160H620v160ZM180-180h160v-160H180v160Zm440 0h160v-160H620v160Z\"/>\n",
              "  </svg>\n",
              "    </button>\n",
              "\n",
              "  <style>\n",
              "    .colab-df-container {\n",
              "      display:flex;\n",
              "      gap: 12px;\n",
              "    }\n",
              "\n",
              "    .colab-df-convert {\n",
              "      background-color: #E8F0FE;\n",
              "      border: none;\n",
              "      border-radius: 50%;\n",
              "      cursor: pointer;\n",
              "      display: none;\n",
              "      fill: #1967D2;\n",
              "      height: 32px;\n",
              "      padding: 0 0 0 0;\n",
              "      width: 32px;\n",
              "    }\n",
              "\n",
              "    .colab-df-convert:hover {\n",
              "      background-color: #E2EBFA;\n",
              "      box-shadow: 0px 1px 2px rgba(60, 64, 67, 0.3), 0px 1px 3px 1px rgba(60, 64, 67, 0.15);\n",
              "      fill: #174EA6;\n",
              "    }\n",
              "\n",
              "    .colab-df-buttons div {\n",
              "      margin-bottom: 4px;\n",
              "    }\n",
              "\n",
              "    [theme=dark] .colab-df-convert {\n",
              "      background-color: #3B4455;\n",
              "      fill: #D2E3FC;\n",
              "    }\n",
              "\n",
              "    [theme=dark] .colab-df-convert:hover {\n",
              "      background-color: #434B5C;\n",
              "      box-shadow: 0px 1px 3px 1px rgba(0, 0, 0, 0.15);\n",
              "      filter: drop-shadow(0px 1px 2px rgba(0, 0, 0, 0.3));\n",
              "      fill: #FFFFFF;\n",
              "    }\n",
              "  </style>\n",
              "\n",
              "    <script>\n",
              "      const buttonEl =\n",
              "        document.querySelector('#df-1b01e511-2c1b-447b-9bb2-80f2345f5760 button.colab-df-convert');\n",
              "      buttonEl.style.display =\n",
              "        google.colab.kernel.accessAllowed ? 'block' : 'none';\n",
              "\n",
              "      async function convertToInteractive(key) {\n",
              "        const element = document.querySelector('#df-1b01e511-2c1b-447b-9bb2-80f2345f5760');\n",
              "        const dataTable =\n",
              "          await google.colab.kernel.invokeFunction('convertToInteractive',\n",
              "                                                    [key], {});\n",
              "        if (!dataTable) return;\n",
              "\n",
              "        const docLinkHtml = 'Like what you see? Visit the ' +\n",
              "          '<a target=\"_blank\" href=https://colab.research.google.com/notebooks/data_table.ipynb>data table notebook</a>'\n",
              "          + ' to learn more about interactive tables.';\n",
              "        element.innerHTML = '';\n",
              "        dataTable['output_type'] = 'display_data';\n",
              "        await google.colab.output.renderOutput(dataTable, element);\n",
              "        const docLink = document.createElement('div');\n",
              "        docLink.innerHTML = docLinkHtml;\n",
              "        element.appendChild(docLink);\n",
              "      }\n",
              "    </script>\n",
              "  </div>\n",
              "\n",
              "    </div>\n",
              "  </div>\n"
            ],
            "application/vnd.google.colaboratory.intrinsic+json": {
              "type": "dataframe",
              "variable_name": "df",
              "summary": "{\n  \"name\": \"df\",\n  \"rows\": 1,\n  \"fields\": [\n    {\n      \"column\": \"AB\",\n      \"properties\": {\n        \"dtype\": \"date\",\n        \"min\": 1,\n        \"max\": 1,\n        \"num_unique_values\": 1,\n        \"samples\": [\n          1\n        ],\n        \"semantic_type\": \"\",\n        \"description\": \"\"\n      }\n    },\n    {\n      \"column\": \"dataset\",\n      \"properties\": {\n        \"dtype\": \"string\",\n        \"num_unique_values\": 1,\n        \"samples\": [\n          \"APD_sequence_release_09142020.fasta\"\n        ],\n        \"semantic_type\": \"\",\n        \"description\": \"\"\n      }\n    },\n    {\n      \"column\": \"description\",\n      \"properties\": {\n        \"dtype\": \"string\",\n        \"num_unique_values\": 1,\n        \"samples\": [\n          \"HsAFP1, H. sanguinea antifungal protein 1; defensins; 4S=S; UCSS1a; BBS; BBMm_lipid?; plants)\\n\"\n        ],\n        \"semantic_type\": \"\",\n        \"description\": \"\"\n      }\n    },\n    {\n      \"column\": \"id\",\n      \"properties\": {\n        \"dtype\": \"string\",\n        \"num_unique_values\": 1,\n        \"samples\": [\n          \"00003\"\n        ],\n        \"semantic_type\": \"\",\n        \"description\": \"\"\n      }\n    },\n    {\n      \"column\": \"name\",\n      \"properties\": {\n        \"dtype\": \"string\",\n        \"num_unique_values\": 1,\n        \"samples\": [\n          \"Hs-AFP1 \"\n        ],\n        \"semantic_type\": \"\",\n        \"description\": \"\"\n      }\n    }\n  ]\n}"
            }
          },
          "metadata": {},
          "execution_count": 59
        }
      ]
    },
    {
      "cell_type": "code",
      "source": [],
      "metadata": {
        "id": "ZcZ-2tolmkj-"
      },
      "execution_count": null,
      "outputs": []
    },
    {
      "cell_type": "code",
      "source": [],
      "metadata": {
        "id": "owXgKmWXn591"
      },
      "execution_count": null,
      "outputs": []
    },
    {
      "cell_type": "code",
      "source": [],
      "metadata": {
        "id": "vMQbEP9Rm5XG"
      },
      "execution_count": 59,
      "outputs": []
    },
    {
      "cell_type": "code",
      "source": [],
      "metadata": {
        "id": "tB3cMkPIm56u"
      },
      "execution_count": null,
      "outputs": []
    },
    {
      "cell_type": "code",
      "source": [],
      "metadata": {
        "id": "IT4cphuxm6JY"
      },
      "execution_count": null,
      "outputs": []
    },
    {
      "cell_type": "code",
      "execution_count": 59,
      "metadata": {
        "id": "3s-GlB-VRj3Y"
      },
      "outputs": [],
      "source": []
    },
    {
      "cell_type": "code",
      "execution_count": null,
      "metadata": {
        "id": "XgvxEPDiRvyk"
      },
      "outputs": [],
      "source": []
    }
  ],
  "metadata": {
    "colab": {
      "provenance": []
    },
    "kernelspec": {
      "display_name": "Python 3",
      "name": "python3"
    },
    "language_info": {
      "name": "python"
    }
  },
  "nbformat": 4,
  "nbformat_minor": 0
}
