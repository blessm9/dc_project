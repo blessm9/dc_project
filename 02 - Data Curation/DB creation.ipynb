{
 "cells": [
  {
   "cell_type": "markdown",
   "metadata": {},
   "source": [
    "# Create SQLite database\n",
    "For better efficency in storing and a unfied db for all teammembers to use. Idea is to use this as a universal starting point for every analysis\n"
   ]
  },
  {
   "cell_type": "code",
   "execution_count": 8,
   "metadata": {},
   "outputs": [
    {
     "data": {
      "text/plain": [
       "12864"
      ]
     },
     "execution_count": 8,
     "metadata": {},
     "output_type": "execute_result"
    }
   ],
   "source": [
    "import sqlite3\n",
    "import pandas as pd\n",
    "\n",
    "# Creating empty data base\n",
    "con = sqlite3.connect(\"unified.db\")\n",
    "cur = con.cursor()\n",
    "\n",
    "# Load data from CSV into a pandas DataFrame\n",
    "df = pd.read_csv(\"../data_pos_neg.csv\")\n",
    "\n",
    "# Write the data from pandas DataFrame to SQL table\n",
    "df.to_sql(\"initial\", con, if_exists='replace', index=False)"
   ]
  },
  {
   "cell_type": "markdown",
   "metadata": {},
   "source": [
    "# Validate no data was lost during transfer"
   ]
  },
  {
   "cell_type": "code",
   "execution_count": 28,
   "metadata": {},
   "outputs": [
    {
     "name": "stdout",
     "output_type": "stream",
     "text": [
      "Found 12864 in csv files.\n",
      "Found 12864 in sqlite db.\n",
      "meaning that 100.0 % was transfered\n"
     ]
    },
    {
     "name": "stderr",
     "output_type": "stream",
     "text": [
      "C:\\Users\\Etienne\\AppData\\Local\\Temp\\ipykernel_17252\\655335126.py:1: FutureWarning: Series.__getitem__ treating keys as positions is deprecated. In a future version, integer keys will always be treated as labels (consistent with DataFrame behavior). To access a value by position, use `ser.iloc[pos]`\n",
      "  amount_in_csv =  df.count()[0]\n"
     ]
    }
   ],
   "source": [
    "amount_in_csv =  df.count()[0]\n",
    "cur.execute(\"SELECT count(*) from initial;\")\n",
    "amount_in_db = cur.fetchone()[0]\n",
    "\n",
    "print(f\"Found {amount_in_csv} in csv files.\\nFound {amount_in_db} in sqlite db.\\nmeaning that {amount_in_db / amount_in_csv * 100} % was transfered\")"
   ]
  }
 ],
 "metadata": {
  "kernelspec": {
   "display_name": "Python 3",
   "language": "python",
   "name": "python3"
  },
  "language_info": {
   "codemirror_mode": {
    "name": "ipython",
    "version": 3
   },
   "file_extension": ".py",
   "mimetype": "text/x-python",
   "name": "python",
   "nbconvert_exporter": "python",
   "pygments_lexer": "ipython3",
   "version": "3.11.3"
  }
 },
 "nbformat": 4,
 "nbformat_minor": 2
}
