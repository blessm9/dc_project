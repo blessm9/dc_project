{
 "cells": [
  {
   "cell_type": "markdown",
   "id": "76b8cae8",
   "metadata": {
    "tags": [
     "papermill-error-cell-tag"
    ]
   },
   "source": [
    "<span style=\"color:red; font-family:Helvetica Neue, Helvetica, Arial, sans-serif; font-size:2em;\">An Exception was encountered at '<a href=\"#papermill-error-cell\">In [3]</a>'.</span>"
   ]
  },
  {
   "cell_type": "markdown",
   "id": "00155bd4-00ca-474c-9d0f-304bae26802b",
   "metadata": {
    "papermill": {
     "duration": 0.02295,
     "end_time": "2024-05-21T14:35:14.969956",
     "exception": false,
     "start_time": "2024-05-21T14:35:14.947006",
     "status": "completed"
    },
    "tags": []
   },
   "source": [
    "# Data Import"
   ]
  },
  {
   "cell_type": "code",
   "execution_count": 1,
   "id": "76e44ac4-46f1-413c-b691-26863ad5bd91",
   "metadata": {
    "editable": true,
    "execution": {
     "iopub.execute_input": "2024-05-21T14:35:15.035940Z",
     "iopub.status.busy": "2024-05-21T14:35:15.035617Z",
     "iopub.status.idle": "2024-05-21T14:35:15.045570Z",
     "shell.execute_reply": "2024-05-21T14:35:15.044458Z"
    },
    "jupyter": {
     "source_hidden": true
    },
    "papermill": {
     "duration": 0.039779,
     "end_time": "2024-05-21T14:35:15.047631",
     "exception": false,
     "start_time": "2024-05-21T14:35:15.007852",
     "status": "completed"
    },
    "slideshow": {
     "slide_type": ""
    },
    "tags": [
     "parameters"
    ]
   },
   "outputs": [],
   "source": [
    "virtual_env = \"False\""
   ]
  },
  {
   "cell_type": "code",
   "execution_count": 2,
   "id": "416c61ec",
   "metadata": {
    "execution": {
     "iopub.execute_input": "2024-05-21T14:35:15.083247Z",
     "iopub.status.busy": "2024-05-21T14:35:15.082942Z",
     "iopub.status.idle": "2024-05-21T14:35:15.087007Z",
     "shell.execute_reply": "2024-05-21T14:35:15.086116Z"
    },
    "jupyter": {
     "source_hidden": true
    },
    "papermill": {
     "duration": 0.028443,
     "end_time": "2024-05-21T14:35:15.088580",
     "exception": false,
     "start_time": "2024-05-21T14:35:15.060137",
     "status": "completed"
    },
    "tags": [
     "injected-parameters"
    ]
   },
   "outputs": [],
   "source": [
    "# Parameters\n",
    "execution_date = \"2024-05-21 14:35:11.555470+00:00\"\n"
   ]
  },
  {
   "cell_type": "markdown",
   "id": "699b302a",
   "metadata": {
    "tags": [
     "papermill-error-cell-tag"
    ]
   },
   "source": [
    "<span id=\"papermill-error-cell\" style=\"color:red; font-family:Helvetica Neue, Helvetica, Arial, sans-serif; font-size:2em;\">Execution using papermill encountered an exception here and stopped:</span>"
   ]
  },
  {
   "cell_type": "code",
   "execution_count": 3,
   "id": "fef6b2f9-9e64-4335-8f77-760d51ccbcd0",
   "metadata": {
    "editable": true,
    "execution": {
     "iopub.execute_input": "2024-05-21T14:35:15.124910Z",
     "iopub.status.busy": "2024-05-21T14:35:15.124419Z",
     "iopub.status.idle": "2024-05-21T14:35:15.859898Z",
     "shell.execute_reply": "2024-05-21T14:35:15.858236Z"
    },
    "jupyter": {
     "source_hidden": true
    },
    "papermill": {
     "duration": 0.760514,
     "end_time": "2024-05-21T14:35:15.861874",
     "exception": true,
     "start_time": "2024-05-21T14:35:15.101360",
     "status": "failed"
    },
    "slideshow": {
     "slide_type": ""
    },
    "tags": []
   },
   "outputs": [
    {
     "ename": "ModuleNotFoundError",
     "evalue": "No module named 'matplotlib'",
     "output_type": "error",
     "traceback": [
      "\u001b[0;31m---------------------------------------------------------------------------\u001b[0m",
      "\u001b[0;31mModuleNotFoundError\u001b[0m                       Traceback (most recent call last)",
      "Cell \u001b[0;32mIn[3], line 3\u001b[0m\n\u001b[1;32m      1\u001b[0m \u001b[38;5;28;01mimport\u001b[39;00m \u001b[38;5;21;01msqlite3\u001b[39;00m\n\u001b[1;32m      2\u001b[0m \u001b[38;5;28;01mimport\u001b[39;00m \u001b[38;5;21;01mpandas\u001b[39;00m \u001b[38;5;28;01mas\u001b[39;00m \u001b[38;5;21;01mpd\u001b[39;00m\n\u001b[0;32m----> 3\u001b[0m \u001b[38;5;28;01mimport\u001b[39;00m \u001b[38;5;21;01mmatplotlib\u001b[39;00m\u001b[38;5;21;01m.\u001b[39;00m\u001b[38;5;21;01mpyplot\u001b[39;00m \u001b[38;5;28;01mas\u001b[39;00m \u001b[38;5;21;01mplt\u001b[39;00m\n\u001b[1;32m      4\u001b[0m \u001b[38;5;28;01mimport\u001b[39;00m \u001b[38;5;21;01mnumpy\u001b[39;00m \u001b[38;5;28;01mas\u001b[39;00m \u001b[38;5;21;01mnp\u001b[39;00m\n\u001b[1;32m      6\u001b[0m \u001b[38;5;28;01mif\u001b[39;00m virtual_env \u001b[38;5;241m==\u001b[39m \u001b[38;5;28;01mTrue\u001b[39;00m:\n",
      "\u001b[0;31mModuleNotFoundError\u001b[0m: No module named 'matplotlib'"
     ]
    }
   ],
   "source": [
    "import sqlite3\n",
    "import pandas as pd\n",
    "import matplotlib.pyplot as plt\n",
    "import numpy as np\n",
    "\n",
    "if virtual_env == True:\n",
    "    con = sqlite3.connect(\"/mnt/02-Data_Curation/unified.db\")\n",
    "else:\n",
    "    con = sqlite3.connect(\"../02-Data_Curation/unified.db\")\n",
    "    \n",
    "cur = con.cursor()\n",
    "\n",
    "df = pd.read_sql_query(\"SELECT * FROM prod\", con)\n",
    "df"
   ]
  },
  {
   "cell_type": "markdown",
   "id": "40ee24f3-af70-428b-b8bf-9bd660b2a447",
   "metadata": {
    "papermill": {
     "duration": null,
     "end_time": null,
     "exception": null,
     "start_time": null,
     "status": "pending"
    },
    "tags": []
   },
   "source": [
    "# Compare Positive/negative Data\n",
    "To ensure a model does not determine the AB of a seq based on something else the seq information we try to match as many properties of data. Goal is to avoid that we train a model which just discriminates based on length or some property similiar."
   ]
  },
  {
   "cell_type": "code",
   "execution_count": null,
   "id": "732e3545-7b1d-4bd0-bd2c-f4b980fd301c",
   "metadata": {
    "jupyter": {
     "source_hidden": true
    },
    "papermill": {
     "duration": null,
     "end_time": null,
     "exception": null,
     "start_time": null,
     "status": "pending"
    },
    "tags": []
   },
   "outputs": [],
   "source": [
    "pd.read_sql_query(\"SELECT COUNT(*), AB FROM prod GROUP BY AB\", con)"
   ]
  },
  {
   "cell_type": "markdown",
   "id": "71b3a6c6-7982-42ab-bff9-10cd7c8de933",
   "metadata": {
    "papermill": {
     "duration": null,
     "end_time": null,
     "exception": null,
     "start_time": null,
     "status": "pending"
    },
    "tags": []
   },
   "source": [
    "This is close enough to a 1:1 ratio. This ensures that potential models do not determine the activity by guessing based on length."
   ]
  },
  {
   "cell_type": "markdown",
   "id": "0257ad6f-52d8-484b-ac9b-833477d74501",
   "metadata": {
    "papermill": {
     "duration": null,
     "end_time": null,
     "exception": null,
     "start_time": null,
     "status": "pending"
    },
    "tags": []
   },
   "source": [
    "# Compare lengths\n"
   ]
  },
  {
   "cell_type": "code",
   "execution_count": null,
   "id": "0a958322-3745-4d3e-b113-77351c80833d",
   "metadata": {
    "jupyter": {
     "source_hidden": true
    },
    "papermill": {
     "duration": null,
     "end_time": null,
     "exception": null,
     "start_time": null,
     "status": "pending"
    },
    "tags": []
   },
   "outputs": [],
   "source": [
    "# Calculate lengths\n",
    "df['seq_length'] = df['seq'].apply(lambda x: len(x))\n",
    "\n",
    "# Separate by AB values\n",
    "positive = df[df['AB'] == 1]\n",
    "negative = df[df['AB'] == 0]\n",
    "\n",
    "# Calculate histogram data\n",
    "hist_data_pos, bin_edges_pos = np.histogram(positive['seq_length'], bins=15, density=True)\n",
    "hist_data_neg, bin_edges_neg = np.histogram(negative['seq_length'], bins=15, density=True)\n",
    "\n",
    "# Midpoints of bins\n",
    "bin_centers_pos = 0.5 * (bin_edges_pos[1:] + bin_edges_pos[:-1])\n",
    "bin_centers_neg = 0.5 * (bin_edges_neg[1:] + bin_edges_neg[:-1])\n",
    "\n",
    "# Create line plot\n",
    "plt.figure(figsize=(10, 6))\n",
    "plt.plot(bin_centers_pos, hist_data_pos, label='Positive AB', drawstyle='steps-mid')\n",
    "plt.plot(bin_centers_neg, hist_data_neg, label='Negative AB', drawstyle='steps-mid')\n",
    "plt.legend()\n",
    "plt.title('Sequence Length Distribution')\n",
    "plt.xlabel('Sequence Length')\n",
    "plt.ylabel('Density')\n",
    "plt.grid(True)\n",
    "plt.show()"
   ]
  },
  {
   "cell_type": "markdown",
   "id": "37994351-f2d9-4091-99df-83179de33ebf",
   "metadata": {
    "papermill": {
     "duration": null,
     "end_time": null,
     "exception": null,
     "start_time": null,
     "status": "pending"
    },
    "tags": []
   },
   "source": [
    "The length destribution is roughly the same. Meaning models cant guess based on sequence length."
   ]
  },
  {
   "cell_type": "markdown",
   "id": "124089ea-2a7a-47c8-8a32-2759cfaf6ed1",
   "metadata": {
    "papermill": {
     "duration": null,
     "end_time": null,
     "exception": null,
     "start_time": null,
     "status": "pending"
    },
    "tags": []
   },
   "source": [
    "# AA make up\n",
    "Goal check wether AA make up is the same with positive AB and negative AB."
   ]
  },
  {
   "cell_type": "code",
   "execution_count": null,
   "id": "3e62baf4-d5ab-4364-af10-395112f07ff5",
   "metadata": {
    "jupyter": {
     "source_hidden": true
    },
    "papermill": {
     "duration": null,
     "end_time": null,
     "exception": null,
     "start_time": null,
     "status": "pending"
    },
    "tags": []
   },
   "outputs": [],
   "source": [
    "# Calculate relative abundance\n",
    "import pandas as pd\n",
    "import numpy as np\n",
    "import matplotlib.pyplot as plt\n",
    "\n",
    "# Assuming df is provided\n",
    "df_backup = df.copy()\n",
    "\n",
    "# List of amino acids\n",
    "amino_acids = list('ACDEFGHIKLMNPQRSTVWY')\n",
    "\n",
    "# Function to calculate relative abundance of amino acids\n",
    "def calculate_abundance(seq):\n",
    "    abundance = {aa: 0 for aa in amino_acids}\n",
    "    for aa in seq:\n",
    "        if aa in abundance:\n",
    "            abundance[aa] += 1\n",
    "    seq_length = len(seq)\n",
    "    if seq_length > 0:\n",
    "        for aa in abundance:\n",
    "            abundance[aa] /= seq_length\n",
    "    return abundance\n",
    "\n",
    "# Apply the function to each sequence and create a new DataFrame\n",
    "abundance_df = df['seq'].apply(calculate_abundance).apply(pd.Series)\n",
    "\n",
    "# Merge the new DataFrame with the original DataFrame\n",
    "result_df = pd.concat([df['AB'], abundance_df], axis=1)\n",
    "\n",
    "# Separate positive and negative groups\n",
    "positive = result_df[result_df['AB'] == 1].drop(columns=['AB']).reset_index(drop=True)\n",
    "negative = result_df[result_df['AB'] == 0].drop(columns=['AB']).reset_index(drop=True)\n",
    "\n",
    "n_pos = len(positive)\n",
    "n_neg = len(negative)\n",
    "\n",
    "# Calculate means and standard deviations\n",
    "df_local = pd.concat([positive.mean(), positive.std(), negative.mean(), negative.std()], axis=1)\n",
    "df_local.columns = ['mean_pos', 'std_pos', 'mean_neg', 'std_neg']\n",
    "df_local.index = amino_acids\n",
    "\n",
    "print(df_local)\n",
    "\n",
    "# Plotting\n",
    "fig, ax = plt.subplots(figsize=(12, 6))\n",
    "\n",
    "# X-axis positions for the amino acids\n",
    "x = np.arange(len(df_local))\n",
    "\n",
    "# Plotting data points and error bars\n",
    "ax.errorbar(x - 0.1, df_local['mean_pos'], yerr=df_local['std_pos'], fmt='o', label='Positive (Mean 1)', capsize=5)\n",
    "ax.errorbar(x + 0.1, df_local['mean_neg'], yerr=df_local['std_neg'], fmt='o', label='Negative (Mean 3)', capsize=5)\n",
    "\n",
    "# Setting the labels and title\n",
    "ax.set_xlabel('Amino Acids')\n",
    "ax.set_ylabel('Relative Abundance')\n",
    "ax.set_title('Relative Abundance of Amino Acids with Error Bars')\n",
    "\n",
    "# Setting the x-ticks and labels\n",
    "ax.set_xticks(x)\n",
    "ax.set_xticklabels(df_local.index)\n",
    "\n",
    "# Adding legend\n",
    "ax.legend()\n",
    "\n",
    "# Displaying the plot\n",
    "plt.tight_layout()\n",
    "plt.show()\n"
   ]
  },
  {
   "cell_type": "markdown",
   "id": "04afbd93-a4a5-4f66-b12d-15eadc964ed4",
   "metadata": {
    "papermill": {
     "duration": null,
     "end_time": null,
     "exception": null,
     "start_time": null,
     "status": "pending"
    },
    "tags": []
   },
   "source": [
    "Graphic shows no large deviation per amino acid postive vs negative."
   ]
  },
  {
   "cell_type": "code",
   "execution_count": null,
   "id": "f925ffad-9039-48d3-9408-2f85bbd71e21",
   "metadata": {
    "jupyter": {
     "source_hidden": true
    },
    "papermill": {
     "duration": null,
     "end_time": null,
     "exception": null,
     "start_time": null,
     "status": "pending"
    },
    "tags": []
   },
   "outputs": [],
   "source": []
  }
 ],
 "metadata": {
  "kernelspec": {
   "display_name": "Python 3 (ipykernel)",
   "language": "python",
   "name": "python3"
  },
  "language_info": {
   "codemirror_mode": {
    "name": "ipython",
    "version": 3
   },
   "file_extension": ".py",
   "mimetype": "text/x-python",
   "name": "python",
   "nbconvert_exporter": "python",
   "pygments_lexer": "ipython3",
   "version": "3.11.9"
  },
  "papermill": {
   "default_parameters": {},
   "duration": 2.423485,
   "end_time": "2024-05-21T14:35:16.197400",
   "environment_variables": {},
   "exception": true,
   "input_path": "/mnt/03-EDA/DataExploration.ipynb",
   "output_path": "/mnt/03-EDA/DataExploration-executed.ipynb",
   "parameters": {
    "execution_date": "2024-05-21 14:35:11.555470+00:00"
   },
   "start_time": "2024-05-21T14:35:13.773915",
   "version": "2.6.0"
  }
 },
 "nbformat": 4,
 "nbformat_minor": 5
}