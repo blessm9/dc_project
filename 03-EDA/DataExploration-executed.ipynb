{
 "cells": [
  {
   "cell_type": "markdown",
   "id": "00155bd4-00ca-474c-9d0f-304bae26802b",
   "metadata": {
    "papermill": {
     "duration": 0.017309,
     "end_time": "2024-05-21T14:41:58.112379",
     "exception": false,
     "start_time": "2024-05-21T14:41:58.095070",
     "status": "completed"
    },
    "tags": []
   },
   "source": [
    "# Data Import"
   ]
  },
  {
   "cell_type": "code",
   "execution_count": 1,
   "id": "76e44ac4-46f1-413c-b691-26863ad5bd91",
   "metadata": {
    "editable": true,
    "execution": {
     "iopub.execute_input": "2024-05-21T14:41:58.162367Z",
     "iopub.status.busy": "2024-05-21T14:41:58.162027Z",
     "iopub.status.idle": "2024-05-21T14:41:58.171591Z",
     "shell.execute_reply": "2024-05-21T14:41:58.170428Z"
    },
    "jupyter": {
     "source_hidden": true
    },
    "papermill": {
     "duration": 0.033386,
     "end_time": "2024-05-21T14:41:58.174474",
     "exception": false,
     "start_time": "2024-05-21T14:41:58.141088",
     "status": "completed"
    },
    "slideshow": {
     "slide_type": ""
    },
    "tags": [
     "parameters"
    ]
   },
   "outputs": [],
   "source": [
    "virtual_env = \"False\""
   ]
  },
  {
   "cell_type": "code",
   "execution_count": 2,
   "id": "37163fa7",
   "metadata": {
    "execution": {
     "iopub.execute_input": "2024-05-21T14:41:58.209340Z",
     "iopub.status.busy": "2024-05-21T14:41:58.208997Z",
     "iopub.status.idle": "2024-05-21T14:41:58.213939Z",
     "shell.execute_reply": "2024-05-21T14:41:58.212923Z"
    },
    "jupyter": {
     "source_hidden": true
    },
    "papermill": {
     "duration": 0.029905,
     "end_time": "2024-05-21T14:41:58.216384",
     "exception": false,
     "start_time": "2024-05-21T14:41:58.186479",
     "status": "completed"
    },
    "tags": [
     "injected-parameters"
    ]
   },
   "outputs": [],
   "source": [
    "# Parameters\n",
    "execution_date = \"2024-05-21 14:41:55.008124+00:00\"\n",
    "virtual_env = \"True\"\n"
   ]
  },
  {
   "cell_type": "code",
   "execution_count": 3,
   "id": "fef6b2f9-9e64-4335-8f77-760d51ccbcd0",
   "metadata": {
    "editable": true,
    "execution": {
     "iopub.execute_input": "2024-05-21T14:41:58.250416Z",
     "iopub.status.busy": "2024-05-21T14:41:58.249210Z",
     "iopub.status.idle": "2024-05-21T14:41:59.645503Z",
     "shell.execute_reply": "2024-05-21T14:41:59.643229Z"
    },
    "jupyter": {
     "source_hidden": true
    },
    "papermill": {
     "duration": 1.420327,
     "end_time": "2024-05-21T14:41:59.648089",
     "exception": false,
     "start_time": "2024-05-21T14:41:58.227762",
     "status": "completed"
    },
    "slideshow": {
     "slide_type": ""
    },
    "tags": []
   },
   "outputs": [
    {
     "data": {
      "text/html": [
       "<div>\n",
       "<style scoped>\n",
       "    .dataframe tbody tr th:only-of-type {\n",
       "        vertical-align: middle;\n",
       "    }\n",
       "\n",
       "    .dataframe tbody tr th {\n",
       "        vertical-align: top;\n",
       "    }\n",
       "\n",
       "    .dataframe thead th {\n",
       "        text-align: right;\n",
       "    }\n",
       "</style>\n",
       "<table border=\"1\" class=\"dataframe\">\n",
       "  <thead>\n",
       "    <tr style=\"text-align: right;\">\n",
       "      <th></th>\n",
       "      <th>id</th>\n",
       "      <th>name</th>\n",
       "      <th>AB</th>\n",
       "      <th>description</th>\n",
       "      <th>OX</th>\n",
       "      <th>source</th>\n",
       "      <th>seq</th>\n",
       "      <th>valid</th>\n",
       "    </tr>\n",
       "  </thead>\n",
       "  <tbody>\n",
       "    <tr>\n",
       "      <th>0</th>\n",
       "      <td>ADAM_2177</td>\n",
       "      <td>InverPep_ADAM_2177</td>\n",
       "      <td>1</td>\n",
       "      <td>None</td>\n",
       "      <td>alien</td>\n",
       "      <td>InverPep.fasta</td>\n",
       "      <td>GLFNVFKGLKTAGKHVAGSLLNQLKCKVSGGC</td>\n",
       "      <td>yes</td>\n",
       "    </tr>\n",
       "    <tr>\n",
       "      <th>1</th>\n",
       "      <td>DBAASP13663</td>\n",
       "      <td>HistoneH2A(1-21),Fi-Histin</td>\n",
       "      <td>1</td>\n",
       "      <td>None</td>\n",
       "      <td>alien</td>\n",
       "      <td>InverPep.fasta</td>\n",
       "      <td>SRSSRAGLQFPVGRIHRLLRK</td>\n",
       "      <td>yes</td>\n",
       "    </tr>\n",
       "    <tr>\n",
       "      <th>2</th>\n",
       "      <td>DBAASP729</td>\n",
       "      <td>Histatin5(5-22)</td>\n",
       "      <td>1</td>\n",
       "      <td>None</td>\n",
       "      <td>alien</td>\n",
       "      <td>InverPep.fasta</td>\n",
       "      <td>KRHHGYKRKFHEKHHSHR</td>\n",
       "      <td>yes</td>\n",
       "    </tr>\n",
       "    <tr>\n",
       "      <th>3</th>\n",
       "      <td>DBAASP644</td>\n",
       "      <td>Gaegurin5(1-11)[F1W]</td>\n",
       "      <td>1</td>\n",
       "      <td>None</td>\n",
       "      <td>alien</td>\n",
       "      <td>InverPep.fasta</td>\n",
       "      <td>WLGALFKVASK</td>\n",
       "      <td>yes</td>\n",
       "    </tr>\n",
       "    <tr>\n",
       "      <th>4</th>\n",
       "      <td>ADAM_0664</td>\n",
       "      <td>InverPep_ADAM_0664</td>\n",
       "      <td>1</td>\n",
       "      <td>None</td>\n",
       "      <td>alien</td>\n",
       "      <td>InverPep.fasta</td>\n",
       "      <td>DLWNSIKDMAAAAGRAALNAVTGMVNQ</td>\n",
       "      <td>yes</td>\n",
       "    </tr>\n",
       "    <tr>\n",
       "      <th>...</th>\n",
       "      <td>...</td>\n",
       "      <td>...</td>\n",
       "      <td>...</td>\n",
       "      <td>...</td>\n",
       "      <td>...</td>\n",
       "      <td>...</td>\n",
       "      <td>...</td>\n",
       "      <td>...</td>\n",
       "    </tr>\n",
       "    <tr>\n",
       "      <th>12823</th>\n",
       "      <td>Q7M463</td>\n",
       "      <td>SCK6_MESMA</td>\n",
       "      <td>0</td>\n",
       "      <td>Neurotoxin BmK A3-6</td>\n",
       "      <td>Mesobuthus martensii OX=34649</td>\n",
       "      <td>uniprot_swissprot.fasta</td>\n",
       "      <td>LPYPVNCKTECECVMCGLGIICKQCYYQQ</td>\n",
       "      <td>yes</td>\n",
       "    </tr>\n",
       "    <tr>\n",
       "      <th>12824</th>\n",
       "      <td>Q7NSS5</td>\n",
       "      <td>Y3345_CHRVO</td>\n",
       "      <td>0</td>\n",
       "      <td>UPF0434 protein CV_3345</td>\n",
       "      <td>Chromobacterium violaceum (strain ATCC 12472 /...</td>\n",
       "      <td>uniprot_swissprot.fasta</td>\n",
       "      <td>MDAKFLEILVCPLCKGPLVFDKSKDELICKGDRLAFPIKDGIPMML...</td>\n",
       "      <td>yes</td>\n",
       "    </tr>\n",
       "    <tr>\n",
       "      <th>12825</th>\n",
       "      <td>Q8QHM9</td>\n",
       "      <td>Y56_SIRV1</td>\n",
       "      <td>0</td>\n",
       "      <td>Uncharacterized protein 56</td>\n",
       "      <td>Sulfolobus islandicus rod-shaped virus 1 OX=15...</td>\n",
       "      <td>uniprot_swissprot.fasta</td>\n",
       "      <td>MKKEIQVQGVRYYVESEDDLVSVAHELAKMGYTVQQIANALGVSER...</td>\n",
       "      <td>yes</td>\n",
       "    </tr>\n",
       "    <tr>\n",
       "      <th>12826</th>\n",
       "      <td>Q9R4N8</td>\n",
       "      <td>RL33_BREVE</td>\n",
       "      <td>0</td>\n",
       "      <td>Large ribosomal subunit protein bL33 (Fragment)</td>\n",
       "      <td>Brevundimonas vesicularis OX=41276 GN=rpmG</td>\n",
       "      <td>uniprot_swissprot.fasta</td>\n",
       "      <td>CKPASIKIRLNSTADTGFYV</td>\n",
       "      <td>yes</td>\n",
       "    </tr>\n",
       "    <tr>\n",
       "      <th>12827</th>\n",
       "      <td>Q9R4P1</td>\n",
       "      <td>RS21_BREVE</td>\n",
       "      <td>0</td>\n",
       "      <td>Small ribosomal subunit protein bS21 (Fragment)</td>\n",
       "      <td>Brevundimonas vesicularis OX=41276 GN=rpsU</td>\n",
       "      <td>uniprot_swissprot.fasta</td>\n",
       "      <td>VQIFVRDNNVDQALKALK</td>\n",
       "      <td>yes</td>\n",
       "    </tr>\n",
       "  </tbody>\n",
       "</table>\n",
       "<p>12828 rows × 8 columns</p>\n",
       "</div>"
      ],
      "text/plain": [
       "                id                        name  AB  \\\n",
       "0        ADAM_2177          InverPep_ADAM_2177   1   \n",
       "1      DBAASP13663  HistoneH2A(1-21),Fi-Histin   1   \n",
       "2        DBAASP729             Histatin5(5-22)   1   \n",
       "3        DBAASP644        Gaegurin5(1-11)[F1W]   1   \n",
       "4        ADAM_0664          InverPep_ADAM_0664   1   \n",
       "...            ...                         ...  ..   \n",
       "12823       Q7M463                  SCK6_MESMA   0   \n",
       "12824       Q7NSS5                 Y3345_CHRVO   0   \n",
       "12825       Q8QHM9                   Y56_SIRV1   0   \n",
       "12826       Q9R4N8                  RL33_BREVE   0   \n",
       "12827       Q9R4P1                  RS21_BREVE   0   \n",
       "\n",
       "                                            description  \\\n",
       "0                                                  None   \n",
       "1                                                  None   \n",
       "2                                                  None   \n",
       "3                                                  None   \n",
       "4                                                  None   \n",
       "...                                                 ...   \n",
       "12823                              Neurotoxin BmK A3-6    \n",
       "12824                          UPF0434 protein CV_3345    \n",
       "12825                       Uncharacterized protein 56    \n",
       "12826  Large ribosomal subunit protein bL33 (Fragment)    \n",
       "12827  Small ribosomal subunit protein bS21 (Fragment)    \n",
       "\n",
       "                                                      OX  \\\n",
       "0                                                  alien   \n",
       "1                                                  alien   \n",
       "2                                                  alien   \n",
       "3                                                  alien   \n",
       "4                                                  alien   \n",
       "...                                                  ...   \n",
       "12823                      Mesobuthus martensii OX=34649   \n",
       "12824  Chromobacterium violaceum (strain ATCC 12472 /...   \n",
       "12825  Sulfolobus islandicus rod-shaped virus 1 OX=15...   \n",
       "12826         Brevundimonas vesicularis OX=41276 GN=rpmG   \n",
       "12827         Brevundimonas vesicularis OX=41276 GN=rpsU   \n",
       "\n",
       "                        source  \\\n",
       "0               InverPep.fasta   \n",
       "1               InverPep.fasta   \n",
       "2               InverPep.fasta   \n",
       "3               InverPep.fasta   \n",
       "4               InverPep.fasta   \n",
       "...                        ...   \n",
       "12823  uniprot_swissprot.fasta   \n",
       "12824  uniprot_swissprot.fasta   \n",
       "12825  uniprot_swissprot.fasta   \n",
       "12826  uniprot_swissprot.fasta   \n",
       "12827  uniprot_swissprot.fasta   \n",
       "\n",
       "                                                     seq valid  \n",
       "0                       GLFNVFKGLKTAGKHVAGSLLNQLKCKVSGGC   yes  \n",
       "1                                  SRSSRAGLQFPVGRIHRLLRK   yes  \n",
       "2                                     KRHHGYKRKFHEKHHSHR   yes  \n",
       "3                                            WLGALFKVASK   yes  \n",
       "4                            DLWNSIKDMAAAAGRAALNAVTGMVNQ   yes  \n",
       "...                                                  ...   ...  \n",
       "12823                      LPYPVNCKTECECVMCGLGIICKQCYYQQ   yes  \n",
       "12824  MDAKFLEILVCPLCKGPLVFDKSKDELICKGDRLAFPIKDGIPMML...   yes  \n",
       "12825  MKKEIQVQGVRYYVESEDDLVSVAHELAKMGYTVQQIANALGVSER...   yes  \n",
       "12826                               CKPASIKIRLNSTADTGFYV   yes  \n",
       "12827                                 VQIFVRDNNVDQALKALK   yes  \n",
       "\n",
       "[12828 rows x 8 columns]"
      ]
     },
     "execution_count": 3,
     "metadata": {},
     "output_type": "execute_result"
    }
   ],
   "source": [
    "import sqlite3\n",
    "import pandas as pd\n",
    "import matplotlib.pyplot as plt\n",
    "import numpy as np\n",
    "\n",
    "if virtual_env == \"True\":\n",
    "    con = sqlite3.connect(\"/mnt/02-Data_Curation/unified.db\")\n",
    "else:\n",
    "    con = sqlite3.connect(\"../02-Data_Curation/unified.db\")\n",
    "    \n",
    "cur = con.cursor()\n",
    "\n",
    "df = pd.read_sql_query(\"SELECT * FROM prod\", con)\n",
    "df"
   ]
  },
  {
   "cell_type": "markdown",
   "id": "40ee24f3-af70-428b-b8bf-9bd660b2a447",
   "metadata": {
    "papermill": {
     "duration": 0.022415,
     "end_time": "2024-05-21T14:41:59.685310",
     "exception": false,
     "start_time": "2024-05-21T14:41:59.662895",
     "status": "completed"
    },
    "tags": []
   },
   "source": [
    "# Compare Positive/negative Data\n",
    "To ensure a model does not determine the AB of a seq based on something else the seq information we try to match as many properties of data. Goal is to avoid that we train a model which just discriminates based on length or some property similiar."
   ]
  },
  {
   "cell_type": "code",
   "execution_count": 4,
   "id": "732e3545-7b1d-4bd0-bd2c-f4b980fd301c",
   "metadata": {
    "execution": {
     "iopub.execute_input": "2024-05-21T14:41:59.728034Z",
     "iopub.status.busy": "2024-05-21T14:41:59.727189Z",
     "iopub.status.idle": "2024-05-21T14:41:59.747555Z",
     "shell.execute_reply": "2024-05-21T14:41:59.745177Z"
    },
    "jupyter": {
     "source_hidden": true
    },
    "papermill": {
     "duration": 0.04516,
     "end_time": "2024-05-21T14:41:59.749569",
     "exception": false,
     "start_time": "2024-05-21T14:41:59.704409",
     "status": "completed"
    },
    "tags": []
   },
   "outputs": [
    {
     "data": {
      "text/html": [
       "<div>\n",
       "<style scoped>\n",
       "    .dataframe tbody tr th:only-of-type {\n",
       "        vertical-align: middle;\n",
       "    }\n",
       "\n",
       "    .dataframe tbody tr th {\n",
       "        vertical-align: top;\n",
       "    }\n",
       "\n",
       "    .dataframe thead th {\n",
       "        text-align: right;\n",
       "    }\n",
       "</style>\n",
       "<table border=\"1\" class=\"dataframe\">\n",
       "  <thead>\n",
       "    <tr style=\"text-align: right;\">\n",
       "      <th></th>\n",
       "      <th>COUNT(*)</th>\n",
       "      <th>AB</th>\n",
       "    </tr>\n",
       "  </thead>\n",
       "  <tbody>\n",
       "    <tr>\n",
       "      <th>0</th>\n",
       "      <td>5845</td>\n",
       "      <td>0</td>\n",
       "    </tr>\n",
       "    <tr>\n",
       "      <th>1</th>\n",
       "      <td>6983</td>\n",
       "      <td>1</td>\n",
       "    </tr>\n",
       "  </tbody>\n",
       "</table>\n",
       "</div>"
      ],
      "text/plain": [
       "   COUNT(*)  AB\n",
       "0      5845   0\n",
       "1      6983   1"
      ]
     },
     "execution_count": 4,
     "metadata": {},
     "output_type": "execute_result"
    }
   ],
   "source": [
    "pd.read_sql_query(\"SELECT COUNT(*), AB FROM prod GROUP BY AB\", con)"
   ]
  },
  {
   "cell_type": "markdown",
   "id": "71b3a6c6-7982-42ab-bff9-10cd7c8de933",
   "metadata": {
    "papermill": {
     "duration": 0.019127,
     "end_time": "2024-05-21T14:41:59.780633",
     "exception": false,
     "start_time": "2024-05-21T14:41:59.761506",
     "status": "completed"
    },
    "tags": []
   },
   "source": [
    "This is close enough to a 1:1 ratio. This ensures that potential models do not determine the activity by guessing based on length."
   ]
  },
  {
   "cell_type": "markdown",
   "id": "0257ad6f-52d8-484b-ac9b-833477d74501",
   "metadata": {
    "papermill": {
     "duration": 0.021237,
     "end_time": "2024-05-21T14:41:59.819184",
     "exception": false,
     "start_time": "2024-05-21T14:41:59.797947",
     "status": "completed"
    },
    "tags": []
   },
   "source": [
    "# Compare lengths\n"
   ]
  },
  {
   "cell_type": "code",
   "execution_count": 5,
   "id": "0a958322-3745-4d3e-b113-77351c80833d",
   "metadata": {
    "execution": {
     "iopub.execute_input": "2024-05-21T14:41:59.859024Z",
     "iopub.status.busy": "2024-05-21T14:41:59.858671Z",
     "iopub.status.idle": "2024-05-21T14:42:00.056626Z",
     "shell.execute_reply": "2024-05-21T14:42:00.055517Z"
    },
    "jupyter": {
     "source_hidden": true
    },
    "papermill": {
     "duration": 0.219806,
     "end_time": "2024-05-21T14:42:00.058268",
     "exception": false,
     "start_time": "2024-05-21T14:41:59.838462",
     "status": "completed"
    },
    "tags": []
   },
   "outputs": [
    {
     "data": {
      "image/png": "[encoded data removed]",
      "text/plain": [
       "<Figure size 1000x600 with 1 Axes>"
      ]
     },
     "metadata": {},
     "output_type": "display_data"
    }
   ],
   "source": [
    "# Calculate lengths\n",
    "df['seq_length'] = df['seq'].apply(lambda x: len(x))\n",
    "\n",
    "# Separate by AB values\n",
    "positive = df[df['AB'] == 1]\n",
    "negative = df[df['AB'] == 0]\n",
    "\n",
    "# Calculate histogram data\n",
    "hist_data_pos, bin_edges_pos = np.histogram(positive['seq_length'], bins=15, density=True)\n",
    "hist_data_neg, bin_edges_neg = np.histogram(negative['seq_length'], bins=15, density=True)\n",
    "\n",
    "# Midpoints of bins\n",
    "bin_centers_pos = 0.5 * (bin_edges_pos[1:] + bin_edges_pos[:-1])\n",
    "bin_centers_neg = 0.5 * (bin_edges_neg[1:] + bin_edges_neg[:-1])\n",
    "\n",
    "# Create line plot\n",
    "plt.figure(figsize=(10, 6))\n",
    "plt.plot(bin_centers_pos, hist_data_pos, label='Positive AB', drawstyle='steps-mid')\n",
    "plt.plot(bin_centers_neg, hist_data_neg, label='Negative AB', drawstyle='steps-mid')\n",
    "plt.legend()\n",
    "plt.title('Sequence Length Distribution')\n",
    "plt.xlabel('Sequence Length')\n",
    "plt.ylabel('Density')\n",
    "plt.grid(True)\n",
    "plt.show()"
   ]
  },
  {
   "cell_type": "markdown",
   "id": "37994351-f2d9-4091-99df-83179de33ebf",
   "metadata": {
    "papermill": {
     "duration": 0.017024,
     "end_time": "2024-05-21T14:42:00.088487",
     "exception": false,
     "start_time": "2024-05-21T14:42:00.071463",
     "status": "completed"
    },
    "tags": []
   },
   "source": [
    "The length destribution is roughly the same. Meaning models cant guess based on sequence length."
   ]
  },
  {
   "cell_type": "markdown",
   "id": "124089ea-2a7a-47c8-8a32-2759cfaf6ed1",
   "metadata": {
    "papermill": {
     "duration": 0.018176,
     "end_time": "2024-05-21T14:42:00.123548",
     "exception": false,
     "start_time": "2024-05-21T14:42:00.105372",
     "status": "completed"
    },
    "tags": []
   },
   "source": [
    "# AA make up\n",
    "Goal check wether AA make up is the same with positive AB and negative AB."
   ]
  },
  {
   "cell_type": "code",
   "execution_count": 6,
   "id": "3e62baf4-d5ab-4364-af10-395112f07ff5",
   "metadata": {
    "execution": {
     "iopub.execute_input": "2024-05-21T14:42:00.161846Z",
     "iopub.status.busy": "2024-05-21T14:42:00.160964Z",
     "iopub.status.idle": "2024-05-21T14:42:02.732048Z",
     "shell.execute_reply": "2024-05-21T14:42:02.730997Z"
    },
    "jupyter": {
     "source_hidden": true
    },
    "papermill": {
     "duration": 2.593222,
     "end_time": "2024-05-21T14:42:02.734164",
     "exception": false,
     "start_time": "2024-05-21T14:42:00.140942",
     "status": "completed"
    },
    "tags": []
   },
   "outputs": [
    {
     "name": "stdout",
     "output_type": "stream",
     "text": [
      "   mean_pos   std_pos  mean_neg   std_neg\n",
      "A  0.069492  0.073380  0.070235  0.067549\n",
      "C  0.054697  0.072554  0.062752  0.085332\n",
      "D  0.025859  0.044491  0.050872  0.052559\n",
      "E  0.032890  0.049600  0.048998  0.054028\n",
      "F  0.045273  0.057649  0.044401  0.051582\n",
      "G  0.079913  0.073647  0.082883  0.065455\n",
      "H  0.021889  0.042170  0.018449  0.031171\n",
      "I  0.056303  0.059154  0.046609  0.049084\n",
      "K  0.113774  0.108401  0.066495  0.063513\n",
      "L  0.100812  0.097685  0.076560  0.067975\n",
      "M  0.014615  0.028104  0.023826  0.033158\n",
      "N  0.034931  0.041645  0.043473  0.044845\n",
      "P  0.044108  0.067637  0.058901  0.065090\n",
      "Q  0.027659  0.040941  0.032269  0.043282\n",
      "R  0.079323  0.102894  0.056227  0.069906\n",
      "S  0.051709  0.054704  0.062346  0.053929\n",
      "T  0.038540  0.047193  0.047324  0.046754\n",
      "V  0.055001  0.057482  0.058727  0.053250\n",
      "W  0.028889  0.066128  0.014460  0.030343\n",
      "Y  0.024324  0.040157  0.034194  0.042498\n"
     ]
    },
    {
     "data": {
      "image/png": "[encoded data removed]",
      "text/plain": [
       "<Figure size 1200x600 with 1 Axes>"
      ]
     },
     "metadata": {},
     "output_type": "display_data"
    }
   ],
   "source": [
    "# Calculate relative abundance\n",
    "import pandas as pd\n",
    "import numpy as np\n",
    "import matplotlib.pyplot as plt\n",
    "\n",
    "# Assuming df is provided\n",
    "df_backup = df.copy()\n",
    "\n",
    "# List of amino acids\n",
    "amino_acids = list('ACDEFGHIKLMNPQRSTVWY')\n",
    "\n",
    "# Function to calculate relative abundance of amino acids\n",
    "def calculate_abundance(seq):\n",
    "    abundance = {aa: 0 for aa in amino_acids}\n",
    "    for aa in seq:\n",
    "        if aa in abundance:\n",
    "            abundance[aa] += 1\n",
    "    seq_length = len(seq)\n",
    "    if seq_length > 0:\n",
    "        for aa in abundance:\n",
    "            abundance[aa] /= seq_length\n",
    "    return abundance\n",
    "\n",
    "# Apply the function to each sequence and create a new DataFrame\n",
    "abundance_df = df['seq'].apply(calculate_abundance).apply(pd.Series)\n",
    "\n",
    "# Merge the new DataFrame with the original DataFrame\n",
    "result_df = pd.concat([df['AB'], abundance_df], axis=1)\n",
    "\n",
    "# Separate positive and negative groups\n",
    "positive = result_df[result_df['AB'] == 1].drop(columns=['AB']).reset_index(drop=True)\n",
    "negative = result_df[result_df['AB'] == 0].drop(columns=['AB']).reset_index(drop=True)\n",
    "\n",
    "n_pos = len(positive)\n",
    "n_neg = len(negative)\n",
    "\n",
    "# Calculate means and standard deviations\n",
    "df_local = pd.concat([positive.mean(), positive.std(), negative.mean(), negative.std()], axis=1)\n",
    "df_local.columns = ['mean_pos', 'std_pos', 'mean_neg', 'std_neg']\n",
    "df_local.index = amino_acids\n",
    "\n",
    "print(df_local)\n",
    "\n",
    "# Plotting\n",
    "fig, ax = plt.subplots(figsize=(12, 6))\n",
    "\n",
    "# X-axis positions for the amino acids\n",
    "x = np.arange(len(df_local))\n",
    "\n",
    "# Plotting data points and error bars\n",
    "ax.errorbar(x - 0.1, df_local['mean_pos'], yerr=df_local['std_pos'], fmt='o', label='Positive (Mean 1)', capsize=5)\n",
    "ax.errorbar(x + 0.1, df_local['mean_neg'], yerr=df_local['std_neg'], fmt='o', label='Negative (Mean 3)', capsize=5)\n",
    "\n",
    "# Setting the labels and title\n",
    "ax.set_xlabel('Amino Acids')\n",
    "ax.set_ylabel('Relative Abundance')\n",
    "ax.set_title('Relative Abundance of Amino Acids with Error Bars')\n",
    "\n",
    "# Setting the x-ticks and labels\n",
    "ax.set_xticks(x)\n",
    "ax.set_xticklabels(df_local.index)\n",
    "\n",
    "# Adding legend\n",
    "ax.legend()\n",
    "\n",
    "# Displaying the plot\n",
    "plt.tight_layout()\n",
    "plt.show()\n"
   ]
  },
  {
   "cell_type": "markdown",
   "id": "04afbd93-a4a5-4f66-b12d-15eadc964ed4",
   "metadata": {
    "papermill": {
     "duration": 0.026454,
     "end_time": "2024-05-21T14:42:02.778244",
     "exception": false,
     "start_time": "2024-05-21T14:42:02.751790",
     "status": "completed"
    },
    "tags": []
   },
   "source": [
    "Graphic shows no large deviation per amino acid postive vs negative."
   ]
  },
  {
   "cell_type": "code",
   "execution_count": null,
   "id": "f925ffad-9039-48d3-9408-2f85bbd71e21",
   "metadata": {
    "jupyter": {
     "source_hidden": true
    },
    "papermill": {
     "duration": 0.026132,
     "end_time": "2024-05-21T14:42:02.840364",
     "exception": false,
     "start_time": "2024-05-21T14:42:02.814232",
     "status": "completed"
    },
    "tags": []
   },
   "outputs": [],
   "source": []
  }
 ],
 "metadata": {
  "kernelspec": {
   "display_name": "Python 3 (ipykernel)",
   "language": "python",
   "name": "python3"
  },
  "language_info": {
   "codemirror_mode": {
    "name": "ipython",
    "version": 3
   },
   "file_extension": ".py",
   "mimetype": "text/x-python",
   "name": "python",
   "nbconvert_exporter": "python",
   "pygments_lexer": "ipython3",
   "version": "3.11.9"
  },
  "papermill": {
   "default_parameters": {},
   "duration": 6.375904,
   "end_time": "2024-05-21T14:42:03.290080",
   "environment_variables": {},
   "exception": null,
   "input_path": "/mnt/03-EDA/DataExploration.ipynb",
   "output_path": "/mnt/03-EDA/DataExploration-executed.ipynb",
   "parameters": {
    "execution_date": "2024-05-21 14:41:55.008124+00:00",
    "virtual_env": "True"
   },
   "start_time": "2024-05-21T14:41:56.914176",
   "version": "2.6.0"
  }
 },
 "nbformat": 4,
 "nbformat_minor": 5
}