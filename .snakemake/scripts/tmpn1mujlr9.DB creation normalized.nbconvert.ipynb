{
 "cells": [
  {
   "cell_type": "code",
   "execution_count": 1,
   "id": "eac68f77",
   "metadata": {
    "execution": {
     "iopub.execute_input": "2024-05-06T15:05:09.976430Z",
     "iopub.status.busy": "2024-05-06T15:05:09.976430Z",
     "iopub.status.idle": "2024-05-06T15:05:10.011383Z",
     "shell.execute_reply": "2024-05-06T15:05:10.011383Z"
    },
    "tags": [
     "snakemake-job-properties"
    ]
   },
   "outputs": [],
   "source": [
    "\n",
    "######## snakemake preamble start (automatically inserted, do not edit) ########\n",
    "import sys; sys.path.extend(['C:\\\\Users\\\\Etienne\\\\AppData\\\\Local\\\\Programs\\\\Python\\\\Python311\\\\Lib\\\\site-packages', 'Z:\\\\projects\\\\dc_project', 'C:\\\\Users\\\\Etienne\\\\AppData\\\\Local\\\\Programs\\\\Python\\\\Python311\\\\DLLs', 'C:\\\\Users\\\\Etienne\\\\AppData\\\\Local\\\\Programs\\\\Python\\\\Python311\\\\Lib', 'C:\\\\Users\\\\Etienne\\\\AppData\\\\Local\\\\Programs\\\\Python\\\\Python311', 'C:\\\\Users\\\\Etienne\\\\AppData\\\\Roaming\\\\Python\\\\Python311\\\\site-packages', 'C:\\\\Users\\\\Etienne\\\\AppData\\\\Local\\\\Programs\\\\Python\\\\Python311\\\\Lib\\\\site-packages', 'C:\\\\Users\\\\Etienne\\\\AppData\\\\Local\\\\Programs\\\\Python\\\\Python311\\\\Lib\\\\site-packages\\\\win32', 'C:\\\\Users\\\\Etienne\\\\AppData\\\\Local\\\\Programs\\\\Python\\\\Python311\\\\Lib\\\\site-packages\\\\win32\\\\lib', 'C:\\\\Users\\\\Etienne\\\\AppData\\\\Local\\\\Programs\\\\Python\\\\Python311\\\\Lib\\\\site-packages\\\\Pythonwin', 'Z:\\\\projects\\\\dc_project\\\\02 - Data Curation', 'Z:\\\\projects\\\\dc_project\\\\02 - Data Curation']); import pickle; snakemake = pickle.loads(b'\\x80\\x04\\x95P\\x04\\x00\\x00\\x00\\x00\\x00\\x00\\x8c\\x10snakemake.script\\x94\\x8c\\tSnakemake\\x94\\x93\\x94)\\x81\\x94}\\x94(\\x8c\\x05input\\x94\\x8c\\x0csnakemake.io\\x94\\x8c\\nInputFiles\\x94\\x93\\x94)\\x81\\x94(\\x8c%01 - Data Extraction/data_pos_neg.csv\\x94\\x8c/02 - Data Curation/DB creation normalized.ipynb\\x94e}\\x94(\\x8c\\x06_names\\x94}\\x94\\x8c\\x12_allowed_overrides\\x94]\\x94(\\x8c\\x05index\\x94\\x8c\\x04sort\\x94eh\\x11\\x8c\\tfunctools\\x94\\x8c\\x07partial\\x94\\x93\\x94h\\x06\\x8c\\x19Namedlist._used_attribute\\x94\\x93\\x94\\x85\\x94R\\x94(h\\x17)}\\x94\\x8c\\x05_name\\x94h\\x11sNt\\x94bh\\x12h\\x15h\\x17\\x85\\x94R\\x94(h\\x17)}\\x94h\\x1bh\\x12sNt\\x94bub\\x8c\\x06output\\x94h\\x06\\x8c\\x0bOutputFiles\\x94\\x93\\x94)\\x81\\x94\\x8c\\x1d02 - Data Curation/unified.db\\x94a}\\x94(h\\r}\\x94h\\x0f]\\x94(h\\x11h\\x12eh\\x11h\\x15h\\x17\\x85\\x94R\\x94(h\\x17)}\\x94h\\x1bh\\x11sNt\\x94bh\\x12h\\x15h\\x17\\x85\\x94R\\x94(h\\x17)}\\x94h\\x1bh\\x12sNt\\x94bub\\x8c\\x06params\\x94h\\x06\\x8c\\x06Params\\x94\\x93\\x94)\\x81\\x94}\\x94(h\\r}\\x94h\\x0f]\\x94(h\\x11h\\x12eh\\x11h\\x15h\\x17\\x85\\x94R\\x94(h\\x17)}\\x94h\\x1bh\\x11sNt\\x94bh\\x12h\\x15h\\x17\\x85\\x94R\\x94(h\\x17)}\\x94h\\x1bh\\x12sNt\\x94bub\\x8c\\twildcards\\x94h\\x06\\x8c\\tWildcards\\x94\\x93\\x94)\\x81\\x94}\\x94(h\\r}\\x94h\\x0f]\\x94(h\\x11h\\x12eh\\x11h\\x15h\\x17\\x85\\x94R\\x94(h\\x17)}\\x94h\\x1bh\\x11sNt\\x94bh\\x12h\\x15h\\x17\\x85\\x94R\\x94(h\\x17)}\\x94h\\x1bh\\x12sNt\\x94bub\\x8c\\x07threads\\x94K\\x01\\x8c\\tresources\\x94h\\x06\\x8c\\tResources\\x94\\x93\\x94)\\x81\\x94(K\\x01K\\x01\\x8c#C:\\\\Users\\\\Etienne\\\\AppData\\\\Local\\\\Temp\\x94e}\\x94(h\\r}\\x94(\\x8c\\x06_cores\\x94K\\x00N\\x86\\x94\\x8c\\x06_nodes\\x94K\\x01N\\x86\\x94\\x8c\\x06tmpdir\\x94K\\x02N\\x86\\x94uh\\x0f]\\x94(h\\x11h\\x12eh\\x11h\\x15h\\x17\\x85\\x94R\\x94(h\\x17)}\\x94h\\x1bh\\x11sNt\\x94bh\\x12h\\x15h\\x17\\x85\\x94R\\x94(h\\x17)}\\x94h\\x1bh\\x12sNt\\x94bhWK\\x01hYK\\x01h[hTub\\x8c\\x03log\\x94h\\x06\\x8c\\x03Log\\x94\\x93\\x94)\\x81\\x94\\x8c\\x18logs/create_database.log\\x94a}\\x94(h\\r}\\x94h\\x0f]\\x94(h\\x11h\\x12eh\\x11h\\x15h\\x17\\x85\\x94R\\x94(h\\x17)}\\x94h\\x1bh\\x11sNt\\x94bh\\x12h\\x15h\\x17\\x85\\x94R\\x94(h\\x17)}\\x94h\\x1bh\\x12sNt\\x94bub\\x8c\\x06config\\x94}\\x94\\x8c\\x04rule\\x94\\x8c\\x0fcreate_database\\x94\\x8c\\x0fbench_iteration\\x94N\\x8c\\tscriptdir\\x94\\x8c)Z:\\\\projects\\\\dc_project\\\\02 - Data Curation\\x94ub.'); from snakemake.logging import logger; logger.printshellcmds = False; import os; os.chdir(r'Z:\\projects\\dc_project');\n",
    "######## snakemake preamble end #########\n"
   ]
  },
  {
   "cell_type": "markdown",
   "id": "1a315299",
   "metadata": {},
   "source": [
    "# Create SQLite database\n",
    "For better efficency in storing and a unfied db for all teammembers to use. Idea is to use this as a universal starting point for every analysis\n"
   ]
  },
  {
   "cell_type": "code",
   "execution_count": 2,
   "id": "33d7fa9b",
   "metadata": {
    "execution": {
     "iopub.execute_input": "2024-05-06T15:05:10.013940Z",
     "iopub.status.busy": "2024-05-06T15:05:10.011383Z",
     "iopub.status.idle": "2024-05-06T15:05:10.394319Z",
     "shell.execute_reply": "2024-05-06T15:05:10.394319Z"
    }
   },
   "outputs": [
    {
     "data": {
      "text/plain": [
       "12864"
      ]
     },
     "execution_count": 2,
     "metadata": {},
     "output_type": "execute_result"
    }
   ],
   "source": [
    "import sqlite3\n",
    "import pandas as pd\n",
    "import os\n",
    "\n",
    "\n",
    "# Creating empty data base\n",
    "con = sqlite3.connect(\"./02 - Data Curation/unified.db\")\n",
    "cur = con.cursor()\n",
    "\n",
    "# Load data from CSV into a pandas DataFrame\n",
    "df = pd.read_csv(\"./01 - Data Extraction/data_pos_neg.csv\")\n",
    "\n",
    "# Write the data from pandas DataFrame to SQL table\n",
    "df.to_sql(\"initial\", con, if_exists='replace', index=False)"
   ]
  },
  {
   "cell_type": "markdown",
   "id": "0ba5de11",
   "metadata": {},
   "source": [
    "# Validate no data was lost during transfer"
   ]
  },
  {
   "cell_type": "code",
   "execution_count": 3,
   "id": "1b97eea1",
   "metadata": {
    "execution": {
     "iopub.execute_input": "2024-05-06T15:05:10.394319Z",
     "iopub.status.busy": "2024-05-06T15:05:10.394319Z",
     "iopub.status.idle": "2024-05-06T15:05:10.404128Z",
     "shell.execute_reply": "2024-05-06T15:05:10.403475Z"
    }
   },
   "outputs": [
    {
     "name": "stdout",
     "output_type": "stream",
     "text": [
      "Found 12864 in csv files.\n",
      "Found 12864 in sqlite db.\n",
      "meaning that 100.0 % was transfered\n"
     ]
    },
    {
     "name": "stderr",
     "output_type": "stream",
     "text": [
      "C:\\Users\\Etienne\\AppData\\Local\\Temp\\ipykernel_22292\\655335126.py:1: FutureWarning: Series.__getitem__ treating keys as positions is deprecated. In a future version, integer keys will always be treated as labels (consistent with DataFrame behavior). To access a value by position, use `ser.iloc[pos]`\n",
      "  amount_in_csv =  df.count()[0]\n"
     ]
    }
   ],
   "source": [
    "amount_in_csv =  df.count()[0]\n",
    "cur.execute(\"SELECT count(*) from initial;\")\n",
    "amount_in_db = cur.fetchone()[0]\n",
    "\n",
    "print(f\"Found {amount_in_csv} in csv files.\\nFound {amount_in_db} in sqlite db.\\nmeaning that {amount_in_db / amount_in_csv * 100} % was transfered\")"
   ]
  }
 ],
 "metadata": {
  "kernelspec": {
   "display_name": "Python 3",
   "language": "python",
   "name": "python3"
  },
  "language_info": {
   "codemirror_mode": {
    "name": "ipython",
    "version": 3
   },
   "file_extension": ".py",
   "mimetype": "text/x-python",
   "name": "python",
   "nbconvert_exporter": "python",
   "pygments_lexer": "ipython3",
   "version": "3.11.3"
  }
 },
 "nbformat": 4,
 "nbformat_minor": 5
}
